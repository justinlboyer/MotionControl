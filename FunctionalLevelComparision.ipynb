{
 "cells": [
  {
   "cell_type": "markdown",
   "metadata": {},
   "source": [
    "# Functional Level Comparision\n",
    "\n",
    "This notebook computes the opus and weighted opus score for the following:\n",
    "1. Electric Hook Type TD\n",
    "    * vs. all types of Electric Hand\n",
    "    * vs. Electric single grip hand\n",
    "    * vs. body-powered TD\n",
    "    * vs. Electric multi-articulating hand\n",
    "2. Motion Control ETD\n",
    "    * vs. electric hooks\n",
    "3. Multi-articulating hands    \n",
    "    * vs. Electric single grip hand\n",
    "    * vs. Body-powered TD"
   ]
  },
  {
   "cell_type": "code",
   "execution_count": 1,
   "metadata": {
    "collapsed": false
   },
   "outputs": [
    {
     "name": "stdout",
     "output_type": "stream",
     "text": [
      "There are 0 duplicates\n"
     ]
    }
   ],
   "source": [
    "import pandas as pd\n",
    "import numpy as np\n",
    "from scipy import stats\n",
    "import matplotlib.pyplot as plt\n",
    "from driverCleanData import cleanData\n",
    "%matplotlib inline\n",
    "[sht,_] = cleanData();\n",
    "newData = pd.read_csv('./newData.csv', names=[\"Index\",\"Score\"])"
   ]
  },
  {
   "cell_type": "markdown",
   "metadata": {},
   "source": [
    "## Electric Hook TD\n",
    "### vs. all types of Electric Hand\n",
    "\n"
   ]
  },
  {
   "cell_type": "code",
   "execution_count": 2,
   "metadata": {
    "collapsed": false
   },
   "outputs": [
    {
     "data": {
      "text/plain": [
       "count          476\n",
       "unique           6\n",
       "top       35 to 44\n",
       "freq           186\n",
       "Name: Age, dtype: object"
      ]
     },
     "execution_count": 2,
     "metadata": {},
     "output_type": "execute_result"
    }
   ],
   "source": [
    "sht = sht.loc[newData.index]\n",
    "sht.Age.describe()"
   ]
  },
  {
   "cell_type": "code",
   "execution_count": 3,
   "metadata": {
    "collapsed": false
   },
   "outputs": [
    {
     "name": "stdout",
     "output_type": "stream",
     "text": [
      "Electric hooks are: ['Motion Control (MC) ETD', 'Otto Bock Axon Hook', 'Otto Bock Greifer']\n",
      "\n",
      "Electric hands - multi articulating are ['bebionic Hand', 'i-limb Hand', 'Michelangelo Hand']\n",
      "\n",
      "Electric hands - single grip are ['Motion Control (MC) Hand', 'Otto Bock Hand']\n"
     ]
    }
   ],
   "source": [
    "from vectorSubsets import electricHooks, electricHandMA, electricHandSG\n",
    "print(\"Electric hooks are: {0}\".format(electricHooks))\n",
    "print()\n",
    "print(\"Electric hands - multi articulating are {0}\".format(electricHandMA))\n",
    "print()\n",
    "print(\"Electric hands - single grip are {0}\".format(electricHandSG))"
   ]
  },
  {
   "cell_type": "code",
   "execution_count": 64,
   "metadata": {
    "collapsed": false
   },
   "outputs": [],
   "source": [
    "sht[\"opusEHo\"] = sht.opusScore[sht[\"PrimaryTerminalDevice\"].isin(electricHooks)]\n",
    "sht[\"opusAllEHa\"] = sht.opusScore[sht[\"PrimaryTerminalDevice\"].isin(electricHandMA and electricHandSG)].dropna()"
   ]
  },
  {
   "cell_type": "markdown",
   "metadata": {},
   "source": [
    "#### Summary Stats\n",
    "\n",
    "First up the electric hooks"
   ]
  },
  {
   "cell_type": "code",
   "execution_count": 65,
   "metadata": {
    "collapsed": false
   },
   "outputs": [
    {
     "data": {
      "text/plain": [
       "count    42.000000\n",
       "mean     59.857143\n",
       "std       9.335407\n",
       "min      33.000000\n",
       "25%      54.250000\n",
       "50%      58.000000\n",
       "75%      67.000000\n",
       "max      78.000000\n",
       "Name: opusEHo, dtype: float64"
      ]
     },
     "execution_count": 65,
     "metadata": {},
     "output_type": "execute_result"
    }
   ],
   "source": [
    "sht.opusEHo.dropna().describe()"
   ]
  },
  {
   "cell_type": "markdown",
   "metadata": {},
   "source": [
    "Now for the electric hands"
   ]
  },
  {
   "cell_type": "code",
   "execution_count": 66,
   "metadata": {
    "collapsed": false
   },
   "outputs": [
    {
     "data": {
      "text/plain": [
       "count    205.000000\n",
       "mean      60.400000\n",
       "std        8.661726\n",
       "min       33.000000\n",
       "25%       53.000000\n",
       "50%       59.000000\n",
       "75%       68.000000\n",
       "max       78.000000\n",
       "Name: opusAllEHa, dtype: float64"
      ]
     },
     "execution_count": 66,
     "metadata": {},
     "output_type": "execute_result"
    }
   ],
   "source": [
    "sht.opusAllEHa.dropna().describe()"
   ]
  },
  {
   "cell_type": "markdown",
   "metadata": {},
   "source": [
    "\n",
    "#### Histogram\n"
   ]
  },
  {
   "cell_type": "code",
   "execution_count": 67,
   "metadata": {
    "collapsed": false
   },
   "outputs": [
    {
     "data": {
      "image/png": "[encoded data removed]",
      "text/plain": [
       "<matplotlib.figure.Figure at 0x129a106b3c8>"
      ]
     },
     "metadata": {},
     "output_type": "display_data"
    }
   ],
   "source": [
    "plt.hist(sht.opusAllEHa.dropna(), alpha=0.6, color='b', label = \"All electric hands\")\n",
    "plt.hist(sht.opusEHo.dropna(), alpha=0.6, color='r', label = \"All electric hooks\")\n",
    "plt.title(\"Opus Score of Electric hooks vs. electric hands\")\n",
    "plt.legend()\n",
    "plt.show()"
   ]
  },
  {
   "cell_type": "markdown",
   "metadata": {},
   "source": [
    "Looks like we might have some significance, however the limited sample of electric hooks will limit our conclusions."
   ]
  },
  {
   "cell_type": "code",
   "execution_count": 8,
   "metadata": {
    "collapsed": false
   },
   "outputs": [
    {
     "data": {
      "text/plain": [
       "Ttest_indResult(statistic=0.052357475980177468, pvalue=0.95830796726417389)"
      ]
     },
     "execution_count": 8,
     "metadata": {},
     "output_type": "execute_result"
    }
   ],
   "source": [
    "stats.ttest_ind(sht.opusAllEHa.dropna(), sht.opusEHo.dropna())"
   ]
  },
  {
   "cell_type": "markdown",
   "metadata": {},
   "source": [
    "The higher mean score on Opus of electric hooks compared to electric hands is significant."
   ]
  },
  {
   "cell_type": "markdown",
   "metadata": {},
   "source": [
    "### Weighted Opus"
   ]
  },
  {
   "cell_type": "code",
   "execution_count": 9,
   "metadata": {
    "collapsed": true
   },
   "outputs": [],
   "source": [
    "sht[\"opusEHoWeighted\"] = sht.weightedOpusScore[sht[\"PrimaryTerminalDevice\"].isin(electricHooks)]\n",
    "sht[\"opusAllEHaWeighted\"] = sht.weightedOpusScore[sht[\"PrimaryTerminalDevice\"].isin(electricHandMA or electricHandSG)].dropna()"
   ]
  },
  {
   "cell_type": "markdown",
   "metadata": {},
   "source": [
    "#### Histogram"
   ]
  },
  {
   "cell_type": "code",
   "execution_count": 10,
   "metadata": {
    "collapsed": false
   },
   "outputs": [
    {
     "data": {
      "image/png": "[encoded data removed]",
      "text/plain": [
       "<matplotlib.figure.Figure at 0x1299ec42898>"
      ]
     },
     "metadata": {},
     "output_type": "display_data"
    }
   ],
   "source": [
    "plt.hist(sht.opusAllEHaWeighted.dropna(), alpha=0.6, color='b', label = \"All electric hands\")\n",
    "plt.hist(sht.opusEHoWeighted.dropna(), alpha=0.6, color='r', label = \"All electric hooks\")\n",
    "plt.title(\"Weighted Opus Score of Electric hooks vs. electric hands\")\n",
    "plt.legend()\n",
    "plt.show()"
   ]
  },
  {
   "cell_type": "markdown",
   "metadata": {},
   "source": [
    "Looks good, let's take a look at summary stats"
   ]
  },
  {
   "cell_type": "code",
   "execution_count": 11,
   "metadata": {
    "collapsed": false
   },
   "outputs": [
    {
     "name": "stdout",
     "output_type": "stream",
     "text": [
      "count    123.000000\n",
      "mean      91.422764\n",
      "std       17.745010\n",
      "min       42.000000\n",
      "25%       82.500000\n",
      "50%       89.000000\n",
      "75%       97.000000\n",
      "max      143.000000\n",
      "Name: opusAllEHaWeighted, dtype: float64\n",
      "\n",
      "count     42.00000\n",
      "mean      90.00000\n",
      "std       15.90674\n",
      "min       53.00000\n",
      "25%       81.00000\n",
      "50%       85.50000\n",
      "75%      100.50000\n",
      "max      129.00000\n",
      "Name: opusEHoWeighted, dtype: float64\n"
     ]
    }
   ],
   "source": [
    "print(sht.opusAllEHaWeighted.dropna().describe())\n",
    "print()\n",
    "print(sht.opusEHoWeighted.dropna().describe())"
   ]
  },
  {
   "cell_type": "code",
   "execution_count": 12,
   "metadata": {
    "collapsed": false
   },
   "outputs": [
    {
     "data": {
      "text/plain": [
       "Ttest_indResult(statistic=0.46014688548078536, pvalue=0.64602401581183644)"
      ]
     },
     "execution_count": 12,
     "metadata": {},
     "output_type": "execute_result"
    }
   ],
   "source": [
    "stats.ttest_ind(sht.opusAllEHaWeighted.dropna(), sht.opusEHoWeighted.dropna())"
   ]
  },
  {
   "cell_type": "markdown",
   "metadata": {},
   "source": [
    "We don't have significance at the 0.05 level"
   ]
  },
  {
   "cell_type": "markdown",
   "metadata": {},
   "source": [
    "## vs. Electric single grip hand"
   ]
  },
  {
   "cell_type": "code",
   "execution_count": 13,
   "metadata": {
    "collapsed": false
   },
   "outputs": [
    {
     "name": "stdout",
     "output_type": "stream",
     "text": [
      "The types of devices we are considering as electric hands are ['Motion Control (MC) Hand', 'Otto Bock Hand']\n",
      "\n",
      "The mean of the electric hooks opus is 59.857142857142854\n",
      "\n",
      "The summary stats for the single grip are\n",
      "count    205.000000\n",
      "mean      60.400000\n",
      "std        8.661726\n",
      "min       33.000000\n",
      "25%       53.000000\n",
      "50%       59.000000\n",
      "75%       68.000000\n",
      "max       78.000000\n",
      "Name: opusElecSG, dtype: float64\n"
     ]
    }
   ],
   "source": [
    "sht[\"opusElecSG\"] = sht.opusScore[sht[\"PrimaryTerminalDevice\"].isin(electricHandSG)]\n",
    "print(\"The types of devices we are considering as electric hands are {0}\".format(electricHandSG))\n",
    "print()\n",
    "print(\"The mean of the electric hooks opus is {0}\".format(sht.opusEHo.dropna().mean()))\n",
    "print()\n",
    "print(\"The summary stats for the single grip are\")\n",
    "print(sht.opusElecSG.dropna().describe())\n",
    "\n",
    "# create weighted for later use\n",
    "sht[\"opusElecSGWeighted\"] = sht.weightedOpusScore[sht[\"PrimaryTerminalDevice\"].isin(electricHandSG)]"
   ]
  },
  {
   "cell_type": "code",
   "execution_count": 14,
   "metadata": {
    "collapsed": false
   },
   "outputs": [
    {
     "data": {
      "text/plain": [
       "Ttest_indResult(statistic=-0.3651234810449811, pvalue=0.71533423175791877)"
      ]
     },
     "execution_count": 14,
     "metadata": {},
     "output_type": "execute_result"
    }
   ],
   "source": [
    "stats.ttest_ind(sht.opusEHo.dropna(), sht.opusElecSG.dropna())"
   ]
  },
  {
   "cell_type": "markdown",
   "metadata": {},
   "source": [
    "The higher mean score for electric hooks compared to single grip is signficant."
   ]
  },
  {
   "cell_type": "markdown",
   "metadata": {},
   "source": [
    "#### Histograms\n"
   ]
  },
  {
   "cell_type": "code",
   "execution_count": 15,
   "metadata": {
    "collapsed": false
   },
   "outputs": [
    {
     "data": {
      "image/png": "[encoded data removed]",
      "text/plain": [
       "<matplotlib.figure.Figure at 0x1299f66ea58>"
      ]
     },
     "metadata": {},
     "output_type": "display_data"
    }
   ],
   "source": [
    "plt.hist(sht.opusElecSG.dropna(), color='b', alpha=0.6, label = \"Single grip electric hooks\")\n",
    "plt.hist(sht.opusEHo.dropna(), color='r', alpha=0.6, label = \"Electric hooks\")\n",
    "plt.title(\"Weighted Opus Score of Electric hooks vs. electric hands\")\n",
    "plt.legend()\n",
    "plt.show()"
   ]
  },
  {
   "cell_type": "markdown",
   "metadata": {},
   "source": [
    "## vs. Body Powered Hooks"
   ]
  },
  {
   "cell_type": "code",
   "execution_count": 16,
   "metadata": {
    "collapsed": false
   },
   "outputs": [
    {
     "data": {
      "text/plain": [
       "count    93.000000\n",
       "mean     60.129032\n",
       "std       8.740493\n",
       "min      31.000000\n",
       "25%      55.000000\n",
       "50%      59.000000\n",
       "75%      66.000000\n",
       "max      77.000000\n",
       "Name: opusBPHook, dtype: float64"
      ]
     },
     "execution_count": 16,
     "metadata": {},
     "output_type": "execute_result"
    }
   ],
   "source": [
    "from vectorSubsets import bodyPoweredHooks\n",
    "sht[\"opusBPHook\"] = sht.opusScore[sht[\"PrimaryTerminalDevice\"].isin(bodyPoweredHooks)]\n",
    "sht.opusBPHook.dropna().describe()"
   ]
  },
  {
   "cell_type": "code",
   "execution_count": 17,
   "metadata": {
    "collapsed": false
   },
   "outputs": [
    {
     "data": {
      "text/plain": [
       "Ttest_indResult(statistic=-0.16380672958166542, pvalue=0.87013195802907772)"
      ]
     },
     "execution_count": 17,
     "metadata": {},
     "output_type": "execute_result"
    }
   ],
   "source": [
    "stats.ttest_ind(sht.opusEHo.dropna(), sht.opusBPHook.dropna())"
   ]
  },
  {
   "cell_type": "markdown",
   "metadata": {},
   "source": [
    "Can't reject the null at alpha=0.05"
   ]
  },
  {
   "cell_type": "markdown",
   "metadata": {},
   "source": [
    "### Weighted Opus"
   ]
  },
  {
   "cell_type": "code",
   "execution_count": 18,
   "metadata": {
    "collapsed": false
   },
   "outputs": [
    {
     "name": "stdout",
     "output_type": "stream",
     "text": [
      "The mean of w.o. for body poweres is 88.82795698924731\n",
      "The mean for w.o. for electric hooks is 90.0\n",
      "\n",
      "Ttest_indResult(statistic=-0.3482801658646561, pvalue=0.72818045063653369)\n"
     ]
    }
   ],
   "source": [
    "sht[\"opusBPHookWeighted\"] = sht.weightedOpusScore[sht[\"PrimaryTerminalDevice\"].isin(bodyPoweredHooks)]\n",
    "print(\"The mean of w.o. for body poweres is {0}\".format(sht.opusBPHookWeighted.dropna().mean()))\n",
    "print(\"The mean for w.o. for electric hooks is {0}\".format(sht.opusEHoWeighted.dropna().mean()))\n",
    "print()\n",
    "print(stats.ttest_ind(sht.opusBPHookWeighted.dropna(), sht.opusEHoWeighted.dropna()))"
   ]
  },
  {
   "cell_type": "markdown",
   "metadata": {},
   "source": [
    "Very simiar to standard opus"
   ]
  },
  {
   "cell_type": "markdown",
   "metadata": {},
   "source": [
    "## vs. Multi-articulating Hands"
   ]
  },
  {
   "cell_type": "code",
   "execution_count": 19,
   "metadata": {
    "collapsed": false
   },
   "outputs": [
    {
     "name": "stdout",
     "output_type": "stream",
     "text": [
      "The summary stats for multi-articulating are:\n",
      "count    123.000000\n",
      "mean      59.943089\n",
      "std        9.134066\n",
      "min       28.000000\n",
      "25%       54.000000\n",
      "50%       57.000000\n",
      "75%       66.500000\n",
      "max       79.000000\n",
      "Name: opusMA, dtype: float64\n"
     ]
    }
   ],
   "source": [
    "from vectorSubsets import electricHandMA\n",
    "sht[\"opusMA\"] = sht.opusScore[sht[\"PrimaryTerminalDevice\"].isin(electricHandMA)]\n",
    "print(\"The summary stats for multi-articulating are:\")\n",
    "print(sht.opusMA.dropna().describe())"
   ]
  },
  {
   "cell_type": "code",
   "execution_count": 20,
   "metadata": {
    "collapsed": false
   },
   "outputs": [
    {
     "data": {
      "image/png": "[encoded data removed]",
      "text/plain": [
       "<matplotlib.figure.Figure at 0x1299f732198>"
      ]
     },
     "metadata": {},
     "output_type": "display_data"
    }
   ],
   "source": [
    "plt.hist(sht.opusMA.dropna(), alpha=0.6, color='b', label = \"Multi-articulating electric hands\")\n",
    "plt.hist(sht.opusEHo.dropna(), alpha=0.6, color='r', label = \"Electric hooks\")\n",
    "plt.title(\"Weighted Opus Score of Electric hooks vs. electric hands\")\n",
    "plt.legend()\n",
    "plt.show()"
   ]
  },
  {
   "cell_type": "code",
   "execution_count": 21,
   "metadata": {
    "collapsed": false
   },
   "outputs": [
    {
     "data": {
      "text/plain": [
       "Ttest_indResult(statistic=-0.052357475980177468, pvalue=0.95830796726417389)"
      ]
     },
     "execution_count": 21,
     "metadata": {},
     "output_type": "execute_result"
    }
   ],
   "source": [
    "stats.ttest_ind(sht.opusEHo.dropna(),sht.opusMA.dropna())"
   ]
  },
  {
   "cell_type": "markdown",
   "metadata": {},
   "source": [
    "The higher mean score of the multi-articulating is significant compared to electric hooks."
   ]
  },
  {
   "cell_type": "markdown",
   "metadata": {},
   "source": [
    "### Weighted Opus"
   ]
  },
  {
   "cell_type": "code",
   "execution_count": 22,
   "metadata": {
    "collapsed": false
   },
   "outputs": [
    {
     "name": "stdout",
     "output_type": "stream",
     "text": [
      "The average on the w.o. for the electric hooks is 90.0\n",
      "The average on the w.o. for the multi-articulating hands is 91.42276422764228\n",
      "\n",
      "Ttest_indResult(statistic=0.46014688548078536, pvalue=0.64602401581183644)\n"
     ]
    }
   ],
   "source": [
    "sht[\"opusMAWeighted\"] = sht.weightedOpusScore[sht[\"PrimaryTerminalDevice\"].isin(electricHandMA)]\n",
    "print(\"The average on the w.o. for the electric hooks is {0}\".format(sht.opusEHoWeighted.dropna().mean()))\n",
    "print(\"The average on the w.o. for the multi-articulating hands is {0}\".format(sht.opusMAWeighted.dropna().mean()))\n",
    "print()\n",
    "print(stats.ttest_ind(sht.opusMAWeighted.dropna(), sht.opusEHoWeighted.dropna()))"
   ]
  },
  {
   "cell_type": "markdown",
   "metadata": {},
   "source": [
    "Not significant"
   ]
  },
  {
   "cell_type": "markdown",
   "metadata": {},
   "source": [
    "# Motion Control ETD vs. All Electric Hooks"
   ]
  },
  {
   "cell_type": "code",
   "execution_count": 23,
   "metadata": {
    "collapsed": false
   },
   "outputs": [
    {
     "name": "stdout",
     "output_type": "stream",
     "text": [
      "The electric hooks we are considering are: ['Otto Bock Greifer', 'Otto Bock Axon Hook']\n",
      "The number of participants are 10\n",
      "\n",
      "The average score on opus for the ETD is 58.15625\n",
      "The average score on opus for the electric hooks is 65.3\n",
      "\n",
      "Ttest_indResult(statistic=-2.2100307698328723, pvalue=0.032887979313563652)\n"
     ]
    }
   ],
   "source": [
    "sht[\"opusETD\"] = sht.opusScore[sht[\"PrimaryTerminalDevice\"]==\"Motion Control (MC) ETD\"]\n",
    "from vectorSubsets import electricHooksNoETD\n",
    "sht[\"opusElecNoETD\"] = sht.opusScore[sht[\"PrimaryTerminalDevice\"].isin(electricHooksNoETD)]\n",
    "print(\"The electric hooks we are considering are: {0}\".format(electricHooksNoETD))\n",
    "print(\"The number of participants are {0}\".format(sht.opusElecNoETD.dropna().count()))\n",
    "print()\n",
    "print(\"The average score on opus for the ETD is {0}\".format(sht.opusETD.dropna().mean()))\n",
    "print(\"The average score on opus for the electric hooks is {0}\".format(sht.opusElecNoETD.dropna().mean()))\n",
    "print()\n",
    "print(stats.ttest_ind(sht.opusETD.dropna(), sht.opusElecNoETD.dropna()))"
   ]
  },
  {
   "cell_type": "markdown",
   "metadata": {},
   "source": [
    "This result is significant and unfortunately unfavorable for the ETD.  this could change though if the sample for non etd electric hook increased.\n",
    "\n",
    "Let's look at the histogram"
   ]
  },
  {
   "cell_type": "code",
   "execution_count": 24,
   "metadata": {
    "collapsed": false
   },
   "outputs": [
    {
     "data": {
      "image/png": "[encoded data removed]",
      "text/plain": [
       "<matplotlib.figure.Figure at 0x1299f7fcb38>"
      ]
     },
     "metadata": {},
     "output_type": "display_data"
    }
   ],
   "source": [
    "plt.hist(sht.opusETD.dropna(), alpha=0.6, color='b', label = \"Motion Control ETD\")\n",
    "plt.hist(sht.opusElecNoETD.dropna(), alpha=0.6, color='r', label = \"Electric hooks Not ETD\")\n",
    "plt.title(\"Opus Score of Electric hooks No ETD vs. Motion Control ETD\")\n",
    "plt.legend()\n",
    "plt.show()"
   ]
  },
  {
   "cell_type": "markdown",
   "metadata": {},
   "source": [
    "### Weighted Opus"
   ]
  },
  {
   "cell_type": "code",
   "execution_count": 25,
   "metadata": {
    "collapsed": false
   },
   "outputs": [
    {
     "name": "stdout",
     "output_type": "stream",
     "text": [
      "The electric hooks we are considering are: ['Otto Bock Greifer', 'Otto Bock Axon Hook']\n",
      "The number of participants are 10\n",
      "\n",
      "The average score on w.o. for the ETD is 86.375\n",
      "The average score on w.o. for the electric hooks is 101.6\n",
      "\n",
      "Ttest_indResult(statistic=-2.8647652132003101, pvalue=0.0066187534856621318)\n"
     ]
    }
   ],
   "source": [
    "sht[\"opusETDWeighted\"] = sht.weightedOpusScore[sht[\"PrimaryTerminalDevice\"]==\"Motion Control (MC) ETD\"]\n",
    "sht[\"opusElecNoETDWeighted\"] = sht.weightedOpusScore[sht[\"PrimaryTerminalDevice\"].isin(electricHooksNoETD)]\n",
    "print(\"The electric hooks we are considering are: {0}\".format(electricHooksNoETD))\n",
    "print(\"The number of participants are {0}\".format(sht.opusElecNoETDWeighted.dropna().count()))\n",
    "print()\n",
    "print(\"The average score on w.o. for the ETD is {0}\".format(sht.opusETDWeighted.dropna().mean()))\n",
    "print(\"The average score on w.o. for the electric hooks is {0}\".format(sht.opusElecNoETDWeighted.dropna().mean()))\n",
    "print()\n",
    "print(stats.ttest_ind(sht.opusETDWeighted.dropna(), sht.opusElecNoETDWeighted.dropna()))"
   ]
  },
  {
   "cell_type": "markdown",
   "metadata": {},
   "source": [
    "Again, we have significance at alpha=0.05, an unfortunate result for the ETD."
   ]
  },
  {
   "cell_type": "code",
   "execution_count": 26,
   "metadata": {
    "collapsed": false
   },
   "outputs": [
    {
     "data": {
      "image/png": "[encoded data removed]",
      "text/plain": [
       "<matplotlib.figure.Figure at 0x1299f64c7b8>"
      ]
     },
     "metadata": {},
     "output_type": "display_data"
    }
   ],
   "source": [
    "plt.hist(sht.opusETDWeighted.dropna(), alpha=0.6, color='b', label = \"Motion Control ETD\")\n",
    "plt.hist(sht.opusElecNoETDWeighted.dropna(), alpha=0.6, color='r', label = \"Electric Hooks Not ETD\")\n",
    "plt.title(\"Weighted Opus Score of Electric hooks No ETD vs. Motion Control ETD\")\n",
    "plt.legend()\n",
    "plt.show()"
   ]
  },
  {
   "cell_type": "markdown",
   "metadata": {},
   "source": [
    "## Multi-articulating hands\n",
    "### vs. Single Grip hands"
   ]
  },
  {
   "cell_type": "code",
   "execution_count": 27,
   "metadata": {
    "collapsed": false
   },
   "outputs": [
    {
     "name": "stdout",
     "output_type": "stream",
     "text": [
      "The hands in the multi-articulating group are ['bebionic Hand', 'i-limb Hand', 'Michelangelo Hand']\n",
      "\n",
      "The hands in the single grip group are ['Motion Control (MC) Hand', 'Otto Bock Hand']\n",
      "\n",
      "The average score on opus for the multi-articulating is 59.94308943089431\n",
      "The average score on opus for the single grip is 60.4\n",
      "\n",
      "Ttest_indResult(statistic=-0.45310667562040841, pvalue=0.65077335423455507)\n"
     ]
    }
   ],
   "source": [
    "print(\"The hands in the multi-articulating group are {0}\".format(electricHandMA))\n",
    "print()\n",
    "print(\"The hands in the single grip group are {0}\".format(electricHandSG))\n",
    "print()\n",
    "print(\"The average score on opus for the multi-articulating is {0}\".format(sht.opusMA.dropna().mean()))\n",
    "print(\"The average score on opus for the single grip is {0}\".format(sht.opusElecSG.dropna().mean()))\n",
    "print()\n",
    "print(stats.ttest_ind(sht.opusMA.dropna(), sht.opusElecSG.dropna()))"
   ]
  },
  {
   "cell_type": "markdown",
   "metadata": {},
   "source": [
    "The higher score on the single grip hands is not significant."
   ]
  },
  {
   "cell_type": "code",
   "execution_count": 28,
   "metadata": {
    "collapsed": false
   },
   "outputs": [
    {
     "data": {
      "image/png": "[encoded data removed]",
      "text/plain": [
       "<matplotlib.figure.Figure at 0x1299ec425f8>"
      ]
     },
     "metadata": {},
     "output_type": "display_data"
    }
   ],
   "source": [
    "plt.hist(sht.opusElecSG.dropna(), alpha=0.6, color='r', label = \"Electric Single Grip\")\n",
    "plt.hist(sht.opusMA.dropna(), alpha=0.6, color='b', label = \"Multi-articulating hands\")\n",
    "plt.title(\"Opus Score of Single Grip vs. Multi-articulating\")\n",
    "plt.legend()\n",
    "plt.show()"
   ]
  },
  {
   "cell_type": "markdown",
   "metadata": {},
   "source": [
    "### Weighted Opus"
   ]
  },
  {
   "cell_type": "code",
   "execution_count": 29,
   "metadata": {
    "collapsed": false
   },
   "outputs": [
    {
     "name": "stdout",
     "output_type": "stream",
     "text": [
      "The average score on opus for the multi-articulating is 91.42276422764228\n",
      "The average score on opus for the single grip is 89.55121951219512\n",
      "\n",
      "Ttest_indResult(statistic=-19.38256327942964, pvalue=3.2578627199443854e-56)\n"
     ]
    }
   ],
   "source": [
    "print(\"The average score on opus for the multi-articulating is {0}\".format(sht.opusMAWeighted.dropna().mean()))\n",
    "print(\"The average score on opus for the single grip is {0}\".format(sht.opusElecSGWeighted.dropna().mean()))\n",
    "print()\n",
    "print(stats.ttest_ind(sht.opusMA.dropna(), sht.opusElecSGWeighted.dropna()))"
   ]
  },
  {
   "cell_type": "markdown",
   "metadata": {},
   "source": [
    "The high score for single grip is definetly significant!  Interesting the standard opus is not significant, yet the wieghted is.\n",
    "\n",
    "Let's look at the histogram"
   ]
  },
  {
   "cell_type": "code",
   "execution_count": 30,
   "metadata": {
    "collapsed": false
   },
   "outputs": [
    {
     "data": {
      "image/png": "[encoded data removed]",
      "text/plain": [
       "<matplotlib.figure.Figure at 0x1299f825eb8>"
      ]
     },
     "metadata": {},
     "output_type": "display_data"
    }
   ],
   "source": [
    "plt.hist(sht.opusElecSGWeighted.dropna(), alpha=0.6, color='r', label = \"Electric Single Grip\")\n",
    "plt.hist(sht.opusMAWeighted.dropna(), alpha=0.6, color='b', label = \"Multi-articulating hands\")\n",
    "plt.title(\"Weighted Opus Score of Single Grip vs. Multi-articulating\")\n",
    "plt.legend()\n",
    "plt.show()"
   ]
  },
  {
   "cell_type": "markdown",
   "metadata": {},
   "source": [
    "Let's look at what the single grip users value vs. multi-articulating"
   ]
  },
  {
   "cell_type": "code",
   "execution_count": 31,
   "metadata": {
    "collapsed": false
   },
   "outputs": [
    {
     "name": "stdout",
     "output_type": "stream",
     "text": [
      "The single grips users value:\n",
      "ImportanceUsingKeyboard       1.658537\n",
      "ImportanceUsingMobile         1.653659\n",
      "ImportanceStirring            1.629268\n",
      "ImportanceButtoningButtons    1.600000\n",
      "ImportanceShaving             1.580488\n",
      "dtype: float64\n",
      "\n",
      "The multi-articulating users value:\n",
      "ImportanceBrushingTeeth                  1.772358\n",
      "ImportancePuttingToothpasteToothbrush    1.731707\n",
      "ImportanceUsingKeyboard                  1.731707\n",
      "ImportanceUsingMobile                    1.707317\n",
      "ImportanceBrushingHair                   1.674797\n",
      "dtype: float64\n"
     ]
    }
   ],
   "source": [
    "from vectorSubsets import importanceFull\n",
    "sgSht = sht[sht.PrimaryTerminalDevice.isin(electricHandSG)]\n",
    "print(\"The single grips users value:\")\n",
    "print(sgSht[importanceFull].mean().sort_values(ascending=False).head())\n",
    "print()\n",
    "maSht = sht[sht.PrimaryTerminalDevice.isin(electricHandMA)]\n",
    "print(\"The multi-articulating users value:\")\n",
    "print(maSht[importanceFull].mean().sort_values(ascending=False).head())"
   ]
  },
  {
   "cell_type": "markdown",
   "metadata": {},
   "source": [
    "They have similar values, they just rank them differently.  This idea could turn out to be what we use to help us identify a key ETD demographic"
   ]
  },
  {
   "cell_type": "markdown",
   "metadata": {},
   "source": [
    "### vs. Body Powered"
   ]
  },
  {
   "cell_type": "code",
   "execution_count": 32,
   "metadata": {
    "collapsed": false
   },
   "outputs": [
    {
     "name": "stdout",
     "output_type": "stream",
     "text": [
      "The hands in the multi-articulating group are ['bebionic Hand', 'i-limb Hand', 'Michelangelo Hand']\n",
      "\n",
      "The hands in the body powered group are ['TRS Hook', 'Hosmer Hook', 'Body-powered Hand']\n",
      "\n",
      "The average score on opus for the multi-articulating is 59.94308943089431\n",
      "The average score on opus for body powered is 60.12903225806452\n",
      "\n",
      "Ttest_indResult(statistic=-0.1509038151664609, pvalue=0.88019373903002285)\n"
     ]
    }
   ],
   "source": [
    "print(\"The hands in the multi-articulating group are {0}\".format(electricHandMA))\n",
    "print()\n",
    "print(\"The hands in the body powered group are {0}\".format(bodyPoweredHooks))\n",
    "print()\n",
    "print(\"The average score on opus for the multi-articulating is {0}\".format(sht.opusMA.dropna().mean()))\n",
    "print(\"The average score on opus for body powered is {0}\".format(sht.opusBPHook.dropna().mean()))\n",
    "print()\n",
    "print(stats.ttest_ind(sht.opusMA.dropna(), sht.opusBPHook.dropna()))"
   ]
  },
  {
   "cell_type": "markdown",
   "metadata": {},
   "source": [
    "The higher score on opus by the body powered hooks is not significant."
   ]
  },
  {
   "cell_type": "code",
   "execution_count": 33,
   "metadata": {
    "collapsed": false
   },
   "outputs": [
    {
     "data": {
      "image/png": "[encoded data removed]",
      "text/plain": [
       "<matplotlib.figure.Figure at 0x1299fb36dd8>"
      ]
     },
     "metadata": {},
     "output_type": "display_data"
    }
   ],
   "source": [
    "plt.hist(sht.opusMA.dropna(), alpha=0.6, color='b', label = \"Multi-articulating hands\")\n",
    "plt.hist(sht.opusBPHook.dropna(), alpha=0.6, color='r', label = \"Body Powered\")\n",
    "plt.title(\"Opus Score of Body Powered vs. Multi-articulating\")\n",
    "plt.legend()\n",
    "plt.show()"
   ]
  },
  {
   "cell_type": "markdown",
   "metadata": {},
   "source": [
    "### Weighted Opus"
   ]
  },
  {
   "cell_type": "code",
   "execution_count": 34,
   "metadata": {
    "collapsed": false
   },
   "outputs": [
    {
     "name": "stdout",
     "output_type": "stream",
     "text": [
      "The average score on w.o. for the multi-articulating is 91.42276422764228\n",
      "The average score on w.o. for the body powered is 89.55121951219512\n",
      "\n",
      "Ttest_indResult(statistic=1.0061208054112396, pvalue=0.31510365692764608)\n",
      "Not significant\n"
     ]
    }
   ],
   "source": [
    "print(\"The average score on w.o. for the multi-articulating is {0}\".format(sht.opusMAWeighted.dropna().mean()))\n",
    "print(\"The average score on w.o. for the body powered is {0}\".format(sht.opusElecSGWeighted.dropna().mean()))\n",
    "print()\n",
    "print(stats.ttest_ind(sht.opusMAWeighted.dropna(), sht.opusElecSGWeighted.dropna()))\n",
    "print(\"Not significant\")"
   ]
  },
  {
   "cell_type": "code",
   "execution_count": 35,
   "metadata": {
    "collapsed": false
   },
   "outputs": [
    {
     "data": {
      "image/png": "[encoded data removed]",
      "text/plain": [
       "<matplotlib.figure.Figure at 0x1299fbd9550>"
      ]
     },
     "metadata": {},
     "output_type": "display_data"
    }
   ],
   "source": [
    "plt.hist(sht.opusMAWeighted.dropna(), alpha=0.6, color='b', label = \"Multi-articulating hands\")\n",
    "plt.hist(sht.opusBPHookWeighted.dropna(), alpha=0.6, color='r', label = \"Body Powered\")\n",
    "plt.title(\"Weighted Opus Score of Body Powered vs. Multi-articulating\")\n",
    "plt.legend()\n",
    "plt.show()"
   ]
  },
  {
   "cell_type": "markdown",
   "metadata": {
    "collapsed": true
   },
   "source": [
    "# Check t-test analysis\n",
    "The results from t-tests can sometimes be too positive, anova and Tukey's test accomadate for multiple comparisons.  So the below should be a validation of what was observed above.\n",
    "\n",
    "## ANOVA\n",
    "Use anova to make sure there is a difference in the means of at least one of the opus scores between the body powered, multi-articulating, single grip, and electric hooks"
   ]
  },
  {
   "cell_type": "code",
   "execution_count": 36,
   "metadata": {
    "collapsed": false
   },
   "outputs": [
    {
     "name": "stdout",
     "output_type": "stream",
     "text": [
      "The body powered hooks are ['TRS Hook', 'Hosmer Hook', 'Body-powered Hand']\n",
      "\n",
      "The multi-articulating hands are ['bebionic Hand', 'i-limb Hand', 'Michelangelo Hand']\n",
      "\n",
      "The single grip hands are ['Motion Control (MC) Hand', 'Otto Bock Hand']\n",
      "\n",
      "The electric hooks are ['Motion Control (MC) ETD', 'Otto Bock Axon Hook', 'Otto Bock Greifer']\n"
     ]
    }
   ],
   "source": [
    "print(\"The body powered hooks are {0}\".format(bodyPoweredHooks))\n",
    "print()\n",
    "print(\"The multi-articulating hands are {0}\".format(electricHandMA))\n",
    "print()\n",
    "print(\"The single grip hands are {0}\".format(electricHandSG))\n",
    "print()\n",
    "print(\"The electric hooks are {0}\".format(electricHooks))"
   ]
  },
  {
   "cell_type": "markdown",
   "metadata": {},
   "source": [
    "Now we'll run anova to check that there is a difference among the mean scores on opus of these 4 groups."
   ]
  },
  {
   "cell_type": "code",
   "execution_count": 37,
   "metadata": {
    "collapsed": false
   },
   "outputs": [
    {
     "data": {
      "text/plain": [
       "F_onewayResult(statistic=0.090875861863848786, pvalue=0.96505230267936359)"
      ]
     },
     "execution_count": 37,
     "metadata": {},
     "output_type": "execute_result"
    }
   ],
   "source": [
    "stats.f_oneway(sht.opusBPHook.dropna(), sht.opusMA.dropna(), sht.opusElecSG.dropna(), sht.opusEHo.dropna())"
   ]
  },
  {
   "cell_type": "markdown",
   "metadata": {},
   "source": [
    "We have don't have signficance at 0.05. But we do at 0.1. Let's look at Turkeys test, find out where."
   ]
  },
  {
   "cell_type": "code",
   "execution_count": 38,
   "metadata": {
    "collapsed": false
   },
   "outputs": [],
   "source": [
    "opusDf = pd.concat([sht['PrimaryTerminalDevice'], sht['opusScore']], axis=1, keys=['deviceCategory','opusScore'])\n",
    "opusDf[\"deviceCategory\"] = opusDf[\"deviceCategory\"].replace([bodyPoweredHooks],\"Body Powered\")\n",
    "opusDf[\"deviceCategory\"] = opusDf[\"deviceCategory\"].replace([electricHandMA], \"Multi-articulating\")\n",
    "opusDf[\"deviceCategory\"] = opusDf[\"deviceCategory\"].replace([electricHandSG], \"Single Grip\")\n",
    "opusDf[\"deviceCategory\"] = opusDf[\"deviceCategory\"].replace([electricHooks], \"Electric Hooks\")\n",
    "opusDf[\"deviceCategory\"] = opusDf[\"deviceCategory\"].replace('Otto.*', \"Electric Hooks\", regex=True)\n",
    "opusDf[\"deviceCategory\"] = opusDf[\"deviceCategory\"].replace('Other.*', np.nan, regex=True)\n",
    "opusDf[\"deviceCategory\"] = opusDf[\"deviceCategory\"].replace('Pass.*', np.nan, regex=True)\n",
    "#groups = opusDf.groupby(opusDf['deviceCategory']).groups\n",
    "#opusDf['deviceCategory'] = str(opusDf['deviceCategory'])\n",
    "opusDf = opusDf.dropna()\n",
    "df = opusDf.as_matrix()\n",
    "dC = df[:,0].astype(str)\n",
    "oS = df[:,1].astype(float)"
   ]
  },
  {
   "cell_type": "code",
   "execution_count": 39,
   "metadata": {
    "collapsed": false
   },
   "outputs": [
    {
     "data": {
      "text/html": [
       "<table class=\"simpletable\">\n",
       "<caption>Multiple Comparison of Means - Tukey HSD,FWER=0.05</caption>\n",
       "<tr>\n",
       "        <th>group1</th>             <th>group2</th>       <th>meandiff</th>  <th>lower</th>   <th>upper</th> <th>reject</th>\n",
       "</tr>\n",
       "<tr>\n",
       "     <td>Body Powered</td>      <td>Electric Hooks</td>    <td>0.7893</td>  <td>-3.3186</td> <td>4.8973</td>  <td>False</td>\n",
       "</tr>\n",
       "<tr>\n",
       "     <td>Body Powered</td>    <td>Multi-articulating</td>  <td>-0.1859</td> <td>-3.3837</td> <td>3.0119</td>  <td>False</td>\n",
       "</tr>\n",
       "<tr>\n",
       "     <td>Body Powered</td>        <td>Single Grip</td>      <td>0.271</td>  <td>-2.6385</td> <td>3.1804</td>  <td>False</td>\n",
       "</tr>\n",
       "<tr>\n",
       "    <td>Electric Hooks</td>   <td>Multi-articulating</td>  <td>-0.9753</td> <td>-4.9065</td>  <td>2.956</td>  <td>False</td>\n",
       "</tr>\n",
       "<tr>\n",
       "    <td>Electric Hooks</td>       <td>Single Grip</td>     <td>-0.5184</td> <td>-4.2189</td> <td>3.1821</td>  <td>False</td>\n",
       "</tr>\n",
       "<tr>\n",
       "  <td>Multi-articulating</td>     <td>Single Grip</td>     <td>0.4569</td>  <td>-2.1972</td> <td>3.1111</td>  <td>False</td>\n",
       "</tr>\n",
       "</table>"
      ],
      "text/plain": [
       "<class 'statsmodels.iolib.table.SimpleTable'>"
      ]
     },
     "execution_count": 39,
     "metadata": {},
     "output_type": "execute_result"
    },
    {
     "data": {
      "image/png": "[encoded data removed]",
      "text/plain": [
       "<matplotlib.figure.Figure at 0x1299fb4fe48>"
      ]
     },
     "metadata": {},
     "output_type": "display_data"
    }
   ],
   "source": [
    "from ipykernel import kernelapp as app\n",
    "from statsmodels.stats.multicomp import pairwise_tukeyhsd\n",
    "tukey = pairwise_tukeyhsd(endog = oS,\n",
    "                         groups = dC,\n",
    "                         alpha = 0.05)\n",
    "tukey.plot_simultaneous()    # Plot group confidence intervals\n",
    "plt.vlines(x=49.57,ymin=-0.5,ymax=4.5, color=\"red\")\n",
    "\n",
    "tukey.summary()           "
   ]
  },
  {
   "cell_type": "markdown",
   "metadata": {},
   "source": [
    "At a significance level of 0.05 we have a difference between electric hooks and single grips. Which was observed with ttest.  Therefore we can conclude that there is a significant difference in the means between the single grips and the hooks.  However we do not have significance between hooks and multi-articulating at 95% confidence interval as we saw in the ttest.\n",
    "\n",
    "What if we broadened the significance level to 0.1"
   ]
  },
  {
   "cell_type": "code",
   "execution_count": 40,
   "metadata": {
    "collapsed": false
   },
   "outputs": [
    {
     "data": {
      "text/html": [
       "<table class=\"simpletable\">\n",
       "<caption>Multiple Comparison of Means - Tukey HSD,FWER=0.10</caption>\n",
       "<tr>\n",
       "        <th>group1</th>             <th>group2</th>       <th>meandiff</th>  <th>lower</th>   <th>upper</th> <th>reject</th>\n",
       "</tr>\n",
       "<tr>\n",
       "     <td>Body Powered</td>      <td>Electric Hooks</td>    <td>0.7893</td>  <td>-2.8714</td>  <td>4.45</td>   <td>False</td>\n",
       "</tr>\n",
       "<tr>\n",
       "     <td>Body Powered</td>    <td>Multi-articulating</td>  <td>-0.1859</td> <td>-3.0356</td> <td>2.6637</td>  <td>False</td>\n",
       "</tr>\n",
       "<tr>\n",
       "     <td>Body Powered</td>        <td>Single Grip</td>      <td>0.271</td>  <td>-2.3217</td> <td>2.8636</td>  <td>False</td>\n",
       "</tr>\n",
       "<tr>\n",
       "    <td>Electric Hooks</td>   <td>Multi-articulating</td>  <td>-0.9753</td> <td>-4.4785</td>  <td>2.528</td>  <td>False</td>\n",
       "</tr>\n",
       "<tr>\n",
       "    <td>Electric Hooks</td>       <td>Single Grip</td>     <td>-0.5184</td> <td>-3.816</td>  <td>2.7792</td>  <td>False</td>\n",
       "</tr>\n",
       "<tr>\n",
       "  <td>Multi-articulating</td>     <td>Single Grip</td>     <td>0.4569</td>  <td>-1.9083</td> <td>2.8221</td>  <td>False</td>\n",
       "</tr>\n",
       "</table>"
      ],
      "text/plain": [
       "<class 'statsmodels.iolib.table.SimpleTable'>"
      ]
     },
     "execution_count": 40,
     "metadata": {},
     "output_type": "execute_result"
    },
    {
     "data": {
      "image/png": "[encoded data removed]",
      "text/plain": [
       "<matplotlib.figure.Figure at 0x1299f592438>"
      ]
     },
     "metadata": {},
     "output_type": "display_data"
    }
   ],
   "source": [
    "from ipykernel import kernelapp as app\n",
    "from statsmodels.stats.multicomp import pairwise_tukeyhsd\n",
    "tukey = pairwise_tukeyhsd(endog = oS,\n",
    "                         groups = dC,\n",
    "                         alpha = 0.1)\n",
    "tukey.plot_simultaneous()    # Plot group confidence intervals\n",
    "plt.vlines(x=49.57,ymin=-0.5,ymax=4.5, color=\"red\")\n",
    "\n",
    "tukey.summary()           "
   ]
  },
  {
   "cell_type": "markdown",
   "metadata": {},
   "source": [
    "If we look at a 90% confidence interval, then we have significance between electric hooks vs single grip and electric hooks vs. multi-articulating.  With electric hooks underperforming on opus."
   ]
  },
  {
   "cell_type": "markdown",
   "metadata": {},
   "source": [
    "## Significance among brands\n",
    "I'm curious if we'll get something  by looking at the specific brands"
   ]
  },
  {
   "cell_type": "code",
   "execution_count": 41,
   "metadata": {
    "collapsed": false
   },
   "outputs": [
    {
     "data": {
      "image/png": "[encoded data removed]",
      "text/plain": [
       "<matplotlib.figure.Figure at 0x1299f6e5cf8>"
      ]
     },
     "execution_count": 41,
     "metadata": {},
     "output_type": "execute_result"
    },
    {
     "data": {
      "image/png": "[encoded data removed]",
      "text/plain": [
       "<matplotlib.figure.Figure at 0x1299f6e5cf8>"
      ]
     },
     "metadata": {},
     "output_type": "display_data"
    }
   ],
   "source": [
    "opusDf = pd.concat([sht['PrimaryTerminalDevice'], sht['opusScore']], axis=1, keys=['deviceCategory','opusScore'])\n",
    "opusDf = opusDf.dropna()\n",
    "df = opusDf.as_matrix()\n",
    "dC = df[:,0].astype(str)\n",
    "oS = df[:,1].astype(float)\n",
    "tukey = pairwise_tukeyhsd(endog = oS,\n",
    "                         groups = dC,\n",
    "                         alpha = 0.05)\n",
    "tukey.plot_simultaneous()    # Plot group confidence intervals\n",
    "#tukey.summary() "
   ]
  },
  {
   "cell_type": "markdown",
   "metadata": {},
   "source": [
    "The TRS Hook and \"other\" are mucking up the scale, let's remove those"
   ]
  },
  {
   "cell_type": "code",
   "execution_count": 42,
   "metadata": {
    "collapsed": false
   },
   "outputs": [
    {
     "data": {
      "text/html": [
       "<table class=\"simpletable\">\n",
       "<caption>Multiple Comparison of Means - Tukey HSD,FWER=0.05</caption>\n",
       "<tr>\n",
       "           <th>group1</th>                   <th>group2</th>          <th>meandiff</th>   <th>lower</th>   <th>upper</th>  <th>reject</th>\n",
       "</tr>\n",
       "<tr>\n",
       "      <td>Body-powered Hand</td>           <td>Hosmer Hook</td>        <td>2.8237</td>   <td>-3.4635</td> <td>9.1108</td>   <td>False</td>\n",
       "</tr>\n",
       "<tr>\n",
       "      <td>Body-powered Hand</td>        <td>Michelangelo Hand</td>     <td>2.7952</td>   <td>-2.9234</td> <td>8.5139</td>   <td>False</td>\n",
       "</tr>\n",
       "<tr>\n",
       "      <td>Body-powered Hand</td>     <td>Motion Control (MC) ETD</td>  <td>-1.3104</td>  <td>-7.5325</td> <td>4.9117</td>   <td>False</td>\n",
       "</tr>\n",
       "<tr>\n",
       "      <td>Body-powered Hand</td>    <td>Motion Control (MC) Hand</td>  <td>0.4443</td>   <td>-3.9146</td> <td>4.8032</td>   <td>False</td>\n",
       "</tr>\n",
       "<tr>\n",
       "      <td>Body-powered Hand</td>       <td>Otto Bock Axon Hook</td>    <td>5.8333</td>   <td>-3.8755</td> <td>15.5421</td>  <td>False</td>\n",
       "</tr>\n",
       "<tr>\n",
       "      <td>Body-powered Hand</td>         <td>Otto Bock Hand</td>       <td>2.1435</td>   <td>-3.068</td>   <td>7.355</td>   <td>False</td>\n",
       "</tr>\n",
       "<tr>\n",
       "      <td>Body-powered Hand</td>        <td>Otto BockGreifer</td>       <td>7.819</td>   <td>-3.5338</td> <td>19.1719</td>  <td>False</td>\n",
       "</tr>\n",
       "<tr>\n",
       "      <td>Body-powered Hand</td>          <td>Passive Hand</td>        <td>9.2833</td>   <td>-5.395</td>  <td>23.9617</td>  <td>False</td>\n",
       "</tr>\n",
       "<tr>\n",
       "      <td>Body-powered Hand</td>          <td>bebionic Hand</td>       <td>-3.1267</td>  <td>-8.5695</td> <td>2.3162</td>   <td>False</td>\n",
       "</tr>\n",
       "<tr>\n",
       "      <td>Body-powered Hand</td>           <td>i-limb Hand</td>        <td>3.1462</td>   <td>-3.141</td>  <td>9.4334</td>   <td>False</td>\n",
       "</tr>\n",
       "<tr>\n",
       "         <td>Hosmer Hook</td>           <td>Michelangelo Hand</td>     <td>-0.0284</td>  <td>-6.7589</td> <td>6.7021</td>   <td>False</td>\n",
       "</tr>\n",
       "<tr>\n",
       "         <td>Hosmer Hook</td>        <td>Motion Control (MC) ETD</td>  <td>-4.1341</td> <td>-11.2973</td> <td>3.0291</td>   <td>False</td>\n",
       "</tr>\n",
       "<tr>\n",
       "         <td>Hosmer Hook</td>       <td>Motion Control (MC) Hand</td>  <td>-2.3794</td>  <td>-8.0005</td> <td>3.2417</td>   <td>False</td>\n",
       "</tr>\n",
       "<tr>\n",
       "         <td>Hosmer Hook</td>          <td>Otto Bock Axon Hook</td>    <td>3.0097</td>   <td>-7.3275</td> <td>13.3469</td>  <td>False</td>\n",
       "</tr>\n",
       "<tr>\n",
       "         <td>Hosmer Hook</td>            <td>Otto Bock Hand</td>       <td>-0.6802</td>  <td>-6.9855</td> <td>5.6252</td>   <td>False</td>\n",
       "</tr>\n",
       "<tr>\n",
       "         <td>Hosmer Hook</td>           <td>Otto BockGreifer</td>      <td>4.9954</td>   <td>-6.8993</td> <td>16.8901</td>  <td>False</td>\n",
       "</tr>\n",
       "<tr>\n",
       "         <td>Hosmer Hook</td>             <td>Passive Hand</td>        <td>6.4597</td>   <td>-8.6417</td> <td>21.561</td>   <td>False</td>\n",
       "</tr>\n",
       "<tr>\n",
       "         <td>Hosmer Hook</td>             <td>bebionic Hand</td>       <td>-5.9503</td> <td>-12.4482</td> <td>0.5475</td>   <td>False</td>\n",
       "</tr>\n",
       "<tr>\n",
       "         <td>Hosmer Hook</td>              <td>i-limb Hand</td>        <td>0.3226</td>   <td>-6.8972</td> <td>7.5424</td>   <td>False</td>\n",
       "</tr>\n",
       "<tr>\n",
       "      <td>Michelangelo Hand</td>     <td>Motion Control (MC) ETD</td>  <td>-4.1057</td> <td>-10.7754</td> <td>2.5641</td>   <td>False</td>\n",
       "</tr>\n",
       "<tr>\n",
       "      <td>Michelangelo Hand</td>    <td>Motion Control (MC) Hand</td>  <td>-2.3509</td>  <td>-7.328</td>  <td>2.6261</td>   <td>False</td>\n",
       "</tr>\n",
       "<tr>\n",
       "      <td>Michelangelo Hand</td>       <td>Otto Bock Axon Hook</td>    <td>3.0381</td>   <td>-6.9635</td> <td>13.0397</td>  <td>False</td>\n",
       "</tr>\n",
       "<tr>\n",
       "      <td>Michelangelo Hand</td>         <td>Otto Bock Hand</td>       <td>-0.6517</td>  <td>-6.3903</td> <td>5.0868</td>   <td>False</td>\n",
       "</tr>\n",
       "<tr>\n",
       "      <td>Michelangelo Hand</td>        <td>Otto BockGreifer</td>      <td>5.0238</td>   <td>-6.5804</td> <td>16.6281</td>  <td>False</td>\n",
       "</tr>\n",
       "<tr>\n",
       "      <td>Michelangelo Hand</td>          <td>Passive Hand</td>        <td>6.4881</td>   <td>-8.3855</td> <td>21.3617</td>  <td>False</td>\n",
       "</tr>\n",
       "<tr>\n",
       "      <td>Michelangelo Hand</td>          <td>bebionic Hand</td>       <td>-5.9219</td> <td>-11.8714</td> <td>0.0275</td>   <td>False</td>\n",
       "</tr>\n",
       "<tr>\n",
       "      <td>Michelangelo Hand</td>           <td>i-limb Hand</td>         <td>0.351</td>   <td>-6.3795</td> <td>7.0815</td>   <td>False</td>\n",
       "</tr>\n",
       "<tr>\n",
       "   <td>Motion Control (MC) ETD</td> <td>Motion Control (MC) Hand</td>  <td>1.7547</td>   <td>-3.7935</td> <td>7.3029</td>   <td>False</td>\n",
       "</tr>\n",
       "<tr>\n",
       "   <td>Motion Control (MC) ETD</td>    <td>Otto Bock Axon Hook</td>    <td>7.1437</td>   <td>-3.154</td>  <td>17.4415</td>  <td>False</td>\n",
       "</tr>\n",
       "<tr>\n",
       "   <td>Motion Control (MC) ETD</td>      <td>Otto Bock Hand</td>       <td>3.4539</td>   <td>-2.7865</td> <td>9.6943</td>   <td>False</td>\n",
       "</tr>\n",
       "<tr>\n",
       "   <td>Motion Control (MC) ETD</td>     <td>Otto BockGreifer</td>      <td>9.1295</td>   <td>-2.731</td>  <td>20.9899</td>  <td>False</td>\n",
       "</tr>\n",
       "<tr>\n",
       "   <td>Motion Control (MC) ETD</td>       <td>Passive Hand</td>        <td>10.5938</td>  <td>-4.4806</td> <td>25.6681</td>  <td>False</td>\n",
       "</tr>\n",
       "<tr>\n",
       "   <td>Motion Control (MC) ETD</td>       <td>bebionic Hand</td>       <td>-1.8162</td>  <td>-8.2511</td> <td>4.6186</td>   <td>False</td>\n",
       "</tr>\n",
       "<tr>\n",
       "   <td>Motion Control (MC) ETD</td>        <td>i-limb Hand</td>        <td>4.4567</td>   <td>-2.7065</td> <td>11.6199</td>  <td>False</td>\n",
       "</tr>\n",
       "<tr>\n",
       "  <td>Motion Control (MC) Hand</td>    <td>Otto Bock Axon Hook</td>     <td>5.389</td>   <td>-3.9023</td> <td>14.6804</td>  <td>False</td>\n",
       "</tr>\n",
       "<tr>\n",
       "  <td>Motion Control (MC) Hand</td>      <td>Otto Bock Hand</td>       <td>1.6992</td>   <td>-2.6858</td> <td>6.0842</td>   <td>False</td>\n",
       "</tr>\n",
       "<tr>\n",
       "  <td>Motion Control (MC) Hand</td>     <td>Otto BockGreifer</td>      <td>7.3748</td>   <td>-3.6232</td> <td>18.3727</td>  <td>False</td>\n",
       "</tr>\n",
       "<tr>\n",
       "  <td>Motion Control (MC) Hand</td>       <td>Passive Hand</td>         <td>8.839</td>   <td>-5.5666</td> <td>23.2447</td>  <td>False</td>\n",
       "</tr>\n",
       "<tr>\n",
       "  <td>Motion Control (MC) Hand</td>       <td>bebionic Hand</td>       <td>-3.571</td>   <td>-8.2285</td> <td>1.0866</td>   <td>False</td>\n",
       "</tr>\n",
       "<tr>\n",
       "  <td>Motion Control (MC) Hand</td>        <td>i-limb Hand</td>        <td>2.7019</td>   <td>-2.9192</td> <td>8.3231</td>   <td>False</td>\n",
       "</tr>\n",
       "<tr>\n",
       "     <td>Otto Bock Axon Hook</td>        <td>Otto Bock Hand</td>       <td>-3.6898</td> <td>-13.4104</td> <td>6.0307</td>   <td>False</td>\n",
       "</tr>\n",
       "<tr>\n",
       "     <td>Otto Bock Axon Hook</td>       <td>Otto BockGreifer</td>      <td>1.9857</td>   <td>-12.022</td> <td>15.9935</td>  <td>False</td>\n",
       "</tr>\n",
       "<tr>\n",
       "     <td>Otto Bock Axon Hook</td>         <td>Passive Hand</td>         <td>3.45</td>   <td>-13.3662</td> <td>20.2662</td>  <td>False</td>\n",
       "</tr>\n",
       "<tr>\n",
       "     <td>Otto Bock Axon Hook</td>         <td>bebionic Hand</td>        <td>-8.96</td>  <td>-18.8065</td> <td>0.8865</td>   <td>False</td>\n",
       "</tr>\n",
       "<tr>\n",
       "     <td>Otto Bock Axon Hook</td>          <td>i-limb Hand</td>        <td>-2.6871</td> <td>-13.0243</td> <td>7.6501</td>   <td>False</td>\n",
       "</tr>\n",
       "<tr>\n",
       "       <td>Otto Bock Hand</td>          <td>Otto BockGreifer</td>      <td>5.6755</td>   <td>-5.6874</td> <td>17.0385</td>  <td>False</td>\n",
       "</tr>\n",
       "<tr>\n",
       "       <td>Otto Bock Hand</td>            <td>Passive Hand</td>        <td>7.1398</td>   <td>-7.5463</td> <td>21.8259</td>  <td>False</td>\n",
       "</tr>\n",
       "<tr>\n",
       "       <td>Otto Bock Hand</td>            <td>bebionic Hand</td>       <td>-5.2702</td>  <td>-10.734</td> <td>0.1936</td>   <td>False</td>\n",
       "</tr>\n",
       "<tr>\n",
       "       <td>Otto Bock Hand</td>             <td>i-limb Hand</td>        <td>1.0027</td>   <td>-5.3026</td> <td>7.3081</td>   <td>False</td>\n",
       "</tr>\n",
       "<tr>\n",
       "      <td>Otto BockGreifer</td>           <td>Passive Hand</td>        <td>1.4643</td>  <td>-16.3517</td> <td>19.2803</td>  <td>False</td>\n",
       "</tr>\n",
       "<tr>\n",
       "      <td>Otto BockGreifer</td>           <td>bebionic Hand</td>      <td>-10.9457</td> <td>-22.4166</td> <td>0.5251</td>   <td>False</td>\n",
       "</tr>\n",
       "<tr>\n",
       "      <td>Otto BockGreifer</td>            <td>i-limb Hand</td>        <td>-4.6728</td> <td>-16.5675</td> <td>7.2219</td>   <td>False</td>\n",
       "</tr>\n",
       "<tr>\n",
       "        <td>Passive Hand</td>             <td>bebionic Hand</td>       <td>-12.41</td>  <td>-27.1798</td> <td>2.3598</td>   <td>False</td>\n",
       "</tr>\n",
       "<tr>\n",
       "        <td>Passive Hand</td>              <td>i-limb Hand</td>        <td>-6.1371</td> <td>-21.2384</td> <td>8.9643</td>   <td>False</td>\n",
       "</tr>\n",
       "<tr>\n",
       "        <td>bebionic Hand</td>             <td>i-limb Hand</td>        <td>6.2729</td>   <td>-0.2249</td> <td>12.7707</td>  <td>False</td>\n",
       "</tr>\n",
       "</table>"
      ],
      "text/plain": [
       "<class 'statsmodels.iolib.table.SimpleTable'>"
      ]
     },
     "execution_count": 42,
     "metadata": {},
     "output_type": "execute_result"
    },
    {
     "data": {
      "image/png": "[encoded data removed]",
      "text/plain": [
       "<matplotlib.figure.Figure at 0x1299f8252b0>"
      ]
     },
     "metadata": {},
     "output_type": "display_data"
    }
   ],
   "source": [
    "opusDf = pd.concat([sht['PrimaryTerminalDevice'], sht['opusScore']], axis=1, keys=['primaryTD','opusScore'])\n",
    "opusDf[\"primaryTD\"] = opusDf[\"primaryTD\"].replace('Other.*', np.nan, regex=True)\n",
    "opusDf[\"primaryTD\"] = opusDf[\"primaryTD\"].replace('TRS.*', np.nan, regex=True)\n",
    "opusDf = opusDf.dropna()\n",
    "df = opusDf.as_matrix()\n",
    "dC = df[:,0].astype(str)\n",
    "oS = df[:,1].astype(float)\n",
    "tukey = pairwise_tukeyhsd(endog = oS,\n",
    "                         groups = dC,\n",
    "                         alpha = 0.05)\n",
    "tukey.plot_simultaneous()    # Plot group confidence intervals\n",
    "tukey.summary() "
   ]
  },
  {
   "cell_type": "code",
   "execution_count": 43,
   "metadata": {
    "collapsed": false,
    "scrolled": true
   },
   "outputs": [
    {
     "data": {
      "text/plain": [
       "PrimaryTerminalDevice\n",
       "Body-powered Hand           59.466667\n",
       "Hosmer Hook                 62.290323\n",
       "Michelangelo Hand           62.261905\n",
       "Motion Control (MC) ETD     58.156250\n",
       "Motion Control (MC) Hand    59.910959\n",
       "Other (please specify)      42.000000\n",
       "Otto Bock Axon Hook         65.300000\n",
       "Otto Bock Hand              61.610169\n",
       "Otto BockGreifer            67.285714\n",
       "Passive Hand                68.750000\n",
       "TRS Hook                    46.500000\n",
       "bebionic Hand               56.340000\n",
       "i-limb Hand                 62.612903\n",
       "Name: opusScore, dtype: float64"
      ]
     },
     "execution_count": 43,
     "metadata": {},
     "output_type": "execute_result"
    }
   ],
   "source": [
    "groupbyPrimaryD = sht[\"opusScore\"].groupby(sht[\"PrimaryTerminalDevice\"])\n",
    "groupbyPrimaryD.mean()"
   ]
  }
 ],
 "metadata": {
  "kernelspec": {
   "display_name": "Python [Root]",
   "language": "python",
   "name": "Python [Root]"
  },
  "language_info": {
   "codemirror_mode": {
    "name": "ipython",
    "version": 3
   },
   "file_extension": ".py",
   "mimetype": "text/x-python",
   "name": "python",
   "nbconvert_exporter": "python",
   "pygments_lexer": "ipython3",
   "version": "3.5.2"
  }
 },
 "nbformat": 4,
 "nbformat_minor": 0
}
