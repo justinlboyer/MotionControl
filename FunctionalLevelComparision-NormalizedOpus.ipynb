{
 "cells": [
  {
   "cell_type": "markdown",
   "metadata": {},
   "source": [
    "# Normalized Opus -- Functional Level Comparision\n",
    "\n",
    "This notebook computes the significance of the normalized opus score for the following:\n",
    "1. Electric Hook Type TD\n",
    "    * vs. all types of Electric Hand\n",
    "    * vs. Electric single grip hand\n",
    "    * vs. body-powered TD\n",
    "    * vs. Electric multi-articulating hand\n",
    "2. Motion Control ETD\n",
    "    * vs. electric hooks\n",
    "3. Multi-articulating hands    \n",
    "    * vs. Electric single grip hand\n",
    "    * vs. Body-powered TD\n",
    "4. Check T-test\n",
    "    * Anova\n",
    "    * Tukey Tests"
   ]
  },
  {
   "cell_type": "code",
   "execution_count": 31,
   "metadata": {
    "collapsed": false
   },
   "outputs": [],
   "source": [
    "import pandas as pd\n",
    "import numpy as np\n",
    "from scipy import stats\n",
    "import matplotlib.pyplot as plt\n",
    "from driverCleanData import cleanData\n",
    "%matplotlib inline\n",
    "[sht,_] = cleanData();"
   ]
  },
  {
   "cell_type": "markdown",
   "metadata": {},
   "source": [
    "Let's look at the summary stats for all data on the normalized opus"
   ]
  },
  {
   "cell_type": "code",
   "execution_count": 32,
   "metadata": {
    "collapsed": false
   },
   "outputs": [
    {
     "data": {
      "text/plain": [
       "count    1221.000000\n",
       "mean        3.179006\n",
       "std         0.416217\n",
       "min         2.166667\n",
       "25%         2.833333\n",
       "50%         3.111111\n",
       "75%         3.437500\n",
       "max         4.000000\n",
       "Name: normalizedOpus, dtype: float64"
      ]
     },
     "execution_count": 32,
     "metadata": {},
     "output_type": "execute_result"
    }
   ],
   "source": [
    "sht.normalizedOpus.dropna().describe()"
   ]
  },
  {
   "cell_type": "markdown",
   "metadata": {},
   "source": [
    "Since the opus is normalized, this means that only the activities the respondents use the prosthesis on are counted.  Thus the maximum score possible is 4 and the lowest is 0.  Here we see a mean of 3.17 and a standard deviation of 0.41, which may be interpreted as: The tasks which the respondents use their prosthesis for, they typically find the task slightly difficult."
   ]
  },
  {
   "cell_type": "markdown",
   "metadata": {},
   "source": [
    "## Electric Hook TD\n",
    "### vs. all types of Electric Hand\n",
    "\n"
   ]
  },
  {
   "cell_type": "code",
   "execution_count": 2,
   "metadata": {
    "collapsed": false
   },
   "outputs": [
    {
     "name": "stdout",
     "output_type": "stream",
     "text": [
      "Electric hooks are: ['Motion Control (MC) ETD', 'Otto Bock Axon Hook', 'Otto Bock Greifer']\n",
      "\n",
      "Electric hands - multi articulating are ['bebionic Hand', 'i-limb Hand', 'Michelangelo Hand']\n",
      "\n",
      "Electric hands - single grip are ['Motion Control (MC) Hand', 'Otto Bock Hand']\n"
     ]
    }
   ],
   "source": [
    "from vectorSubsets import electricHooks, electricHandMA, electricHandSG\n",
    "print(\"Electric hooks are: {0}\".format(electricHooks))\n",
    "print()\n",
    "print(\"Electric hands - multi articulating are {0}\".format(electricHandMA))\n",
    "print()\n",
    "print(\"Electric hands - single grip are {0}\".format(electricHandSG))"
   ]
  },
  {
   "cell_type": "code",
   "execution_count": 3,
   "metadata": {
    "collapsed": false
   },
   "outputs": [],
   "source": [
    "sht[\"opusEHo\"] = sht.normalizedOpus[sht[\"PrimaryTerminalDevice\"].isin(electricHooks)]\n",
    "sht[\"opusAllEHa\"] = sht.normalizedOpus[sht[\"PrimaryTerminalDevice\"].isin(electricHandMA or electricHandSG)].dropna()"
   ]
  },
  {
   "cell_type": "markdown",
   "metadata": {},
   "source": [
    "#### Summary Stats\n",
    "\n",
    "First up the electric hooks"
   ]
  },
  {
   "cell_type": "code",
   "execution_count": 4,
   "metadata": {
    "collapsed": false
   },
   "outputs": [
    {
     "data": {
      "text/plain": [
       "count    117.000000\n",
       "mean       3.058773\n",
       "std        0.372775\n",
       "min        2.363636\n",
       "25%        2.777778\n",
       "50%        3.000000\n",
       "75%        3.250000\n",
       "max        4.000000\n",
       "Name: opusEHo, dtype: float64"
      ]
     },
     "execution_count": 4,
     "metadata": {},
     "output_type": "execute_result"
    }
   ],
   "source": [
    "sht.opusEHo.dropna().describe()"
   ]
  },
  {
   "cell_type": "markdown",
   "metadata": {},
   "source": [
    "Now for the electric hands"
   ]
  },
  {
   "cell_type": "code",
   "execution_count": 5,
   "metadata": {
    "collapsed": false
   },
   "outputs": [
    {
     "data": {
      "text/plain": [
       "count    280.000000\n",
       "mean       3.211556\n",
       "std        0.378506\n",
       "min        2.166667\n",
       "25%        2.900000\n",
       "50%        3.242647\n",
       "75%        3.437500\n",
       "max        4.000000\n",
       "Name: opusAllEHa, dtype: float64"
      ]
     },
     "execution_count": 5,
     "metadata": {},
     "output_type": "execute_result"
    }
   ],
   "source": [
    "sht.opusAllEHa.dropna().describe()"
   ]
  },
  {
   "cell_type": "markdown",
   "metadata": {},
   "source": [
    "\n",
    "#### Histogram\n"
   ]
  },
  {
   "cell_type": "code",
   "execution_count": 36,
   "metadata": {
    "collapsed": false
   },
   "outputs": [
    {
     "data": {
      "image/png": "[encoded data removed]",
      "text/plain": [
       "<matplotlib.figure.Figure at 0x1eaf5f6a2e8>"
      ]
     },
     "metadata": {},
     "output_type": "display_data"
    }
   ],
   "source": [
    "plt.hist(sht.opusAllEHa.dropna(), alpha=0.6, color='b', label = \"All electric hands\")\n",
    "plt.hist(sht.opusEHo.dropna(), alpha=0.6, color='r', label = \"All electric hooks\")\n",
    "plt.title(\"Normalized Opus Score\")\n",
    "plt.legend()\n",
    "plt.show()"
   ]
  },
  {
   "cell_type": "code",
   "execution_count": 7,
   "metadata": {
    "collapsed": false
   },
   "outputs": [
    {
     "data": {
      "text/plain": [
       "Ttest_indResult(statistic=3.6830158986463086, pvalue=0.00026258021363330305)"
      ]
     },
     "execution_count": 7,
     "metadata": {},
     "output_type": "execute_result"
    }
   ],
   "source": [
    "stats.ttest_ind(sht.opusAllEHa.dropna(), sht.opusEHo.dropna())"
   ]
  },
  {
   "cell_type": "markdown",
   "metadata": {},
   "source": [
    "The higher mean score on Normalized Opus of electric hands compared to electric hooks is significant."
   ]
  },
  {
   "cell_type": "markdown",
   "metadata": {},
   "source": [
    "## vs. Electric single grip hand"
   ]
  },
  {
   "cell_type": "code",
   "execution_count": 8,
   "metadata": {
    "collapsed": false
   },
   "outputs": [
    {
     "name": "stdout",
     "output_type": "stream",
     "text": [
      "The types of devices we are considering as electric hands are ['Motion Control (MC) Hand', 'Otto Bock Hand']\n",
      "\n",
      "The mean of the electric hooks opus is 3.058772974443373\n",
      "\n",
      "The summary stats for the single grip are\n",
      "count    607.000000\n",
      "mean       3.214464\n",
      "std        0.437060\n",
      "min        2.333333\n",
      "25%        2.888889\n",
      "50%        3.100000\n",
      "75%        3.535885\n",
      "max        4.000000\n",
      "Name: opusElecSG, dtype: float64\n"
     ]
    }
   ],
   "source": [
    "sht[\"opusElecSG\"] = sht.normalizedOpus[sht[\"PrimaryTerminalDevice\"].isin(electricHandSG)]\n",
    "print(\"The types of devices we are considering as electric hands are {0}\".format(electricHandSG))\n",
    "print()\n",
    "print(\"The mean of the electric hooks opus is {0}\".format(sht.opusEHo.dropna().mean()))\n",
    "print()\n",
    "print(\"The summary stats for the single grip are\")\n",
    "print(sht.opusElecSG.dropna().describe())"
   ]
  },
  {
   "cell_type": "code",
   "execution_count": 9,
   "metadata": {
    "collapsed": false
   },
   "outputs": [
    {
     "data": {
      "text/plain": [
       "Ttest_indResult(statistic=-3.6079645954487964, pvalue=0.0003298957487412504)"
      ]
     },
     "execution_count": 9,
     "metadata": {},
     "output_type": "execute_result"
    }
   ],
   "source": [
    "stats.ttest_ind(sht.opusEHo.dropna(), sht.opusElecSG.dropna())"
   ]
  },
  {
   "cell_type": "markdown",
   "metadata": {},
   "source": [
    "The higher mean score for single grip hands is signficant."
   ]
  },
  {
   "cell_type": "markdown",
   "metadata": {},
   "source": [
    "#### Histograms\n"
   ]
  },
  {
   "cell_type": "code",
   "execution_count": 35,
   "metadata": {
    "collapsed": false
   },
   "outputs": [
    {
     "data": {
      "image/png": "[encoded data removed]",
      "text/plain": [
       "<matplotlib.figure.Figure at 0x1eaf5d0b550>"
      ]
     },
     "metadata": {},
     "output_type": "display_data"
    }
   ],
   "source": [
    "plt.hist(sht.opusElecSG.dropna(), color='b', alpha=0.6, label = \"Single grip\")\n",
    "plt.hist(sht.opusEHo.dropna(), color='r', alpha=0.6, label = \"Electric hooks\")\n",
    "plt.title(\"Normalized Opus Score\")\n",
    "plt.legend()\n",
    "plt.show()"
   ]
  },
  {
   "cell_type": "markdown",
   "metadata": {},
   "source": [
    "## vs. Body Powered Hooks"
   ]
  },
  {
   "cell_type": "code",
   "execution_count": 11,
   "metadata": {
    "collapsed": false
   },
   "outputs": [
    {
     "data": {
      "text/plain": [
       "count    185.000000\n",
       "mean       3.064431\n",
       "std        0.401842\n",
       "min        2.375000\n",
       "25%        2.750000\n",
       "50%        2.900000\n",
       "75%        3.350000\n",
       "max        4.000000\n",
       "Name: opusBPHook, dtype: float64"
      ]
     },
     "execution_count": 11,
     "metadata": {},
     "output_type": "execute_result"
    }
   ],
   "source": [
    "from vectorSubsets import bodyPoweredHooks\n",
    "sht[\"opusBPHook\"] = sht.normalizedOpus[sht[\"PrimaryTerminalDevice\"].isin(bodyPoweredHooks)]\n",
    "sht.opusBPHook.dropna().describe()"
   ]
  },
  {
   "cell_type": "code",
   "execution_count": 12,
   "metadata": {
    "collapsed": false
   },
   "outputs": [
    {
     "data": {
      "text/plain": [
       "Ttest_indResult(statistic=-0.12256137888705929, pvalue=0.90253650099781646)"
      ]
     },
     "execution_count": 12,
     "metadata": {},
     "output_type": "execute_result"
    }
   ],
   "source": [
    "stats.ttest_ind(sht.opusEHo.dropna(), sht.opusBPHook.dropna())"
   ]
  },
  {
   "cell_type": "markdown",
   "metadata": {},
   "source": [
    "Can't reject the null at alpha=0.05, so there might not be a significant difference between body powered and electric hooks on the normalized opus score"
   ]
  },
  {
   "cell_type": "markdown",
   "metadata": {},
   "source": [
    "## vs. Multi-articulating Hands"
   ]
  },
  {
   "cell_type": "code",
   "execution_count": 13,
   "metadata": {
    "collapsed": false
   },
   "outputs": [
    {
     "name": "stdout",
     "output_type": "stream",
     "text": [
      "The summary stats for multi-articulating are:\n",
      "count    280.000000\n",
      "mean       3.211556\n",
      "std        0.378506\n",
      "min        2.166667\n",
      "25%        2.900000\n",
      "50%        3.242647\n",
      "75%        3.437500\n",
      "max        4.000000\n",
      "Name: opusMA, dtype: float64\n"
     ]
    }
   ],
   "source": [
    "from vectorSubsets import electricHandMA\n",
    "sht[\"opusMA\"] = sht.normalizedOpus[sht[\"PrimaryTerminalDevice\"].isin(electricHandMA)]\n",
    "print(\"The summary stats for multi-articulating are:\")\n",
    "print(sht.opusMA.dropna().describe())"
   ]
  },
  {
   "cell_type": "code",
   "execution_count": 37,
   "metadata": {
    "collapsed": false
   },
   "outputs": [
    {
     "data": {
      "image/png": "[encoded data removed]",
      "text/plain": [
       "<matplotlib.figure.Figure at 0x1eaf5d33f98>"
      ]
     },
     "metadata": {},
     "output_type": "display_data"
    }
   ],
   "source": [
    "plt.hist(sht.opusMA.dropna(), alpha=0.6, color='b', label = \"Multi-articulating electric hands\")\n",
    "plt.hist(sht.opusEHo.dropna(), alpha=0.6, color='r', label = \"Electric hooks\")\n",
    "plt.title(\"Normalize Opus Score\")\n",
    "plt.legend()\n",
    "plt.show()"
   ]
  },
  {
   "cell_type": "code",
   "execution_count": 15,
   "metadata": {
    "collapsed": false
   },
   "outputs": [
    {
     "data": {
      "text/plain": [
       "Ttest_indResult(statistic=-3.6830158986463086, pvalue=0.00026258021363330305)"
      ]
     },
     "execution_count": 15,
     "metadata": {},
     "output_type": "execute_result"
    }
   ],
   "source": [
    "stats.ttest_ind(sht.opusEHo.dropna(),sht.opusMA.dropna())"
   ]
  },
  {
   "cell_type": "markdown",
   "metadata": {},
   "source": [
    "The higher mean score of the multi-articulating is significant compared to electric hooks."
   ]
  },
  {
   "cell_type": "markdown",
   "metadata": {},
   "source": [
    "# Motion Control ETD vs. All Electric Hooks"
   ]
  },
  {
   "cell_type": "code",
   "execution_count": 16,
   "metadata": {
    "collapsed": false
   },
   "outputs": [
    {
     "name": "stdout",
     "output_type": "stream",
     "text": [
      "The electric hooks we are considering are: ['Otto Bock Greifer', 'Otto Bock Axon Hook']\n",
      "The number of participants are 28\n",
      "\n",
      "The average score on opus for the ETD is 2.9885097542192205\n",
      "The average score on opus for the electric hooks is 3.282109638727286\n",
      "\n",
      "Ttest_indResult(statistic=-3.8447600819128045, pvalue=0.00019834505869393984)\n"
     ]
    }
   ],
   "source": [
    "sht[\"opusETD\"] = sht.normalizedOpus[sht[\"PrimaryTerminalDevice\"]==\"Motion Control (MC) ETD\"]\n",
    "from vectorSubsets import electricHooksNoETD\n",
    "sht[\"opusElecNoETD\"] = sht.normalizedOpus[sht[\"PrimaryTerminalDevice\"].isin(electricHooksNoETD)]\n",
    "print(\"The electric hooks we are considering are: {0}\".format(electricHooksNoETD))\n",
    "print(\"The number of participants are {0}\".format(sht.opusElecNoETD.dropna().count()))\n",
    "print()\n",
    "print(\"The average score on opus for the ETD is {0}\".format(sht.opusETD.dropna().mean()))\n",
    "print(\"The average score on opus for the electric hooks is {0}\".format(sht.opusElecNoETD.dropna().mean()))\n",
    "print()\n",
    "print(stats.ttest_ind(sht.opusETD.dropna(), sht.opusElecNoETD.dropna()))"
   ]
  },
  {
   "cell_type": "markdown",
   "metadata": {},
   "source": [
    "This result is significant and unfortunately unfavorable for the ETD.  However when we look at the histogram we do not see that the non etd hooks distribution is normal so that assumption falls away and we can neither accept nor reject the null hypothesis."
   ]
  },
  {
   "cell_type": "code",
   "execution_count": 39,
   "metadata": {
    "collapsed": false
   },
   "outputs": [
    {
     "data": {
      "image/png": "[encoded data removed]",
      "text/plain": [
       "<matplotlib.figure.Figure at 0x1eaf5cfdb00>"
      ]
     },
     "metadata": {},
     "output_type": "display_data"
    }
   ],
   "source": [
    "plt.hist(sht.opusETD.dropna(), alpha=0.6, color='b', label = \"Motion Control ETD\")\n",
    "plt.hist(sht.opusElecNoETD.dropna(), alpha=0.6, color='r', label = \"Electric hooks Not ETD\")\n",
    "plt.title(\"Normalized Opus Score\")\n",
    "plt.legend()\n",
    "plt.show()"
   ]
  },
  {
   "cell_type": "markdown",
   "metadata": {},
   "source": [
    "## Multi-articulating hands\n",
    "### vs. Single Grip hands"
   ]
  },
  {
   "cell_type": "code",
   "execution_count": 18,
   "metadata": {
    "collapsed": false
   },
   "outputs": [
    {
     "name": "stdout",
     "output_type": "stream",
     "text": [
      "The hands in the multi-articulating group are ['bebionic Hand', 'i-limb Hand', 'Michelangelo Hand']\n",
      "\n",
      "The hands in the single grip group are ['Motion Control (MC) Hand', 'Otto Bock Hand']\n",
      "\n",
      "The average score on opus for the multi-articulating is 3.211555785883242\n",
      "The average score on opus for the single grip is 3.214463690408739\n",
      "\n",
      "Ttest_indResult(statistic=-0.095956965997671603, pvalue=0.9235764745847912)\n"
     ]
    }
   ],
   "source": [
    "print(\"The hands in the multi-articulating group are {0}\".format(electricHandMA))\n",
    "print()\n",
    "print(\"The hands in the single grip group are {0}\".format(electricHandSG))\n",
    "print()\n",
    "print(\"The average score on opus for the multi-articulating is {0}\".format(sht.opusMA.dropna().mean()))\n",
    "print(\"The average score on opus for the single grip is {0}\".format(sht.opusElecSG.dropna().mean()))\n",
    "print()\n",
    "print(stats.ttest_ind(sht.opusMA.dropna(), sht.opusElecSG.dropna()))"
   ]
  },
  {
   "cell_type": "markdown",
   "metadata": {},
   "source": [
    "The higher score on the single grip hands is not significant."
   ]
  },
  {
   "cell_type": "code",
   "execution_count": 19,
   "metadata": {
    "collapsed": false
   },
   "outputs": [
    {
     "data": {
      "image/png": "[encoded data removed]",
      "text/plain": [
       "<matplotlib.figure.Figure at 0x1eaf5d56668>"
      ]
     },
     "metadata": {},
     "output_type": "display_data"
    }
   ],
   "source": [
    "plt.hist(sht.opusElecSG.dropna(), alpha=0.6, color='r', label = \"Electric Single Grip\")\n",
    "plt.hist(sht.opusMA.dropna(), alpha=0.6, color='b', label = \"Multi-articulating hands\")\n",
    "plt.title(\"Opus Score of Single Grip vs. Multi-articulating\")\n",
    "plt.legend()\n",
    "plt.show()"
   ]
  },
  {
   "cell_type": "markdown",
   "metadata": {},
   "source": [
    "### vs. Body Powered"
   ]
  },
  {
   "cell_type": "code",
   "execution_count": 20,
   "metadata": {
    "collapsed": false
   },
   "outputs": [
    {
     "name": "stdout",
     "output_type": "stream",
     "text": [
      "The hands in the multi-articulating group are ['bebionic Hand', 'i-limb Hand', 'Michelangelo Hand']\n",
      "\n",
      "The hands in the body powered group are ['TRS Hook', 'Hosmer Hook', 'Body-powered Hand']\n",
      "\n",
      "The average score on opus for the multi-articulating is 3.211555785883242\n",
      "The average score on opus for body powered is 3.0644314336729175\n",
      "\n",
      "Ttest_indResult(statistic=4.0026683585178757, pvalue=7.2923558005955942e-05)\n"
     ]
    }
   ],
   "source": [
    "print(\"The hands in the multi-articulating group are {0}\".format(electricHandMA))\n",
    "print()\n",
    "print(\"The hands in the body powered group are {0}\".format(bodyPoweredHooks))\n",
    "print()\n",
    "print(\"The average score on opus for the multi-articulating is {0}\".format(sht.opusMA.dropna().mean()))\n",
    "print(\"The average score on opus for body powered is {0}\".format(sht.opusBPHook.dropna().mean()))\n",
    "print()\n",
    "print(stats.ttest_ind(sht.opusMA.dropna(), sht.opusBPHook.dropna()))"
   ]
  },
  {
   "cell_type": "markdown",
   "metadata": {},
   "source": [
    "The higher score on the normalized opus by the multi-articulating hands is significant."
   ]
  },
  {
   "cell_type": "code",
   "execution_count": 40,
   "metadata": {
    "collapsed": false
   },
   "outputs": [
    {
     "data": {
      "image/png": "[encoded data removed]",
      "text/plain": [
       "<matplotlib.figure.Figure at 0x1eaf5309240>"
      ]
     },
     "metadata": {},
     "output_type": "display_data"
    }
   ],
   "source": [
    "plt.hist(sht.opusMA.dropna(), alpha=0.6, color='b', label = \"Multi-articulating hands\")\n",
    "plt.hist(sht.opusBPHook.dropna(), alpha=0.6, color='r', label = \"Body Powered\")\n",
    "plt.title(\"Normalized Opus Score\")\n",
    "plt.legend()\n",
    "plt.show()"
   ]
  },
  {
   "cell_type": "markdown",
   "metadata": {
    "collapsed": true
   },
   "source": [
    "# Check t-test analysis\n",
    "The results from t-tests can sometimes lead to too many false positives, anova and Tukey's test accomadate for multiple comparisons.  So the below should be a validation of what was observed above.\n",
    "\n",
    "To recall the T-tests for the following were significant (with the grouping with the higher mean score coming first)\n",
    "* Electric Hand vs. Electric Hooks\n",
    "* Single Grip vs. Electric Hooks\n",
    "* Multi-articulating vs. Electric Hooks\n",
    "* Multi-articulating vs. Body-powered\n",
    "\n",
    "## ANOVA\n",
    "Use anova to make sure there is a difference in the means of at least one of the opus scores between the body powered, multi-articulating, single grip, and electric hooks"
   ]
  },
  {
   "cell_type": "code",
   "execution_count": 22,
   "metadata": {
    "collapsed": false
   },
   "outputs": [
    {
     "name": "stdout",
     "output_type": "stream",
     "text": [
      "The body powered hooks are ['TRS Hook', 'Hosmer Hook', 'Body-powered Hand']\n",
      "\n",
      "The multi-articulating hands are ['bebionic Hand', 'i-limb Hand', 'Michelangelo Hand']\n",
      "\n",
      "The single grip hands are ['Motion Control (MC) Hand', 'Otto Bock Hand']\n",
      "\n",
      "The electric hooks are ['Motion Control (MC) ETD', 'Otto Bock Axon Hook', 'Otto Bock Greifer']\n"
     ]
    }
   ],
   "source": [
    "print(\"The body powered hooks are {0}\".format(bodyPoweredHooks))\n",
    "print()\n",
    "print(\"The multi-articulating hands are {0}\".format(electricHandMA))\n",
    "print()\n",
    "print(\"The single grip hands are {0}\".format(electricHandSG))\n",
    "print()\n",
    "print(\"The electric hooks are {0}\".format(electricHooks))"
   ]
  },
  {
   "cell_type": "markdown",
   "metadata": {},
   "source": [
    "Now we'll run anova to check that there is a difference among the mean scores on opus of these 4 groups."
   ]
  },
  {
   "cell_type": "code",
   "execution_count": 23,
   "metadata": {
    "collapsed": false
   },
   "outputs": [
    {
     "data": {
      "text/plain": [
       "F_onewayResult(statistic=10.115388615804502, pvalue=1.3957021019213132e-06)"
      ]
     },
     "execution_count": 23,
     "metadata": {},
     "output_type": "execute_result"
    }
   ],
   "source": [
    "stats.f_oneway(sht.opusBPHook.dropna(), sht.opusMA.dropna(), sht.opusElecSG.dropna(), sht.opusEHo.dropna())"
   ]
  },
  {
   "cell_type": "markdown",
   "metadata": {},
   "source": [
    "We definetely have have signficance at 0.05."
   ]
  },
  {
   "cell_type": "markdown",
   "metadata": {},
   "source": [
    "## Tukey\n",
    "\n",
    "The below will display a graph and a table the table will tell us the mean difference, confidence intervals and if we can reject the null hypothesis at a 95% confidence level"
   ]
  },
  {
   "cell_type": "code",
   "execution_count": 24,
   "metadata": {
    "collapsed": false
   },
   "outputs": [],
   "source": [
    "opusDf = pd.concat([sht['PrimaryTerminalDevice'], sht['normalizedOpus']], axis=1, keys=['deviceCategory','normalizedOpus'])\n",
    "opusDf[\"deviceCategory\"] = opusDf[\"deviceCategory\"].replace([bodyPoweredHooks],\"Body Powered\")\n",
    "opusDf[\"deviceCategory\"] = opusDf[\"deviceCategory\"].replace([electricHandMA], \"Multi-articulating\")\n",
    "opusDf[\"deviceCategory\"] = opusDf[\"deviceCategory\"].replace([electricHandSG], \"Single Grip\")\n",
    "opusDf[\"deviceCategory\"] = opusDf[\"deviceCategory\"].replace([electricHooks], \"Electric Hooks\")\n",
    "opusDf[\"deviceCategory\"] = opusDf[\"deviceCategory\"].replace('Otto.*', \"Electric Hooks\", regex=True)\n",
    "opusDf[\"deviceCategory\"] = opusDf[\"deviceCategory\"].replace('Other.*', np.nan, regex=True)\n",
    "opusDf[\"deviceCategory\"] = opusDf[\"deviceCategory\"].replace('Pass.*', np.nan, regex=True)\n",
    "#groups = opusDf.groupby(opusDf['deviceCategory']).groups\n",
    "#opusDf['deviceCategory'] = str(opusDf['deviceCategory'])\n",
    "opusDf = opusDf.dropna()\n",
    "df = opusDf.as_matrix()\n",
    "dC = df[:,0].astype(str)\n",
    "oS = df[:,1].astype(float)"
   ]
  },
  {
   "cell_type": "code",
   "execution_count": 25,
   "metadata": {
    "collapsed": false
   },
   "outputs": [
    {
     "data": {
      "text/html": [
       "<table class=\"simpletable\">\n",
       "<caption>Multiple Comparison of Means - Tukey HSD,FWER=0.05</caption>\n",
       "<tr>\n",
       "        <th>group1</th>             <th>group2</th>       <th>meandiff</th>  <th>lower</th>   <th>upper</th> <th>reject</th>\n",
       "</tr>\n",
       "<tr>\n",
       "     <td>Body Powered</td>      <td>Electric Hooks</td>    <td>0.0302</td>  <td>-0.0913</td> <td>0.1517</td>  <td>False</td>\n",
       "</tr>\n",
       "<tr>\n",
       "     <td>Body Powered</td>    <td>Multi-articulating</td>  <td>0.1471</td>  <td>0.0463</td>  <td>0.2479</td>  <td>True</td> \n",
       "</tr>\n",
       "<tr>\n",
       "     <td>Body Powered</td>        <td>Single Grip</td>      <td>0.15</td>   <td>0.0607</td>  <td>0.2394</td>  <td>True</td> \n",
       "</tr>\n",
       "<tr>\n",
       "    <td>Electric Hooks</td>   <td>Multi-articulating</td>  <td>0.1169</td>  <td>0.0043</td>  <td>0.2295</td>  <td>True</td> \n",
       "</tr>\n",
       "<tr>\n",
       "    <td>Electric Hooks</td>       <td>Single Grip</td>     <td>0.1198</td>  <td>0.0173</td>  <td>0.2223</td>  <td>True</td> \n",
       "</tr>\n",
       "<tr>\n",
       "  <td>Multi-articulating</td>     <td>Single Grip</td>     <td>0.0029</td>  <td>-0.074</td>  <td>0.0798</td>  <td>False</td>\n",
       "</tr>\n",
       "</table>"
      ],
      "text/plain": [
       "<class 'statsmodels.iolib.table.SimpleTable'>"
      ]
     },
     "execution_count": 25,
     "metadata": {},
     "output_type": "execute_result"
    },
    {
     "data": {
      "image/png": "[encoded data removed]",
      "text/plain": [
       "<matplotlib.figure.Figure at 0x1eaf5af0908>"
      ]
     },
     "metadata": {},
     "output_type": "display_data"
    }
   ],
   "source": [
    "from ipykernel import kernelapp as app\n",
    "from statsmodels.stats.multicomp import pairwise_tukeyhsd\n",
    "tukey = pairwise_tukeyhsd(endog = oS,\n",
    "                         groups = dC,\n",
    "                         alpha = 0.05)\n",
    "tukey.plot_simultaneous()    # Plot group confidence intervals\n",
    "plt.vlines(x=49.57,ymin=-0.5,ymax=4.5, color=\"red\")\n",
    "\n",
    "tukey.summary()           "
   ]
  },
  {
   "cell_type": "markdown",
   "metadata": {},
   "source": [
    "At a significance level of 0.05 we are beginning to see that the hands are outperforming electric hooks and body powered hooks on the normalized opus.  This confirms what we saw in the T-tests."
   ]
  },
  {
   "cell_type": "markdown",
   "metadata": {},
   "source": [
    "## Significance among brands\n",
    "I'm curious if we'll get something  by looking at the specific brands"
   ]
  },
  {
   "cell_type": "code",
   "execution_count": 26,
   "metadata": {
    "collapsed": false
   },
   "outputs": [
    {
     "data": {
      "text/html": [
       "<table class=\"simpletable\">\n",
       "<caption>Multiple Comparison of Means - Tukey HSD,FWER=0.05</caption>\n",
       "<tr>\n",
       "           <th>group1</th>                   <th>group2</th>          <th>meandiff</th>  <th>lower</th>   <th>upper</th>  <th>reject</th>\n",
       "</tr>\n",
       "<tr>\n",
       "      <td>Body-powered Hand</td>           <td>Hosmer Hook</td>        <td>0.4603</td>  <td>0.2396</td>  <td>0.6809</td>   <td>True</td> \n",
       "</tr>\n",
       "<tr>\n",
       "      <td>Body-powered Hand</td>        <td>Michelangelo Hand</td>     <td>0.3782</td>  <td>0.2122</td>  <td>0.5442</td>   <td>True</td> \n",
       "</tr>\n",
       "<tr>\n",
       "      <td>Body-powered Hand</td>     <td>Motion Control (MC) ETD</td>  <td>0.0403</td>  <td>-0.1375</td> <td>0.2181</td>   <td>False</td>\n",
       "</tr>\n",
       "<tr>\n",
       "      <td>Body-powered Hand</td>    <td>Motion Control (MC) Hand</td>  <td>0.2509</td>  <td>0.1236</td>  <td>0.3782</td>   <td>True</td> \n",
       "</tr>\n",
       "<tr>\n",
       "      <td>Body-powered Hand</td>     <td>Other (please specify)</td>   <td>0.4364</td>  <td>-0.4925</td> <td>1.3654</td>   <td>False</td>\n",
       "</tr>\n",
       "<tr>\n",
       "      <td>Body-powered Hand</td>       <td>Otto Bock Axon Hook</td>    <td>0.3339</td>  <td>0.0633</td>  <td>0.6046</td>   <td>True</td> \n",
       "</tr>\n",
       "<tr>\n",
       "      <td>Body-powered Hand</td>         <td>Otto Bock Hand</td>       <td>0.3144</td>  <td>0.1592</td>  <td>0.4695</td>   <td>True</td> \n",
       "</tr>\n",
       "<tr>\n",
       "      <td>Body-powered Hand</td>        <td>Otto BockGreifer</td>      <td>0.4464</td>  <td>0.0804</td>  <td>0.8125</td>   <td>True</td> \n",
       "</tr>\n",
       "<tr>\n",
       "      <td>Body-powered Hand</td>          <td>Passive Hand</td>        <td>0.3056</td>  <td>-0.0391</td> <td>0.6503</td>   <td>False</td>\n",
       "</tr>\n",
       "<tr>\n",
       "      <td>Body-powered Hand</td>            <td>TRS Hook</td>          <td>-0.0628</td> <td>-0.9917</td> <td>0.8662</td>   <td>False</td>\n",
       "</tr>\n",
       "<tr>\n",
       "      <td>Body-powered Hand</td>          <td>bebionic Hand</td>       <td>0.0343</td>  <td>-0.1347</td> <td>0.2033</td>   <td>False</td>\n",
       "</tr>\n",
       "<tr>\n",
       "      <td>Body-powered Hand</td>           <td>i-limb Hand</td>        <td>0.4488</td>  <td>0.2479</td>  <td>0.6498</td>   <td>True</td> \n",
       "</tr>\n",
       "<tr>\n",
       "         <td>Hosmer Hook</td>           <td>Michelangelo Hand</td>     <td>-0.0821</td> <td>-0.3085</td> <td>0.1442</td>   <td>False</td>\n",
       "</tr>\n",
       "<tr>\n",
       "         <td>Hosmer Hook</td>        <td>Motion Control (MC) ETD</td>  <td>-0.4199</td> <td>-0.6551</td> <td>-0.1848</td>  <td>True</td> \n",
       "</tr>\n",
       "<tr>\n",
       "         <td>Hosmer Hook</td>       <td>Motion Control (MC) Hand</td>  <td>-0.2094</td> <td>-0.4091</td> <td>-0.0097</td>  <td>True</td> \n",
       "</tr>\n",
       "<tr>\n",
       "         <td>Hosmer Hook</td>        <td>Other (please specify)</td>   <td>-0.0238</td> <td>-0.9654</td> <td>0.9177</td>   <td>False</td>\n",
       "</tr>\n",
       "<tr>\n",
       "         <td>Hosmer Hook</td>          <td>Otto Bock Axon Hook</td>    <td>-0.1263</td> <td>-0.4377</td>  <td>0.185</td>   <td>False</td>\n",
       "</tr>\n",
       "<tr>\n",
       "         <td>Hosmer Hook</td>            <td>Otto Bock Hand</td>       <td>-0.1459</td> <td>-0.3644</td> <td>0.0726</td>   <td>False</td>\n",
       "</tr>\n",
       "<tr>\n",
       "         <td>Hosmer Hook</td>           <td>Otto BockGreifer</td>      <td>-0.0139</td> <td>-0.4109</td> <td>0.3832</td>   <td>False</td>\n",
       "</tr>\n",
       "<tr>\n",
       "         <td>Hosmer Hook</td>             <td>Passive Hand</td>        <td>-0.1547</td> <td>-0.5321</td> <td>0.2228</td>   <td>False</td>\n",
       "</tr>\n",
       "<tr>\n",
       "         <td>Hosmer Hook</td>               <td>TRS Hook</td>          <td>-0.523</td>  <td>-1.4646</td> <td>0.4185</td>   <td>False</td>\n",
       "</tr>\n",
       "<tr>\n",
       "         <td>Hosmer Hook</td>             <td>bebionic Hand</td>       <td>-0.426</td>  <td>-0.6545</td> <td>-0.1974</td>  <td>True</td> \n",
       "</tr>\n",
       "<tr>\n",
       "         <td>Hosmer Hook</td>              <td>i-limb Hand</td>        <td>-0.0114</td> <td>-0.2646</td> <td>0.2417</td>   <td>False</td>\n",
       "</tr>\n",
       "<tr>\n",
       "      <td>Michelangelo Hand</td>     <td>Motion Control (MC) ETD</td>  <td>-0.3378</td> <td>-0.5226</td> <td>-0.153</td>   <td>True</td> \n",
       "</tr>\n",
       "<tr>\n",
       "      <td>Michelangelo Hand</td>    <td>Motion Control (MC) Hand</td>  <td>-0.1272</td> <td>-0.2642</td> <td>0.0097</td>   <td>False</td>\n",
       "</tr>\n",
       "<tr>\n",
       "      <td>Michelangelo Hand</td>     <td>Other (please specify)</td>   <td>0.0583</td>  <td>-0.872</td>  <td>0.9886</td>   <td>False</td>\n",
       "</tr>\n",
       "<tr>\n",
       "      <td>Michelangelo Hand</td>       <td>Otto Bock Axon Hook</td>    <td>-0.0442</td> <td>-0.3195</td> <td>0.2311</td>   <td>False</td>\n",
       "</tr>\n",
       "<tr>\n",
       "      <td>Michelangelo Hand</td>         <td>Otto Bock Hand</td>       <td>-0.0638</td> <td>-0.2269</td> <td>0.0994</td>   <td>False</td>\n",
       "</tr>\n",
       "<tr>\n",
       "      <td>Michelangelo Hand</td>        <td>Otto BockGreifer</td>      <td>0.0683</td>  <td>-0.3012</td> <td>0.4378</td>   <td>False</td>\n",
       "</tr>\n",
       "<tr>\n",
       "      <td>Michelangelo Hand</td>          <td>Passive Hand</td>        <td>-0.0725</td> <td>-0.4209</td> <td>0.2758</td>   <td>False</td>\n",
       "</tr>\n",
       "<tr>\n",
       "      <td>Michelangelo Hand</td>            <td>TRS Hook</td>          <td>-0.4409</td> <td>-1.3712</td> <td>0.4894</td>   <td>False</td>\n",
       "</tr>\n",
       "<tr>\n",
       "      <td>Michelangelo Hand</td>          <td>bebionic Hand</td>       <td>-0.3438</td> <td>-0.5202</td> <td>-0.1675</td>  <td>True</td> \n",
       "</tr>\n",
       "<tr>\n",
       "      <td>Michelangelo Hand</td>           <td>i-limb Hand</td>        <td>0.0707</td>  <td>-0.1365</td> <td>0.2779</td>   <td>False</td>\n",
       "</tr>\n",
       "<tr>\n",
       "   <td>Motion Control (MC) ETD</td> <td>Motion Control (MC) Hand</td>  <td>0.2106</td>  <td>0.0596</td>  <td>0.3616</td>   <td>True</td> \n",
       "</tr>\n",
       "<tr>\n",
       "   <td>Motion Control (MC) ETD</td>  <td>Other (please specify)</td>   <td>0.3961</td>  <td>-0.5364</td> <td>1.3286</td>   <td>False</td>\n",
       "</tr>\n",
       "<tr>\n",
       "   <td>Motion Control (MC) ETD</td>    <td>Otto Bock Axon Hook</td>    <td>0.2936</td>   <td>0.011</td>  <td>0.5762</td>   <td>True</td> \n",
       "</tr>\n",
       "<tr>\n",
       "   <td>Motion Control (MC) ETD</td>      <td>Otto Bock Hand</td>        <td>0.274</td>  <td>0.0989</td>  <td>0.4492</td>   <td>True</td> \n",
       "</tr>\n",
       "<tr>\n",
       "   <td>Motion Control (MC) ETD</td>     <td>Otto BockGreifer</td>      <td>0.4061</td>  <td>0.0311</td>   <td>0.781</td>   <td>True</td> \n",
       "</tr>\n",
       "<tr>\n",
       "   <td>Motion Control (MC) ETD</td>       <td>Passive Hand</td>        <td>0.2653</td>  <td>-0.0888</td> <td>0.6194</td>   <td>False</td>\n",
       "</tr>\n",
       "<tr>\n",
       "   <td>Motion Control (MC) ETD</td>         <td>TRS Hook</td>          <td>-0.1031</td> <td>-1.0356</td> <td>0.8294</td>   <td>False</td>\n",
       "</tr>\n",
       "<tr>\n",
       "   <td>Motion Control (MC) ETD</td>       <td>bebionic Hand</td>       <td>-0.006</td>  <td>-0.1935</td> <td>0.1815</td>   <td>False</td>\n",
       "</tr>\n",
       "<tr>\n",
       "   <td>Motion Control (MC) ETD</td>        <td>i-limb Hand</td>        <td>0.4085</td>  <td>0.1917</td>  <td>0.6253</td>   <td>True</td> \n",
       "</tr>\n",
       "<tr>\n",
       "  <td>Motion Control (MC) Hand</td>  <td>Other (please specify)</td>   <td>0.1855</td>  <td>-0.7386</td> <td>1.1097</td>   <td>False</td>\n",
       "</tr>\n",
       "<tr>\n",
       "  <td>Motion Control (MC) Hand</td>    <td>Otto Bock Axon Hook</td>     <td>0.083</td>  <td>-0.1708</td> <td>0.3369</td>   <td>False</td>\n",
       "</tr>\n",
       "<tr>\n",
       "  <td>Motion Control (MC) Hand</td>      <td>Otto Bock Hand</td>       <td>0.0635</td>  <td>-0.0601</td>  <td>0.187</td>   <td>False</td>\n",
       "</tr>\n",
       "<tr>\n",
       "  <td>Motion Control (MC) Hand</td>     <td>Otto BockGreifer</td>      <td>0.1955</td>  <td>-0.1583</td> <td>0.5493</td>   <td>False</td>\n",
       "</tr>\n",
       "<tr>\n",
       "  <td>Motion Control (MC) Hand</td>       <td>Passive Hand</td>        <td>0.0547</td>  <td>-0.2769</td> <td>0.3864</td>   <td>False</td>\n",
       "</tr>\n",
       "<tr>\n",
       "  <td>Motion Control (MC) Hand</td>         <td>TRS Hook</td>          <td>-0.3137</td> <td>-1.2378</td> <td>0.6105</td>   <td>False</td>\n",
       "</tr>\n",
       "<tr>\n",
       "  <td>Motion Control (MC) Hand</td>       <td>bebionic Hand</td>       <td>-0.2166</td> <td>-0.3571</td> <td>-0.0761</td>  <td>True</td> \n",
       "</tr>\n",
       "<tr>\n",
       "  <td>Motion Control (MC) Hand</td>        <td>i-limb Hand</td>        <td>0.1979</td>  <td>0.0202</td>  <td>0.3756</td>   <td>True</td> \n",
       "</tr>\n",
       "<tr>\n",
       "   <td>Other (please specify)</td>     <td>Otto Bock Axon Hook</td>    <td>-0.1025</td> <td>-1.057</td>   <td>0.852</td>   <td>False</td>\n",
       "</tr>\n",
       "<tr>\n",
       "   <td>Other (please specify)</td>       <td>Otto Bock Hand</td>       <td>-0.1221</td> <td>-1.0505</td> <td>0.8064</td>   <td>False</td>\n",
       "</tr>\n",
       "<tr>\n",
       "   <td>Other (please specify)</td>      <td>Otto BockGreifer</td>       <td>0.01</td>   <td>-0.9758</td> <td>0.9958</td>   <td>False</td>\n",
       "</tr>\n",
       "<tr>\n",
       "   <td>Other (please specify)</td>        <td>Passive Hand</td>        <td>-0.1308</td> <td>-1.1089</td> <td>0.8473</td>   <td>False</td>\n",
       "</tr>\n",
       "<tr>\n",
       "   <td>Other (please specify)</td>          <td>TRS Hook</td>          <td>-0.4992</td> <td>-1.8033</td> <td>0.8049</td>   <td>False</td>\n",
       "</tr>\n",
       "<tr>\n",
       "   <td>Other (please specify)</td>        <td>bebionic Hand</td>       <td>-0.4021</td> <td>-1.333</td>  <td>0.5287</td>   <td>False</td>\n",
       "</tr>\n",
       "<tr>\n",
       "   <td>Other (please specify)</td>         <td>i-limb Hand</td>        <td>0.0124</td>  <td>-0.9248</td> <td>0.9496</td>   <td>False</td>\n",
       "</tr>\n",
       "<tr>\n",
       "     <td>Otto Bock Axon Hook</td>        <td>Otto Bock Hand</td>       <td>-0.0196</td> <td>-0.2885</td> <td>0.2494</td>   <td>False</td>\n",
       "</tr>\n",
       "<tr>\n",
       "     <td>Otto Bock Axon Hook</td>       <td>Otto BockGreifer</td>      <td>0.1125</td>  <td>-0.3144</td> <td>0.5394</td>   <td>False</td>\n",
       "</tr>\n",
       "<tr>\n",
       "     <td>Otto Bock Axon Hook</td>         <td>Passive Hand</td>        <td>-0.0283</td> <td>-0.437</td>  <td>0.3804</td>   <td>False</td>\n",
       "</tr>\n",
       "<tr>\n",
       "     <td>Otto Bock Axon Hook</td>           <td>TRS Hook</td>          <td>-0.3967</td> <td>-1.3512</td> <td>0.5578</td>   <td>False</td>\n",
       "</tr>\n",
       "<tr>\n",
       "     <td>Otto Bock Axon Hook</td>         <td>bebionic Hand</td>       <td>-0.2996</td> <td>-0.5767</td> <td>-0.0225</td>  <td>True</td> \n",
       "</tr>\n",
       "<tr>\n",
       "     <td>Otto Bock Axon Hook</td>          <td>i-limb Hand</td>        <td>0.1149</td>  <td>-0.1828</td> <td>0.4126</td>   <td>False</td>\n",
       "</tr>\n",
       "<tr>\n",
       "       <td>Otto Bock Hand</td>          <td>Otto BockGreifer</td>       <td>0.132</td>  <td>-0.2327</td> <td>0.4968</td>   <td>False</td>\n",
       "</tr>\n",
       "<tr>\n",
       "       <td>Otto Bock Hand</td>            <td>Passive Hand</td>        <td>-0.0088</td> <td>-0.3521</td> <td>0.3346</td>   <td>False</td>\n",
       "</tr>\n",
       "<tr>\n",
       "       <td>Otto Bock Hand</td>              <td>TRS Hook</td>          <td>-0.3771</td> <td>-1.3056</td> <td>0.5513</td>   <td>False</td>\n",
       "</tr>\n",
       "<tr>\n",
       "       <td>Otto Bock Hand</td>            <td>bebionic Hand</td>       <td>-0.2801</td> <td>-0.4463</td> <td>-0.1139</td>  <td>True</td> \n",
       "</tr>\n",
       "<tr>\n",
       "       <td>Otto Bock Hand</td>             <td>i-limb Hand</td>        <td>0.1345</td>  <td>-0.0642</td> <td>0.3331</td>   <td>False</td>\n",
       "</tr>\n",
       "<tr>\n",
       "      <td>Otto BockGreifer</td>           <td>Passive Hand</td>        <td>-0.1408</td> <td>-0.6181</td> <td>0.3365</td>   <td>False</td>\n",
       "</tr>\n",
       "<tr>\n",
       "      <td>Otto BockGreifer</td>             <td>TRS Hook</td>          <td>-0.5092</td> <td>-1.495</td>  <td>0.4766</td>   <td>False</td>\n",
       "</tr>\n",
       "<tr>\n",
       "      <td>Otto BockGreifer</td>           <td>bebionic Hand</td>       <td>-0.4121</td> <td>-0.783</td>  <td>-0.0413</td>  <td>True</td> \n",
       "</tr>\n",
       "<tr>\n",
       "      <td>Otto BockGreifer</td>            <td>i-limb Hand</td>        <td>0.0024</td>  <td>-0.3841</td> <td>0.3889</td>   <td>False</td>\n",
       "</tr>\n",
       "<tr>\n",
       "        <td>Passive Hand</td>               <td>TRS Hook</td>          <td>-0.3684</td> <td>-1.3465</td> <td>0.6097</td>   <td>False</td>\n",
       "</tr>\n",
       "<tr>\n",
       "        <td>Passive Hand</td>             <td>bebionic Hand</td>       <td>-0.2713</td> <td>-0.6211</td> <td>0.0785</td>   <td>False</td>\n",
       "</tr>\n",
       "<tr>\n",
       "        <td>Passive Hand</td>              <td>i-limb Hand</td>        <td>0.1432</td>  <td>-0.2231</td> <td>0.5095</td>   <td>False</td>\n",
       "</tr>\n",
       "<tr>\n",
       "          <td>TRS Hook</td>               <td>bebionic Hand</td>       <td>0.0971</td>  <td>-0.8338</td> <td>1.0279</td>   <td>False</td>\n",
       "</tr>\n",
       "<tr>\n",
       "          <td>TRS Hook</td>                <td>i-limb Hand</td>        <td>0.5116</td>  <td>-0.4256</td> <td>1.4488</td>   <td>False</td>\n",
       "</tr>\n",
       "<tr>\n",
       "        <td>bebionic Hand</td>             <td>i-limb Hand</td>        <td>0.4145</td>   <td>0.205</td>  <td>0.6241</td>   <td>True</td> \n",
       "</tr>\n",
       "</table>"
      ],
      "text/plain": [
       "<class 'statsmodels.iolib.table.SimpleTable'>"
      ]
     },
     "execution_count": 26,
     "metadata": {},
     "output_type": "execute_result"
    },
    {
     "data": {
      "image/png": "[encoded data removed]",
      "text/plain": [
       "<matplotlib.figure.Figure at 0x1eaf5e3aef0>"
      ]
     },
     "metadata": {},
     "output_type": "display_data"
    }
   ],
   "source": [
    "opusDf = pd.concat([sht['PrimaryTerminalDevice'], sht['normalizedOpus']], axis=1, keys=['deviceCategory','normalizedOpus'])\n",
    "opusDf = opusDf.dropna()\n",
    "df = opusDf.as_matrix()\n",
    "dC = df[:,0].astype(str)\n",
    "oS = df[:,1].astype(float)\n",
    "tukey = pairwise_tukeyhsd(endog = oS,\n",
    "                         groups = dC,\n",
    "                         alpha = 0.05)\n",
    "tukey.plot_simultaneous()    # Plot group confidence intervals\n",
    "tukey.summary() "
   ]
  },
  {
   "cell_type": "markdown",
   "metadata": {},
   "source": [
    "The TRS Hook and \"other\" are mucking up the scale, let's remove those"
   ]
  },
  {
   "cell_type": "code",
   "execution_count": 27,
   "metadata": {
    "collapsed": false
   },
   "outputs": [
    {
     "data": {
      "text/html": [
       "<table class=\"simpletable\">\n",
       "<caption>Multiple Comparison of Means - Tukey HSD,FWER=0.05</caption>\n",
       "<tr>\n",
       "           <th>group1</th>                   <th>group2</th>          <th>meandiff</th>  <th>lower</th>   <th>upper</th>  <th>reject</th>\n",
       "</tr>\n",
       "<tr>\n",
       "      <td>Body-powered Hand</td>           <td>Hosmer Hook</td>        <td>0.4603</td>  <td>0.2459</td>  <td>0.6747</td>   <td>True</td> \n",
       "</tr>\n",
       "<tr>\n",
       "      <td>Body-powered Hand</td>        <td>Michelangelo Hand</td>     <td>0.3782</td>  <td>0.2169</td>  <td>0.5394</td>   <td>True</td> \n",
       "</tr>\n",
       "<tr>\n",
       "      <td>Body-powered Hand</td>     <td>Motion Control (MC) ETD</td>  <td>0.0403</td>  <td>-0.1324</td> <td>0.2131</td>   <td>False</td>\n",
       "</tr>\n",
       "<tr>\n",
       "      <td>Body-powered Hand</td>    <td>Motion Control (MC) Hand</td>  <td>0.2509</td>  <td>0.1273</td>  <td>0.3746</td>   <td>True</td> \n",
       "</tr>\n",
       "<tr>\n",
       "      <td>Body-powered Hand</td>       <td>Otto Bock Axon Hook</td>    <td>0.3339</td>   <td>0.071</td>  <td>0.5969</td>   <td>True</td> \n",
       "</tr>\n",
       "<tr>\n",
       "      <td>Body-powered Hand</td>         <td>Otto Bock Hand</td>       <td>0.3144</td>  <td>0.1636</td>  <td>0.4651</td>   <td>True</td> \n",
       "</tr>\n",
       "<tr>\n",
       "      <td>Body-powered Hand</td>        <td>Otto BockGreifer</td>      <td>0.4464</td>  <td>0.0908</td>   <td>0.802</td>   <td>True</td> \n",
       "</tr>\n",
       "<tr>\n",
       "      <td>Body-powered Hand</td>          <td>Passive Hand</td>        <td>0.3056</td>  <td>-0.0292</td> <td>0.6405</td>   <td>False</td>\n",
       "</tr>\n",
       "<tr>\n",
       "      <td>Body-powered Hand</td>          <td>bebionic Hand</td>       <td>0.0343</td>  <td>-0.1299</td> <td>0.1985</td>   <td>False</td>\n",
       "</tr>\n",
       "<tr>\n",
       "      <td>Body-powered Hand</td>           <td>i-limb Hand</td>        <td>0.4488</td>  <td>0.2536</td>  <td>0.6441</td>   <td>True</td> \n",
       "</tr>\n",
       "<tr>\n",
       "         <td>Hosmer Hook</td>           <td>Michelangelo Hand</td>     <td>-0.0821</td> <td>-0.302</td>  <td>0.1378</td>   <td>False</td>\n",
       "</tr>\n",
       "<tr>\n",
       "         <td>Hosmer Hook</td>        <td>Motion Control (MC) ETD</td>  <td>-0.4199</td> <td>-0.6484</td> <td>-0.1915</td>  <td>True</td> \n",
       "</tr>\n",
       "<tr>\n",
       "         <td>Hosmer Hook</td>       <td>Motion Control (MC) Hand</td>  <td>-0.2094</td> <td>-0.4034</td> <td>-0.0153</td>  <td>True</td> \n",
       "</tr>\n",
       "<tr>\n",
       "         <td>Hosmer Hook</td>          <td>Otto Bock Axon Hook</td>    <td>-0.1263</td> <td>-0.4288</td> <td>0.1761</td>   <td>False</td>\n",
       "</tr>\n",
       "<tr>\n",
       "         <td>Hosmer Hook</td>            <td>Otto Bock Hand</td>       <td>-0.1459</td> <td>-0.3582</td> <td>0.0664</td>   <td>False</td>\n",
       "</tr>\n",
       "<tr>\n",
       "         <td>Hosmer Hook</td>           <td>Otto BockGreifer</td>      <td>-0.0139</td> <td>-0.3996</td> <td>0.3719</td>   <td>False</td>\n",
       "</tr>\n",
       "<tr>\n",
       "         <td>Hosmer Hook</td>             <td>Passive Hand</td>        <td>-0.1547</td> <td>-0.5214</td> <td>0.2121</td>   <td>False</td>\n",
       "</tr>\n",
       "<tr>\n",
       "         <td>Hosmer Hook</td>             <td>bebionic Hand</td>       <td>-0.426</td>  <td>-0.648</td>  <td>-0.2039</td>  <td>True</td> \n",
       "</tr>\n",
       "<tr>\n",
       "         <td>Hosmer Hook</td>              <td>i-limb Hand</td>        <td>-0.0114</td> <td>-0.2573</td> <td>0.2345</td>   <td>False</td>\n",
       "</tr>\n",
       "<tr>\n",
       "      <td>Michelangelo Hand</td>     <td>Motion Control (MC) ETD</td>  <td>-0.3378</td> <td>-0.5174</td> <td>-0.1583</td>  <td>True</td> \n",
       "</tr>\n",
       "<tr>\n",
       "      <td>Michelangelo Hand</td>    <td>Motion Control (MC) Hand</td>  <td>-0.1272</td> <td>-0.2603</td> <td>0.0058</td>   <td>False</td>\n",
       "</tr>\n",
       "<tr>\n",
       "      <td>Michelangelo Hand</td>       <td>Otto Bock Axon Hook</td>    <td>-0.0442</td> <td>-0.3117</td> <td>0.2232</td>   <td>False</td>\n",
       "</tr>\n",
       "<tr>\n",
       "      <td>Michelangelo Hand</td>         <td>Otto Bock Hand</td>       <td>-0.0638</td> <td>-0.2223</td> <td>0.0947</td>   <td>False</td>\n",
       "</tr>\n",
       "<tr>\n",
       "      <td>Michelangelo Hand</td>        <td>Otto BockGreifer</td>      <td>0.0683</td>  <td>-0.2907</td> <td>0.4273</td>   <td>False</td>\n",
       "</tr>\n",
       "<tr>\n",
       "      <td>Michelangelo Hand</td>          <td>Passive Hand</td>        <td>-0.0725</td> <td>-0.411</td>  <td>0.2659</td>   <td>False</td>\n",
       "</tr>\n",
       "<tr>\n",
       "      <td>Michelangelo Hand</td>          <td>bebionic Hand</td>       <td>-0.3438</td> <td>-0.5152</td> <td>-0.1725</td>  <td>True</td> \n",
       "</tr>\n",
       "<tr>\n",
       "      <td>Michelangelo Hand</td>           <td>i-limb Hand</td>        <td>0.0707</td>  <td>-0.1306</td>  <td>0.272</td>   <td>False</td>\n",
       "</tr>\n",
       "<tr>\n",
       "   <td>Motion Control (MC) ETD</td> <td>Motion Control (MC) Hand</td>  <td>0.2106</td>  <td>0.0639</td>  <td>0.3573</td>   <td>True</td> \n",
       "</tr>\n",
       "<tr>\n",
       "   <td>Motion Control (MC) ETD</td>    <td>Otto Bock Axon Hook</td>    <td>0.2936</td>  <td>0.0191</td>  <td>0.5681</td>   <td>True</td> \n",
       "</tr>\n",
       "<tr>\n",
       "   <td>Motion Control (MC) ETD</td>      <td>Otto Bock Hand</td>        <td>0.274</td>  <td>0.1039</td>  <td>0.4442</td>   <td>True</td> \n",
       "</tr>\n",
       "<tr>\n",
       "   <td>Motion Control (MC) ETD</td>     <td>Otto BockGreifer</td>      <td>0.4061</td>  <td>0.0418</td>  <td>0.7704</td>   <td>True</td> \n",
       "</tr>\n",
       "<tr>\n",
       "   <td>Motion Control (MC) ETD</td>       <td>Passive Hand</td>        <td>0.2653</td>  <td>-0.0788</td> <td>0.6093</td>   <td>False</td>\n",
       "</tr>\n",
       "<tr>\n",
       "   <td>Motion Control (MC) ETD</td>       <td>bebionic Hand</td>       <td>-0.006</td>  <td>-0.1882</td> <td>0.1761</td>   <td>False</td>\n",
       "</tr>\n",
       "<tr>\n",
       "   <td>Motion Control (MC) ETD</td>        <td>i-limb Hand</td>        <td>0.4085</td>  <td>0.1979</td>  <td>0.6191</td>   <td>True</td> \n",
       "</tr>\n",
       "<tr>\n",
       "  <td>Motion Control (MC) Hand</td>    <td>Otto Bock Axon Hook</td>     <td>0.083</td>  <td>-0.1636</td> <td>0.3296</td>   <td>False</td>\n",
       "</tr>\n",
       "<tr>\n",
       "  <td>Motion Control (MC) Hand</td>      <td>Otto Bock Hand</td>       <td>0.0635</td>  <td>-0.0566</td> <td>0.1835</td>   <td>False</td>\n",
       "</tr>\n",
       "<tr>\n",
       "  <td>Motion Control (MC) Hand</td>     <td>Otto BockGreifer</td>      <td>0.1955</td>  <td>-0.1482</td> <td>0.5392</td>   <td>False</td>\n",
       "</tr>\n",
       "<tr>\n",
       "  <td>Motion Control (MC) Hand</td>       <td>Passive Hand</td>        <td>0.0547</td>  <td>-0.2675</td> <td>0.3769</td>   <td>False</td>\n",
       "</tr>\n",
       "<tr>\n",
       "  <td>Motion Control (MC) Hand</td>       <td>bebionic Hand</td>       <td>-0.2166</td> <td>-0.3531</td> <td>-0.0801</td>  <td>True</td> \n",
       "</tr>\n",
       "<tr>\n",
       "  <td>Motion Control (MC) Hand</td>        <td>i-limb Hand</td>        <td>0.1979</td>  <td>0.0253</td>  <td>0.3706</td>   <td>True</td> \n",
       "</tr>\n",
       "<tr>\n",
       "     <td>Otto Bock Axon Hook</td>        <td>Otto Bock Hand</td>       <td>-0.0196</td> <td>-0.2808</td> <td>0.2417</td>   <td>False</td>\n",
       "</tr>\n",
       "<tr>\n",
       "     <td>Otto Bock Axon Hook</td>       <td>Otto BockGreifer</td>      <td>0.1125</td>  <td>-0.3022</td> <td>0.5272</td>   <td>False</td>\n",
       "</tr>\n",
       "<tr>\n",
       "     <td>Otto Bock Axon Hook</td>         <td>Passive Hand</td>        <td>-0.0283</td> <td>-0.4254</td> <td>0.3688</td>   <td>False</td>\n",
       "</tr>\n",
       "<tr>\n",
       "     <td>Otto Bock Axon Hook</td>         <td>bebionic Hand</td>       <td>-0.2996</td> <td>-0.5688</td> <td>-0.0304</td>  <td>True</td> \n",
       "</tr>\n",
       "<tr>\n",
       "     <td>Otto Bock Axon Hook</td>          <td>i-limb Hand</td>        <td>0.1149</td>  <td>-0.1743</td> <td>0.4041</td>   <td>False</td>\n",
       "</tr>\n",
       "<tr>\n",
       "       <td>Otto Bock Hand</td>          <td>Otto BockGreifer</td>       <td>0.132</td>  <td>-0.2223</td> <td>0.4864</td>   <td>False</td>\n",
       "</tr>\n",
       "<tr>\n",
       "       <td>Otto Bock Hand</td>            <td>Passive Hand</td>        <td>-0.0088</td> <td>-0.3423</td> <td>0.3248</td>   <td>False</td>\n",
       "</tr>\n",
       "<tr>\n",
       "       <td>Otto Bock Hand</td>            <td>bebionic Hand</td>       <td>-0.2801</td> <td>-0.4415</td> <td>-0.1186</td>  <td>True</td> \n",
       "</tr>\n",
       "<tr>\n",
       "       <td>Otto Bock Hand</td>             <td>i-limb Hand</td>        <td>0.1345</td>  <td>-0.0585</td> <td>0.3274</td>   <td>False</td>\n",
       "</tr>\n",
       "<tr>\n",
       "      <td>Otto BockGreifer</td>           <td>Passive Hand</td>        <td>-0.1408</td> <td>-0.6045</td> <td>0.3229</td>   <td>False</td>\n",
       "</tr>\n",
       "<tr>\n",
       "      <td>Otto BockGreifer</td>           <td>bebionic Hand</td>       <td>-0.4121</td> <td>-0.7724</td> <td>-0.0518</td>  <td>True</td> \n",
       "</tr>\n",
       "<tr>\n",
       "      <td>Otto BockGreifer</td>            <td>i-limb Hand</td>        <td>0.0024</td>  <td>-0.3731</td> <td>0.3779</td>   <td>False</td>\n",
       "</tr>\n",
       "<tr>\n",
       "        <td>Passive Hand</td>             <td>bebionic Hand</td>       <td>-0.2713</td> <td>-0.6111</td> <td>0.0685</td>   <td>False</td>\n",
       "</tr>\n",
       "<tr>\n",
       "        <td>Passive Hand</td>              <td>i-limb Hand</td>        <td>0.1432</td>  <td>-0.2127</td> <td>0.4991</td>   <td>False</td>\n",
       "</tr>\n",
       "<tr>\n",
       "        <td>bebionic Hand</td>             <td>i-limb Hand</td>        <td>0.4145</td>  <td>0.2109</td>  <td>0.6182</td>   <td>True</td> \n",
       "</tr>\n",
       "</table>"
      ],
      "text/plain": [
       "<class 'statsmodels.iolib.table.SimpleTable'>"
      ]
     },
     "execution_count": 27,
     "metadata": {},
     "output_type": "execute_result"
    },
    {
     "data": {
      "image/png": "[encoded data removed]",
      "text/plain": [
       "<matplotlib.figure.Figure at 0x1eaf5e3a9b0>"
      ]
     },
     "metadata": {},
     "output_type": "display_data"
    }
   ],
   "source": [
    "opusDf = pd.concat([sht['PrimaryTerminalDevice'], sht['normalizedOpus']], axis=1, keys=['primaryTD','normalizedOpus'])\n",
    "opusDf[\"primaryTD\"] = opusDf[\"primaryTD\"].replace('Other.*', np.nan, regex=True)\n",
    "opusDf[\"primaryTD\"] = opusDf[\"primaryTD\"].replace('TRS.*', np.nan, regex=True)\n",
    "opusDf = opusDf.dropna()\n",
    "df = opusDf.as_matrix()\n",
    "dC = df[:,0].astype(str)\n",
    "oS = df[:,1].astype(float)\n",
    "tukey = pairwise_tukeyhsd(endog = oS,\n",
    "                         groups = dC,\n",
    "                         alpha = 0.05)\n",
    "tukey.plot_simultaneous()    # Plot group confidence intervals\n",
    "tukey.summary() "
   ]
  },
  {
   "cell_type": "markdown",
   "metadata": {},
   "source": [
    "The brands with wide confidence intervals don't have many respondents.  The brands with narrow confidence intervals have many respondents.  This graph helps us see where everything lands."
   ]
  },
  {
   "cell_type": "code",
   "execution_count": null,
   "metadata": {
    "collapsed": true
   },
   "outputs": [],
   "source": []
  }
 ],
 "metadata": {
  "kernelspec": {
   "display_name": "Python [Root]",
   "language": "python",
   "name": "Python [Root]"
  },
  "language_info": {
   "codemirror_mode": {
    "name": "ipython",
    "version": 3
   },
   "file_extension": ".py",
   "mimetype": "text/x-python",
   "name": "python",
   "nbconvert_exporter": "python",
   "pygments_lexer": "ipython3",
   "version": "3.5.2"
  }
 },
 "nbformat": 4,
 "nbformat_minor": 0
}
