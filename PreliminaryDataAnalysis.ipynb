{
 "cells": [
  {
   "cell_type": "markdown",
   "metadata": {
    "nbpresent": {
     "id": "8da78355-a7db-4d8d-b14c-68065766b879"
    }
   },
   "source": [
    "# Preliminary Data Analysis\n",
    "\n",
    "First we need to load and clean the data\n",
    "\n"
   ]
  },
  {
   "cell_type": "code",
   "execution_count": 1,
   "metadata": {
    "collapsed": false,
    "nbpresent": {
     "id": "4f7a318b-c344-4b72-9c1a-6df87ecf0356"
    }
   },
   "outputs": [
    {
     "name": "stdout",
     "output_type": "stream",
     "text": [
      "There are 0 duplicates\n"
     ]
    }
   ],
   "source": [
    "import pandas as pd\n",
    "import numpy as np\n",
    "from scipy import stats\n",
    "import matplotlib.pyplot as plt\n",
    "from vectorSubsets import *\n",
    "from driverCleanData import cleanData\n",
    "%matplotlib inline\n",
    "[shtNoNan] = cleanData();"
   ]
  },
  {
   "cell_type": "markdown",
   "metadata": {
    "nbpresent": {
     "id": "7fd09173-5d3b-4820-833b-c80fb79a6219"
    }
   },
   "source": [
    "I coded each selection as Cannot Perform = 0, Choose Not To Perform = 1, Very Difficult = 2, Slightly Difficult = 3, Easy = 4\n",
    "\n",
    "FYI I coded things such as \"I do not wear shoes with laces\" as 0, which implies that they \"cannot perform\" the activity.  This could be changed to NaN, however then it would reduce our sample size to 24"
   ]
  },
  {
   "cell_type": "markdown",
   "metadata": {
    "nbpresent": {
     "id": "1c5a9d03-5f90-42ba-81a9-dc16674d3841"
    }
   },
   "source": [
    "The activities under the banner of OPUS are:"
   ]
  },
  {
   "cell_type": "code",
   "execution_count": 2,
   "metadata": {
    "collapsed": false,
    "nbpresent": {
     "id": "088fb3cc-7a77-4df0-96c5-7cb7f70d48bc"
    }
   },
   "outputs": [
    {
     "name": "stdout",
     "output_type": "stream",
     "text": [
      "['TieShoesWithDevice', 'AttachZipper', 'ButtonShirt', 'PutOnSocks', 'BrushCombHair', 'PlaceToothpasteToothbrush', 'BrushTeeth', 'Shave', 'UseMobilPhone', 'CarryLargeBox', 'OpenEnvelope', 'UseScissors', 'FoldBathTowel', 'UseHammerToDriveNail', 'StirFoodInBowl', 'PourDrinkFromBottle', 'UseForkAndSpoon', 'DrinkFromPaperPlastic', 'CutMeat', 'UseKeyboard']\n"
     ]
    }
   ],
   "source": [
    "print(opus)"
   ]
  },
  {
   "cell_type": "markdown",
   "metadata": {
    "nbpresent": {
     "id": "56c0382e-4cf9-49be-b44c-20a1c79ee0fc"
    }
   },
   "source": [
    "The first 5 response scores are below:"
   ]
  },
  {
   "cell_type": "code",
   "execution_count": 3,
   "metadata": {
    "collapsed": false,
    "nbpresent": {
     "id": "c2bdb94e-1b92-4a7a-a9ad-736cad881c6a"
    },
    "scrolled": true
   },
   "outputs": [
    {
     "data": {
      "text/plain": [
       "2    71\n",
       "3    73\n",
       "4    72\n",
       "5    54\n",
       "6    68\n",
       "Name: opusScore, dtype: int64"
      ]
     },
     "execution_count": 3,
     "metadata": {},
     "output_type": "execute_result"
    }
   ],
   "source": [
    "shtNoNan.opusScore.head()"
   ]
  },
  {
   "cell_type": "markdown",
   "metadata": {
    "nbpresent": {
     "id": "04d113d4-972c-40c7-bea7-53a512ce6635"
    }
   },
   "source": [
    "## Summary statistics"
   ]
  },
  {
   "cell_type": "code",
   "execution_count": 5,
   "metadata": {
    "collapsed": false,
    "nbpresent": {
     "id": "3a31f2a9-bcab-41df-899b-0d24aa093f59"
    }
   },
   "outputs": [
    {
     "data": {
      "text/plain": [
       "count    909.000000\n",
       "mean      59.647965\n",
       "std        8.562246\n",
       "min       20.000000\n",
       "25%       54.000000\n",
       "50%       58.000000\n",
       "75%       65.000000\n",
       "max       80.000000\n",
       "Name: opusScore, dtype: float64"
      ]
     },
     "execution_count": 5,
     "metadata": {},
     "output_type": "execute_result"
    }
   ],
   "source": [
    "opS = shtNoNan.opusScore.dropna()\n",
    "opS.describe()"
   ]
  },
  {
   "cell_type": "code",
   "execution_count": 6,
   "metadata": {
    "collapsed": false
   },
   "outputs": [
    {
     "data": {
      "text/plain": [
       "ModeResult(mode=array([53], dtype=int64), count=array([67]))"
      ]
     },
     "execution_count": 6,
     "metadata": {},
     "output_type": "execute_result"
    }
   ],
   "source": [
    "stats.mode(opS)"
   ]
  },
  {
   "cell_type": "markdown",
   "metadata": {
    "nbpresent": {
     "id": "13765335-d602-4207-952a-71e679843e70"
    }
   },
   "source": [
    "From the above information we have a mean of 60, a mode of 53.  The 25th percentile of 54 gives us the perception that most of the data is lumped above a score of 50.  This is good information this means that most people are at least performing the OPUS activites.  I.e. $ \\frac{50}{20} = 2.5 \\approx 3 =$ Slightly Difficult.\n",
    "\n",
    "We can double check this by inspecting the mode for each question."
   ]
  },
  {
   "cell_type": "code",
   "execution_count": 7,
   "metadata": {
    "collapsed": false
   },
   "outputs": [
    {
     "data": {
      "text/plain": [
       "array([[3, 4, 3, 3, 3, 3, 3, 3, 3, 3, 3, 3, 3, 3, 3, 3, 3, 3, 3, 3]], dtype=int64)"
      ]
     },
     "execution_count": 7,
     "metadata": {},
     "output_type": "execute_result"
    }
   ],
   "source": [
    "stats.mode(shtNoNan[opus]).mode"
   ]
  },
  {
   "cell_type": "markdown",
   "metadata": {},
   "source": [
    "The mode for each question is 3 or 4.\n",
    "\n",
    "What are the counts, how many people are selecting 3 or 4 on each question."
   ]
  },
  {
   "cell_type": "code",
   "execution_count": 8,
   "metadata": {
    "collapsed": false
   },
   "outputs": [
    {
     "data": {
      "text/plain": [
       "array([[460, 341, 381, 438, 422, 378, 447, 431, 383, 458, 451, 484, 483,\n",
       "        398, 537, 442, 452, 403, 466, 472]])"
      ]
     },
     "execution_count": 8,
     "metadata": {},
     "output_type": "execute_result"
    }
   ],
   "source": [
    "stats.mode(shtNoNan[opus]).count"
   ]
  },
  {
   "cell_type": "markdown",
   "metadata": {},
   "source": [
    "On the first question 460 people selected 3, that is over half of our data! \n",
    "\n",
    "On average how many people selected 3 or 4 on each question:"
   ]
  },
  {
   "cell_type": "code",
   "execution_count": 9,
   "metadata": {
    "collapsed": false
   },
   "outputs": [
    {
     "data": {
      "text/plain": [
       "436.35000000000002"
      ]
     },
     "execution_count": 9,
     "metadata": {},
     "output_type": "execute_result"
    }
   ],
   "source": [
    "stats.mode(shtNoNan[opus]).count.mean()"
   ]
  },
  {
   "cell_type": "code",
   "execution_count": 11,
   "metadata": {
    "collapsed": false
   },
   "outputs": [
    {
     "data": {
      "text/plain": [
       "0.48003300330033005"
      ]
     },
     "execution_count": 11,
     "metadata": {},
     "output_type": "execute_result"
    }
   ],
   "source": [
    "_9/len(shtNoNan.Age)"
   ]
  },
  {
   "cell_type": "markdown",
   "metadata": {},
   "source": [
    "On average 436 people selected 3 or 4 on a question, which is 48% of our sample.\n",
    "\n",
    "What is the standard deviation?"
   ]
  },
  {
   "cell_type": "code",
   "execution_count": 12,
   "metadata": {
    "collapsed": false
   },
   "outputs": [
    {
     "data": {
      "text/plain": [
       "44.489633624025274"
      ]
     },
     "execution_count": 12,
     "metadata": {},
     "output_type": "execute_result"
    }
   ],
   "source": [
    "np.std(stats.mode(shtNoNan[opus]).count)"
   ]
  },
  {
   "cell_type": "markdown",
   "metadata": {},
   "source": [
    "44.5, which is not too large considering our sample is 900+, so this is less than 10%.  \n",
    "\n",
    "Thus our respondents for the most part are selecting 3 = Slightly Difficult or 4 = Easy.  So the other responses are providing very little information."
   ]
  },
  {
   "cell_type": "markdown",
   "metadata": {
    "nbpresent": {
     "id": "16eb8d0c-c677-430c-94e6-975097093f71"
    }
   },
   "source": [
    "## Histogram\n"
   ]
  },
  {
   "cell_type": "code",
   "execution_count": 14,
   "metadata": {
    "collapsed": false,
    "nbpresent": {
     "id": "214f2b7a-071b-4aae-9de7-7956b338ce78"
    }
   },
   "outputs": [
    {
     "data": {
      "image/png": "[encoded data removed]",
      "text/plain": [
       "<matplotlib.figure.Figure at 0x1dc22b33be0>"
      ]
     },
     "metadata": {},
     "output_type": "display_data"
    }
   ],
   "source": [
    "plt.hist(opS, bins=30)\n",
    "plt.xlabel(\"OPUS Score\")\n",
    "plt.ylabel(\"Count\")\n",
    "plt.title(\"Histogram of OPUS Score\")\n",
    "#plt.xlim([26,79])\n",
    "plt.show()"
   ]
  },
  {
   "cell_type": "markdown",
   "metadata": {
    "nbpresent": {
     "id": "96cf5615-6302-4e4b-8423-328678785162"
    }
   },
   "source": [
    "Our data is mostly normal, provided the groupings are sufficiently close, it is skewed left a bit.  If our binning is not wide, we begin to see bimodality arise, because the respondents were selecting 3 and 4 predominately."
   ]
  },
  {
   "cell_type": "markdown",
   "metadata": {},
   "source": [
    "# Significance\n",
    "\n",
    "I investigated the significance levels of the (weighted) opus scores of the ETD vs. various other categories.  I used the Two-Sample T Test to investigate significance, because:\n",
    "* We have one dependent variable (Opus Score) and one independent variable (Type of TD)\n",
    "* The independent variable has two groupings\n",
    "* For the most part normality holds\n",
    "* I suspect that homogenity of variance holds, since the respondents primarily select Slighlty Difficulty and Easy, also the standard deviations are within a reasonable neighborhood of one another\n",
    "\n",
    "Let's look at ETD vs. All others first\n",
    "\n",
    "#### Opus -- ETD vs. All others\n",
    "\n",
    "The ETD's stats are first followed by all others"
   ]
  },
  {
   "cell_type": "code",
   "execution_count": 15,
   "metadata": {
    "collapsed": false
   },
   "outputs": [
    {
     "data": {
      "text/plain": [
       "count    49.000000\n",
       "mean     57.204082\n",
       "std       8.746379\n",
       "min      33.000000\n",
       "25%      54.000000\n",
       "50%      56.000000\n",
       "75%      61.000000\n",
       "max      76.000000\n",
       "Name: opusScoreETD, dtype: float64"
      ]
     },
     "execution_count": 15,
     "metadata": {},
     "output_type": "execute_result"
    }
   ],
   "source": [
    "shtNoNan[\"opusScoreETD\"] = shtNoNan.opusScore[shtNoNan[\"PrimaryTerminalDevice\"]== \"Motion Control (MC) ETD\"]\n",
    "shtNoNan.opusScoreETD.dropna().describe()"
   ]
  },
  {
   "cell_type": "code",
   "execution_count": 16,
   "metadata": {
    "collapsed": false
   },
   "outputs": [
    {
     "data": {
      "text/plain": [
       "count    860.000000\n",
       "mean      59.787209\n",
       "std        8.535761\n",
       "min       20.000000\n",
       "25%       54.000000\n",
       "50%       58.000000\n",
       "75%       66.000000\n",
       "max       80.000000\n",
       "Name: opusScoreNotETD, dtype: float64"
      ]
     },
     "execution_count": 16,
     "metadata": {},
     "output_type": "execute_result"
    }
   ],
   "source": [
    "shtNoNan[\"opusScoreNotETD\"] = shtNoNan.opusScore[shtNoNan[\"PrimaryTerminalDevice\"] != \"Motion Control (MC) ETD\"]\n",
    "shtNoNan.opusScoreNotETD.dropna().describe()"
   ]
  },
  {
   "cell_type": "markdown",
   "metadata": {},
   "source": [
    "The standard deviations are within acceptable bounds, especially given the limited sample of the ETD.  The means are not very different, especially considering the standard deviations, so I suspect we will find that this difference is insignificant."
   ]
  },
  {
   "cell_type": "markdown",
   "metadata": {},
   "source": [
    "The ETD is still hurting from a lack of observations (only have 13!). Forging ahead let's look at the kind of significance we get"
   ]
  },
  {
   "cell_type": "code",
   "execution_count": 17,
   "metadata": {
    "collapsed": false
   },
   "outputs": [
    {
     "data": {
      "text/plain": [
       "Ttest_indResult(statistic=-2.0577642467330626, pvalue=0.039898097659168977)"
      ]
     },
     "execution_count": 17,
     "metadata": {},
     "output_type": "execute_result"
    }
   ],
   "source": [
    "stats.ttest_ind(shtNoNan.opusScoreETD.dropna(), shtNoNan.opusScoreNotETD.dropna())"
   ]
  },
  {
   "cell_type": "markdown",
   "metadata": {},
   "source": [
    "We have a p-value of 0.62, this is getting closer to signficance.  Perhaps with a larger ETD sample it will get pushed further.  \n",
    "\n",
    "What does the histogram look like:\n",
    "What about with the weighted opus?"
   ]
  },
  {
   "cell_type": "code",
   "execution_count": 18,
   "metadata": {
    "collapsed": false
   },
   "outputs": [
    {
     "data": {
      "image/png": "[encoded data removed]",
      "text/plain": [
       "<matplotlib.figure.Figure at 0x1dc23140ac8>"
      ]
     },
     "metadata": {},
     "output_type": "display_data"
    }
   ],
   "source": [
    "plt.hist(shtNoNan[\"opusScoreNotETD\"].dropna(), label = \"Others\")\n",
    "plt.hist(shtNoNan.opusScoreETD.dropna(), label = \"ETD\")\n",
    "plt.title(\"Opus Score of ETD vs. All the others\")\n",
    "plt.legend()\n",
    "plt.show()"
   ]
  },
  {
   "cell_type": "markdown",
   "metadata": {},
   "source": [
    "It appears as if the ETD is shifted right slightly, let's wait until we have more data to make a more conclusive decision.\n",
    "\n",
    "#### Weighted Opus -- ETD vs. All Others\n",
    "\n",
    "Check summary stats first, the ETD's stats come first then all others."
   ]
  },
  {
   "cell_type": "code",
   "execution_count": 19,
   "metadata": {
    "collapsed": false
   },
   "outputs": [
    {
     "data": {
      "text/plain": [
       "count     49.000000\n",
       "mean      85.469388\n",
       "std       17.111280\n",
       "min       44.000000\n",
       "25%       80.000000\n",
       "50%       83.000000\n",
       "75%       91.000000\n",
       "max      149.000000\n",
       "Name: weightedOpusScoreETD, dtype: float64"
      ]
     },
     "execution_count": 19,
     "metadata": {},
     "output_type": "execute_result"
    }
   ],
   "source": [
    "shtNoNan[\"weightedOpusScoreETD\"] = shtNoNan.weightedOpusScore[shtNoNan[\"PrimaryTerminalDevice\"] == \"Motion Control (MC) ETD\"]\n",
    "shtNoNan[\"weightedOpusScoreNoETD\"] = shtNoNan.weightedOpusScore[shtNoNan[\"PrimaryTerminalDevice\"] != \"Motion Control (MC) ETD\"]\n",
    "shtNoNan.weightedOpusScoreETD.dropna().describe()"
   ]
  },
  {
   "cell_type": "code",
   "execution_count": 20,
   "metadata": {
    "collapsed": false
   },
   "outputs": [
    {
     "data": {
      "text/plain": [
       "count    860.000000\n",
       "mean      89.943023\n",
       "std       16.675853\n",
       "min       17.000000\n",
       "25%       81.000000\n",
       "50%       87.000000\n",
       "75%       97.000000\n",
       "max      156.000000\n",
       "Name: weightedOpusScoreNoETD, dtype: float64"
      ]
     },
     "execution_count": 20,
     "metadata": {},
     "output_type": "execute_result"
    }
   ],
   "source": [
    "shtNoNan.weightedOpusScoreNoETD.dropna().describe()"
   ]
  },
  {
   "cell_type": "markdown",
   "metadata": {},
   "source": [
    "Our standard deviations are still pretty tight, and the means are not too different, what does the p-value look like:"
   ]
  },
  {
   "cell_type": "code",
   "execution_count": 21,
   "metadata": {
    "collapsed": false
   },
   "outputs": [
    {
     "data": {
      "text/plain": [
       "Ttest_indResult(statistic=-1.8240248670769144, pvalue=0.068477236401495764)"
      ]
     },
     "execution_count": 21,
     "metadata": {},
     "output_type": "execute_result"
    }
   ],
   "source": [
    "stats.ttest_ind(shtNoNan.weightedOpusScoreETD.dropna(), shtNoNan.weightedOpusScoreNoETD.dropna())"
   ]
  },
  {
   "cell_type": "markdown",
   "metadata": {},
   "source": [
    "Not significant.  Further the significance in the weighted opus is higher.  This could be due to how people are considering importance.  I investigate this further later.\n",
    "\n",
    "Let's look at the histograms"
   ]
  },
  {
   "cell_type": "code",
   "execution_count": 22,
   "metadata": {
    "collapsed": false
   },
   "outputs": [
    {
     "data": {
      "image/png": "[encoded data removed]",
      "text/plain": [
       "<matplotlib.figure.Figure at 0x1dc2318c668>"
      ]
     },
     "metadata": {},
     "output_type": "display_data"
    }
   ],
   "source": [
    "plt.hist(shtNoNan.weightedOpusScoreNoETD.dropna(), label=\"Others\")\n",
    "plt.hist(shtNoNan.weightedOpusScoreETD.dropna(), label = \"ETD\")\n",
    "plt.title(\"Weighted Opus Score of ETD vs. All the others\")\n",
    "plt.legend()\n",
    "plt.show()"
   ]
  },
  {
   "cell_type": "markdown",
   "metadata": {},
   "source": [
    "The ETD looks slightly shifted to the right, but too early to tell.\n",
    "\n",
    "### Significance between ETD and Articulating\n",
    "#### Opus Score -- ETD vs. Articulating\n",
    "\n",
    "What are the summary stats for the Articulating group"
   ]
  },
  {
   "cell_type": "code",
   "execution_count": 23,
   "metadata": {
    "collapsed": false
   },
   "outputs": [
    {
     "data": {
      "text/plain": [
       "count    139.000000\n",
       "mean      57.021583\n",
       "std        6.635945\n",
       "min       28.000000\n",
       "25%       53.000000\n",
       "50%       56.000000\n",
       "75%       60.000000\n",
       "max       75.000000\n",
       "Name: opusScoreArticulating, dtype: float64"
      ]
     },
     "execution_count": 23,
     "metadata": {},
     "output_type": "execute_result"
    }
   ],
   "source": [
    "from vectorSubsets import articulatingHandsNoETD\n",
    "shtNoNan[\"opusScoreArticulating\"] = shtNoNan.opusScore[shtNoNan[\"PrimaryTerminalDevice\"].isin(articulatingHandsNoETD)]\n",
    "shtNoNan[\"weightedOpusScoreArticulating\"] = shtNoNan.weightedOpusScore[shtNoNan[\"PrimaryTerminalDevice\"].isin(articulatingHandsNoETD)]\n",
    "shtNoNan.opusScoreArticulating.dropna().describe()"
   ]
  },
  {
   "cell_type": "code",
   "execution_count": 24,
   "metadata": {
    "collapsed": false
   },
   "outputs": [
    {
     "name": "stdout",
     "output_type": "stream",
     "text": [
      "The mean for the ETD is 57.204081632653065 and the standard deviation is 8.746379231422793\n"
     ]
    }
   ],
   "source": [
    "print(\"The mean for the ETD is {0} and the standard deviation is {1}\".format(shtNoNan.opusScoreETD.dropna().mean(), shtNoNan.opusScoreETD.dropna().std()))"
   ]
  },
  {
   "cell_type": "markdown",
   "metadata": {},
   "source": [
    "The standard deviation for the articulating group is getting a little narrow compared to the ETD, but the means are beginning to show some difference.\n",
    "\n",
    "Let's look at the histogram to see if we are comfortable assuming homegenity of variance"
   ]
  },
  {
   "cell_type": "code",
   "execution_count": 25,
   "metadata": {
    "collapsed": false
   },
   "outputs": [
    {
     "data": {
      "image/png": "[encoded data removed]",
      "text/plain": [
       "<matplotlib.figure.Figure at 0x1dc1a67af98>"
      ]
     },
     "metadata": {},
     "output_type": "display_data"
    }
   ],
   "source": [
    "plt.hist(shtNoNan.opusScoreArticulating.dropna(), label=\"Articulating\")\n",
    "plt.hist(shtNoNan.opusScoreETD.dropna(), label = \"ETD\")\n",
    "plt.title(\"Opus Score of ETD vs. Articulating\")\n",
    "plt.legend()\n",
    "plt.show()"
   ]
  },
  {
   "cell_type": "markdown",
   "metadata": {},
   "source": [
    "The spread of both distributions looks similar, let's assume we still have homogenity of variance."
   ]
  },
  {
   "cell_type": "code",
   "execution_count": 26,
   "metadata": {
    "collapsed": false
   },
   "outputs": [
    {
     "data": {
      "text/plain": [
       "Ttest_indResult(statistic=0.15172793673064736, pvalue=0.87956596659119601)"
      ]
     },
     "execution_count": 26,
     "metadata": {},
     "output_type": "execute_result"
    }
   ],
   "source": [
    "stats.ttest_ind(shtNoNan.opusScoreETD.dropna(), shtNoNan.opusScoreArticulating.dropna())"
   ]
  },
  {
   "cell_type": "code",
   "execution_count": 27,
   "metadata": {
    "collapsed": false
   },
   "outputs": [
    {
     "name": "stdout",
     "output_type": "stream",
     "text": [
      "The mean of the ETD is 57.204081632653065.  The mean of the articulating hands is 57.02158273381295\n"
     ]
    }
   ],
   "source": [
    "print(\"The mean of the ETD is {0}.  The mean of the articulating hands is {1}\".format(shtNoNan.opusScoreETD.dropna().mean(), shtNoNan.opusScoreArticulating.dropna().mean()))"
   ]
  },
  {
   "cell_type": "markdown",
   "metadata": {},
   "source": [
    "Assuming the variance is the same it looks like the ETD's higher score on opus is significant (p-value = 0.0381) when compared to articulating TD's.\n",
    "\n",
    "What  if the variances are not the same?  Let's take a quick peek at the Welch's T-Test to find out"
   ]
  },
  {
   "cell_type": "code",
   "execution_count": 28,
   "metadata": {
    "collapsed": false
   },
   "outputs": [
    {
     "data": {
      "text/plain": [
       "Ttest_indResult(statistic=0.13317146004360164, pvalue=0.8944483674819752)"
      ]
     },
     "execution_count": 28,
     "metadata": {},
     "output_type": "execute_result"
    }
   ],
   "source": [
    "stats.ttest_ind(shtNoNan.opusScoreETD.dropna(), shtNoNan.opusScoreArticulating.dropna(), equal_var=False)"
   ]
  },
  {
   "cell_type": "markdown",
   "metadata": {},
   "source": [
    "If we relax the assumption that the variances are equal then the p-value becomes 0.1392, pretty low still (for our data sample).  This is a good indication that ETD wearers might find tasks easier to perform than articulating hand wearers.\n",
    "\n",
    "#### Weighted Opus -- ETD vs. Articulating\n",
    "\n",
    "Taking a look at the summary stats for articulating users"
   ]
  },
  {
   "cell_type": "code",
   "execution_count": 29,
   "metadata": {
    "collapsed": false
   },
   "outputs": [
    {
     "data": {
      "text/plain": [
       "count    139.000000\n",
       "mean      86.712230\n",
       "std       11.311303\n",
       "min       42.000000\n",
       "25%       82.000000\n",
       "50%       86.000000\n",
       "75%       91.000000\n",
       "max      130.000000\n",
       "Name: weightedOpusScoreArticulating, dtype: float64"
      ]
     },
     "execution_count": 29,
     "metadata": {},
     "output_type": "execute_result"
    }
   ],
   "source": [
    "shtNoNan.weightedOpusScoreArticulating.dropna().describe()"
   ]
  },
  {
   "cell_type": "code",
   "execution_count": 30,
   "metadata": {
    "collapsed": false
   },
   "outputs": [
    {
     "name": "stdout",
     "output_type": "stream",
     "text": [
      "The mean of the ETD is 85.46938775510205.  The standard deviation for ETD is 17.111280442075252\n"
     ]
    }
   ],
   "source": [
    "print(\"The mean of the ETD is {0}.  The standard deviation for ETD is {1}\".format(shtNoNan.weightedOpusScoreETD.dropna().mean(), shtNoNan.weightedOpusScoreETD.dropna().std()))"
   ]
  },
  {
   "cell_type": "markdown",
   "metadata": {},
   "source": [
    "Lets take a quick look at histogram to make sure we can assume the variances are the same."
   ]
  },
  {
   "cell_type": "code",
   "execution_count": 51,
   "metadata": {
    "collapsed": false
   },
   "outputs": [
    {
     "data": {
      "image/png": "[encoded data removed]",
      "text/plain": [
       "<matplotlib.figure.Figure at 0x1dc233daef0>"
      ]
     },
     "metadata": {},
     "output_type": "display_data"
    }
   ],
   "source": [
    "plt.hist(shtNoNan.weightedOpusScoreArticulating.dropna(), label=\"Articulating\")\n",
    "plt.hist(shtNoNan.weightedOpusScoreETD.dropna(), label = \"ETD\")\n",
    "plt.title(\"Weighted Opus Score of ETD vs. Articulating\")\n",
    "plt.legend()\n",
    "plt.show()"
   ]
  },
  {
   "cell_type": "markdown",
   "metadata": {},
   "source": [
    "Looks good with the new data!"
   ]
  },
  {
   "cell_type": "code",
   "execution_count": 52,
   "metadata": {
    "collapsed": false
   },
   "outputs": [
    {
     "data": {
      "text/plain": [
       "Ttest_indResult(statistic=-0.57292292595733318, pvalue=0.56738883057490663)"
      ]
     },
     "execution_count": 52,
     "metadata": {},
     "output_type": "execute_result"
    }
   ],
   "source": [
    "stats.ttest_ind(shtNoNan.weightedOpusScoreETD.dropna(), shtNoNan.weightedOpusScoreArticulating.dropna())"
   ]
  },
  {
   "cell_type": "markdown",
   "metadata": {},
   "source": [
    "No significance."
   ]
  },
  {
   "cell_type": "markdown",
   "metadata": {},
   "source": [
    "### ETD vs. Hooks (All)\n",
    "#### Opus -- ETD vs. Hooks\n",
    "\n",
    "Let's take a look at the histogram for opus and weighted opus of all the hooks"
   ]
  },
  {
   "cell_type": "code",
   "execution_count": 33,
   "metadata": {
    "collapsed": false
   },
   "outputs": [
    {
     "name": "stdout",
     "output_type": "stream",
     "text": [
      "The mean score on OPUS for ETD 57.204081632653065, for Hooks 61.74074074074074\n",
      "The mean score on weighted OPUS for ETD 85.46938775510205, for Hooks 92.03703703703704\n"
     ]
    }
   ],
   "source": [
    "from vectorSubsets import hooksNoETD\n",
    "shtNoNan[\"hooksOpus\"] = shtNoNan.opusScore[shtNoNan.PrimaryTerminalDevice.isin(hooksNoETD)]\n",
    "shtNoNan[\"hooksOpusWeighted\"] = shtNoNan.weightedOpusScore[shtNoNan.PrimaryTerminalDevice.isin(hooksNoETD)]\n",
    "print(\"The mean score on OPUS for ETD {0}, for Hooks {1}\".format(shtNoNan.opusScoreETD.dropna().mean(), shtNoNan.hooksOpus.dropna().mean()))\n",
    "print(\"The mean score on weighted OPUS for ETD {0}, for Hooks {1}\".format(shtNoNan.weightedOpusScoreETD.dropna().mean(), shtNoNan.hooksOpusWeighted.dropna().mean()))"
   ]
  },
  {
   "cell_type": "markdown",
   "metadata": {},
   "source": [
    "The averages do not look too seperated.  Let's look at the histograms see if we can assume normaility and homogenity of variance"
   ]
  },
  {
   "cell_type": "code",
   "execution_count": 55,
   "metadata": {
    "collapsed": false
   },
   "outputs": [
    {
     "data": {
      "image/png": "[encoded data removed]",
      "text/plain": [
       "<matplotlib.figure.Figure at 0x1dc22b55e48>"
      ]
     },
     "metadata": {},
     "output_type": "display_data"
    }
   ],
   "source": [
    "plt.hist(shtNoNan.hooksOpus.dropna(), color='b', alpha=0.5, label=\"Hooks\")\n",
    "plt.hist(shtNoNan.opusScoreETD.dropna(), color='r', alpha=0.5, label=\"ETD\")\n",
    "plt.legend()\n",
    "plt.title(\"Opus Score ETD vs. Hooks\")\n",
    "plt.show()"
   ]
  },
  {
   "cell_type": "markdown",
   "metadata": {},
   "source": [
    "Close enough to normal, we have some bimodality going on though.\n",
    "\n",
    "What about weighted opus"
   ]
  },
  {
   "cell_type": "code",
   "execution_count": 56,
   "metadata": {
    "collapsed": false
   },
   "outputs": [
    {
     "data": {
      "image/png": "[encoded data removed]",
      "text/plain": [
       "<matplotlib.figure.Figure at 0x1dc23140da0>"
      ]
     },
     "metadata": {},
     "output_type": "display_data"
    }
   ],
   "source": [
    "plt.hist(shtNoNan.hooksOpusWeighted.dropna(), color='b', alpha=0.5, label=\"Hooks\")\n",
    "plt.hist(shtNoNan.weightedOpusScoreETD.dropna(), color='r', alpha=0.5, label=\"ETD\")\n",
    "plt.legend()\n",
    "plt.title(\"Weighted Opus ETD vs. Hooks\")\n",
    "plt.show()"
   ]
  },
  {
   "cell_type": "markdown",
   "metadata": {},
   "source": [
    "Both look fairly normal, and the spreads look comparable.  Let's forge on and look at the significance."
   ]
  },
  {
   "cell_type": "code",
   "execution_count": 36,
   "metadata": {
    "collapsed": false
   },
   "outputs": [
    {
     "data": {
      "text/plain": [
       "Ttest_indResult(statistic=-2.0753509750073107, pvalue=0.040495083913793146)"
      ]
     },
     "execution_count": 36,
     "metadata": {},
     "output_type": "execute_result"
    }
   ],
   "source": [
    "stats.ttest_ind(shtNoNan.opusScoreETD.dropna(), shtNoNan.hooksOpus.dropna())"
   ]
  },
  {
   "cell_type": "code",
   "execution_count": 37,
   "metadata": {
    "collapsed": false
   },
   "outputs": [
    {
     "data": {
      "text/plain": [
       "Ttest_indResult(statistic=-1.5842996203065898, pvalue=0.11625182470128004)"
      ]
     },
     "execution_count": 37,
     "metadata": {},
     "output_type": "execute_result"
    }
   ],
   "source": [
    "stats.ttest_ind(shtNoNan.weightedOpusScoreETD.dropna(), shtNoNan.hooksOpusWeighted.dropna())"
   ]
  },
  {
   "cell_type": "markdown",
   "metadata": {},
   "source": [
    "The p-values for both situations are too high to reject the null, but I suspect if we have more than 30 ETD wearers we would be able to make firmer conclusions.  Again notice that the p-value for the weighted is again higher."
   ]
  },
  {
   "cell_type": "markdown",
   "metadata": {},
   "source": [
    "### Analysis of increase of p-value in weighted opus\n",
    "\n",
    "A higher p-value on the weighted opus score as compared to the opus is very intriguing.  On the surface it says that when we include what tasks each respondents find important the ETD's higher score on opus becomes insignificant!  A possible hypothesis to explain this result is that the wearers become accoustomed to what they can perform with their TDs and what they cannot perform.  They then update their value system to place importance on what they can perform and to devalue what they can \"no longer\" (assuming they did) perform. TBD -- test the hypothesis by looking at new prosthesis wearers and what they find important, consider this group the control, subset this group by TD\n",
    "\n",
    "Let's try to find out why the p-value is consistently larger for the weighted opus score.  \n",
    "\n",
    "Remember 2 = very important\n",
    "\n",
    "Since the difference between ETD and articulating was significant let's start there."
   ]
  },
  {
   "cell_type": "code",
   "execution_count": 38,
   "metadata": {
    "collapsed": false
   },
   "outputs": [
    {
     "data": {
      "text/plain": [
       "ImportanceUsingForkSpoon       1.673469\n",
       "ImportanceUsingScissors        1.653061\n",
       "ImportanceOpeningAnEnvelope    1.612245\n",
       "ImportanceUsingKeyboard        1.612245\n",
       "ImportanceShaving              1.551020\n",
       "dtype: float64"
      ]
     },
     "execution_count": 38,
     "metadata": {},
     "output_type": "execute_result"
    }
   ],
   "source": [
    "ETDsht = shtNoNan[shtNoNan.PrimaryTerminalDevice == \"Motion Control (MC) ETD\"]\n",
    "ETDsht[importanceFull].dropna().mean().sort_values(ascending=False).head()"
   ]
  },
  {
   "cell_type": "code",
   "execution_count": 39,
   "metadata": {
    "collapsed": false
   },
   "outputs": [
    {
     "data": {
      "text/plain": [
       "ImportanceUsingKeyboard                  1.719424\n",
       "ImportanceBrushingTeeth                  1.719424\n",
       "ImportancePuttingToothpasteToothbrush    1.683453\n",
       "ImportanceCuttingMeat                    1.676259\n",
       "ImportanceShaving                        1.661871\n",
       "dtype: float64"
      ]
     },
     "execution_count": 39,
     "metadata": {},
     "output_type": "execute_result"
    }
   ],
   "source": [
    "articSht = shtNoNan[shtNoNan.PrimaryTerminalDevice.isin(articulatingHandsNoETD)]\n",
    "articSht[importanceFull].mean().sort_values(ascending=False).head()"
   ]
  },
  {
   "cell_type": "code",
   "execution_count": 40,
   "metadata": {
    "collapsed": false
   },
   "outputs": [
    {
     "data": {
      "text/plain": [
       "ImportanceShaving                     1.611111\n",
       "ImportanceFingerTips                  1.555556\n",
       "ImportancePuttingOnSocks              1.555556\n",
       "ImportanceDrinkingFromPaperPlastic    1.537037\n",
       "ImportanceUsingHammer                 1.518519\n",
       "dtype: float64"
      ]
     },
     "execution_count": 40,
     "metadata": {},
     "output_type": "execute_result"
    }
   ],
   "source": [
    "hookSht = shtNoNan[shtNoNan.PrimaryTerminalDevice.isin(hooksNoETD)]\n",
    "hookSht[importanceFull].mean().sort_values(ascending=False).head()"
   ]
  },
  {
   "cell_type": "code",
   "execution_count": 41,
   "metadata": {
    "collapsed": false
   },
   "outputs": [
    {
     "data": {
      "text/plain": [
       "Index(['ImportanceUsingKeyboard', 'ImportanceShaving'], dtype='object')"
      ]
     },
     "execution_count": 41,
     "metadata": {},
     "output_type": "execute_result"
    }
   ],
   "source": [
    "ETDsht[importanceFull].mean().sort_values(ascending=False).head().index[ETDsht[importanceFull].mean().sort_values(ascending=False).head().index.isin(articSht[importanceFull].mean().sort_values(ascending=False).head().index)]"
   ]
  },
  {
   "cell_type": "markdown",
   "metadata": {},
   "source": [
    "People who use the ETD or articulating find it important to put toothpaste on toothbrush and shave."
   ]
  },
  {
   "cell_type": "code",
   "execution_count": 42,
   "metadata": {
    "collapsed": false
   },
   "outputs": [
    {
     "data": {
      "text/plain": [
       "Index(['ImportanceShaving'], dtype='object')"
      ]
     },
     "execution_count": 42,
     "metadata": {},
     "output_type": "execute_result"
    }
   ],
   "source": [
    "ETDsht[importanceFull].mean().sort_values(ascending=False).head().index[ETDsht[importanceFull].mean().sort_values(ascending=False).head().index.isin(hookSht[importanceFull].mean().sort_values(ascending=False).head().index)]"
   ]
  },
  {
   "cell_type": "markdown",
   "metadata": {},
   "source": [
    "Whereas people who use ETD or electric find it important to use a fork and spoon, put toothpast on toothbrush and shave"
   ]
  },
  {
   "cell_type": "markdown",
   "metadata": {},
   "source": [
    "### Significance of new tasks\n",
    "Let's look at the significance of the new tasks"
   ]
  },
  {
   "cell_type": "markdown",
   "metadata": {},
   "source": [
    "First we need the score"
   ]
  },
  {
   "cell_type": "code",
   "execution_count": 43,
   "metadata": {
    "collapsed": false
   },
   "outputs": [],
   "source": [
    "shtNoNan[\"newTasks\"]=shtNoNan.taskScore - shtNoNan.opusScore"
   ]
  },
  {
   "cell_type": "markdown",
   "metadata": {},
   "source": [
    "Then we need to normalize the scores"
   ]
  },
  {
   "cell_type": "code",
   "execution_count": 44,
   "metadata": {
    "collapsed": false
   },
   "outputs": [],
   "source": [
    "shtNoNan[\"newTasks\"]= (shtNoNan[\"newTasks\"]-shtNoNan[\"newTasks\"].mean())/(shtNoNan[\"newTasks\"].std())"
   ]
  },
  {
   "cell_type": "code",
   "execution_count": 45,
   "metadata": {
    "collapsed": true
   },
   "outputs": [],
   "source": [
    "shtNoNan[\"opusNormed\"] = (shtNoNan.opusScore-shtNoNan.opusScore.mean())/shtNoNan.opusScore.std()"
   ]
  },
  {
   "cell_type": "code",
   "execution_count": 46,
   "metadata": {
    "collapsed": false
   },
   "outputs": [
    {
     "data": {
      "text/plain": [
       "Ttest_relResult(statistic=4.4527403380830504e-15, pvalue=0.99999999999999645)"
      ]
     },
     "execution_count": 46,
     "metadata": {},
     "output_type": "execute_result"
    }
   ],
   "source": [
    "stats.ttest_rel(shtNoNan.opusNormed, shtNoNan.newTasks)"
   ]
  },
  {
   "cell_type": "markdown",
   "metadata": {},
   "source": [
    "It seems like the mean score on the opus tasks and the mean score on the new tasks are relatively similar\n",
    "\n",
    "Let's look at the weighted versions"
   ]
  },
  {
   "cell_type": "code",
   "execution_count": 47,
   "metadata": {
    "collapsed": false
   },
   "outputs": [
    {
     "data": {
      "text/plain": [
       "Ttest_relResult(statistic=5.1603865697876158e-15, pvalue=0.99999999999999589)"
      ]
     },
     "execution_count": 47,
     "metadata": {},
     "output_type": "execute_result"
    }
   ],
   "source": [
    "shtNoNan[\"newTasksWeighted\"]=shtNoNan.weightedTaskScore - shtNoNan.weightedOpusScore\n",
    "shtNoNan[\"newTasksWeighted\"]= (shtNoNan[\"newTasksWeighted\"]-shtNoNan[\"newTasksWeighted\"].mean())/(shtNoNan[\"newTasksWeighted\"].std())\n",
    "shtNoNan[\"opusNormedWeighted\"] = (shtNoNan.weightedOpusScore-shtNoNan.weightedOpusScore.mean())/shtNoNan.weightedOpusScore.std()\n",
    "stats.ttest_rel(shtNoNan.opusNormedWeighted,shtNoNan.newTasksWeighted)"
   ]
  },
  {
   "cell_type": "markdown",
   "metadata": {},
   "source": [
    "The mean scores in the new tasks and opus are very similiar"
   ]
  },
  {
   "cell_type": "markdown",
   "metadata": {
    "collapsed": true
   },
   "source": [
    "## Correlation\n",
    "\n",
    "The correlations between all the opus tasks are below"
   ]
  },
  {
   "cell_type": "code",
   "execution_count": 48,
   "metadata": {
    "collapsed": false
   },
   "outputs": [
    {
     "data": {
      "text/html": [
       "<div>\n",
       "<table border=\"1\" class=\"dataframe\">\n",
       "  <thead>\n",
       "    <tr style=\"text-align: right;\">\n",
       "      <th></th>\n",
       "      <th>TieShoesWithDevice</th>\n",
       "      <th>AttachZipper</th>\n",
       "      <th>ButtonShirt</th>\n",
       "      <th>PutOnSocks</th>\n",
       "      <th>BrushCombHair</th>\n",
       "      <th>PlaceToothpasteToothbrush</th>\n",
       "      <th>BrushTeeth</th>\n",
       "      <th>Shave</th>\n",
       "      <th>UseMobilPhone</th>\n",
       "      <th>CarryLargeBox</th>\n",
       "      <th>OpenEnvelope</th>\n",
       "      <th>UseScissors</th>\n",
       "      <th>FoldBathTowel</th>\n",
       "      <th>UseHammerToDriveNail</th>\n",
       "      <th>StirFoodInBowl</th>\n",
       "      <th>PourDrinkFromBottle</th>\n",
       "      <th>UseForkAndSpoon</th>\n",
       "      <th>DrinkFromPaperPlastic</th>\n",
       "      <th>CutMeat</th>\n",
       "      <th>UseKeyboard</th>\n",
       "    </tr>\n",
       "  </thead>\n",
       "  <tbody>\n",
       "    <tr>\n",
       "      <th>TieShoesWithDevice</th>\n",
       "      <td>1.000000</td>\n",
       "      <td>0.588540</td>\n",
       "      <td>0.531420</td>\n",
       "      <td>0.196892</td>\n",
       "      <td>0.259543</td>\n",
       "      <td>-0.116802</td>\n",
       "      <td>0.293002</td>\n",
       "      <td>0.228273</td>\n",
       "      <td>-0.040125</td>\n",
       "      <td>0.365880</td>\n",
       "      <td>0.135191</td>\n",
       "      <td>0.048902</td>\n",
       "      <td>0.156552</td>\n",
       "      <td>0.478057</td>\n",
       "      <td>0.169282</td>\n",
       "      <td>-0.035316</td>\n",
       "      <td>0.144178</td>\n",
       "      <td>-0.130782</td>\n",
       "      <td>0.225887</td>\n",
       "      <td>0.014181</td>\n",
       "    </tr>\n",
       "    <tr>\n",
       "      <th>AttachZipper</th>\n",
       "      <td>0.588540</td>\n",
       "      <td>1.000000</td>\n",
       "      <td>0.378487</td>\n",
       "      <td>0.134339</td>\n",
       "      <td>0.155842</td>\n",
       "      <td>-0.109771</td>\n",
       "      <td>0.247767</td>\n",
       "      <td>0.224522</td>\n",
       "      <td>-0.042813</td>\n",
       "      <td>0.264281</td>\n",
       "      <td>0.126657</td>\n",
       "      <td>0.036982</td>\n",
       "      <td>0.110396</td>\n",
       "      <td>0.434244</td>\n",
       "      <td>0.157901</td>\n",
       "      <td>-0.086621</td>\n",
       "      <td>0.096971</td>\n",
       "      <td>-0.142527</td>\n",
       "      <td>0.208193</td>\n",
       "      <td>0.035606</td>\n",
       "    </tr>\n",
       "    <tr>\n",
       "      <th>ButtonShirt</th>\n",
       "      <td>0.531420</td>\n",
       "      <td>0.378487</td>\n",
       "      <td>1.000000</td>\n",
       "      <td>0.230768</td>\n",
       "      <td>0.204934</td>\n",
       "      <td>0.095018</td>\n",
       "      <td>0.312670</td>\n",
       "      <td>0.243253</td>\n",
       "      <td>0.083257</td>\n",
       "      <td>0.202639</td>\n",
       "      <td>0.233932</td>\n",
       "      <td>0.093753</td>\n",
       "      <td>0.212221</td>\n",
       "      <td>0.328163</td>\n",
       "      <td>0.249015</td>\n",
       "      <td>0.032680</td>\n",
       "      <td>0.241739</td>\n",
       "      <td>0.059277</td>\n",
       "      <td>0.229894</td>\n",
       "      <td>0.143459</td>\n",
       "    </tr>\n",
       "    <tr>\n",
       "      <th>PutOnSocks</th>\n",
       "      <td>0.196892</td>\n",
       "      <td>0.134339</td>\n",
       "      <td>0.230768</td>\n",
       "      <td>1.000000</td>\n",
       "      <td>0.164782</td>\n",
       "      <td>0.220443</td>\n",
       "      <td>0.274635</td>\n",
       "      <td>0.110337</td>\n",
       "      <td>0.272800</td>\n",
       "      <td>0.123677</td>\n",
       "      <td>0.257095</td>\n",
       "      <td>0.153019</td>\n",
       "      <td>0.203846</td>\n",
       "      <td>0.119074</td>\n",
       "      <td>0.236177</td>\n",
       "      <td>0.192719</td>\n",
       "      <td>0.205243</td>\n",
       "      <td>0.155550</td>\n",
       "      <td>0.223410</td>\n",
       "      <td>0.232650</td>\n",
       "    </tr>\n",
       "    <tr>\n",
       "      <th>BrushCombHair</th>\n",
       "      <td>0.259543</td>\n",
       "      <td>0.155842</td>\n",
       "      <td>0.204934</td>\n",
       "      <td>0.164782</td>\n",
       "      <td>1.000000</td>\n",
       "      <td>0.234252</td>\n",
       "      <td>0.357895</td>\n",
       "      <td>0.164313</td>\n",
       "      <td>0.333943</td>\n",
       "      <td>0.159350</td>\n",
       "      <td>0.281361</td>\n",
       "      <td>0.243996</td>\n",
       "      <td>0.258398</td>\n",
       "      <td>0.106855</td>\n",
       "      <td>0.245629</td>\n",
       "      <td>0.206138</td>\n",
       "      <td>0.235353</td>\n",
       "      <td>0.227606</td>\n",
       "      <td>0.299653</td>\n",
       "      <td>0.264531</td>\n",
       "    </tr>\n",
       "    <tr>\n",
       "      <th>PlaceToothpasteToothbrush</th>\n",
       "      <td>-0.116802</td>\n",
       "      <td>-0.109771</td>\n",
       "      <td>0.095018</td>\n",
       "      <td>0.220443</td>\n",
       "      <td>0.234252</td>\n",
       "      <td>1.000000</td>\n",
       "      <td>0.279192</td>\n",
       "      <td>0.059881</td>\n",
       "      <td>0.525566</td>\n",
       "      <td>0.023225</td>\n",
       "      <td>0.353946</td>\n",
       "      <td>0.234535</td>\n",
       "      <td>0.255973</td>\n",
       "      <td>-0.132468</td>\n",
       "      <td>0.305761</td>\n",
       "      <td>0.319230</td>\n",
       "      <td>0.318497</td>\n",
       "      <td>0.330687</td>\n",
       "      <td>0.305053</td>\n",
       "      <td>0.368230</td>\n",
       "    </tr>\n",
       "    <tr>\n",
       "      <th>BrushTeeth</th>\n",
       "      <td>0.293002</td>\n",
       "      <td>0.247767</td>\n",
       "      <td>0.312670</td>\n",
       "      <td>0.274635</td>\n",
       "      <td>0.357895</td>\n",
       "      <td>0.279192</td>\n",
       "      <td>1.000000</td>\n",
       "      <td>0.157716</td>\n",
       "      <td>0.434951</td>\n",
       "      <td>0.228312</td>\n",
       "      <td>0.412313</td>\n",
       "      <td>0.248979</td>\n",
       "      <td>0.301505</td>\n",
       "      <td>0.135023</td>\n",
       "      <td>0.341159</td>\n",
       "      <td>0.289952</td>\n",
       "      <td>0.337021</td>\n",
       "      <td>0.286961</td>\n",
       "      <td>0.346924</td>\n",
       "      <td>0.317861</td>\n",
       "    </tr>\n",
       "    <tr>\n",
       "      <th>Shave</th>\n",
       "      <td>0.228273</td>\n",
       "      <td>0.224522</td>\n",
       "      <td>0.243253</td>\n",
       "      <td>0.110337</td>\n",
       "      <td>0.164313</td>\n",
       "      <td>0.059881</td>\n",
       "      <td>0.157716</td>\n",
       "      <td>1.000000</td>\n",
       "      <td>0.092281</td>\n",
       "      <td>0.186217</td>\n",
       "      <td>0.127133</td>\n",
       "      <td>0.156350</td>\n",
       "      <td>0.161827</td>\n",
       "      <td>0.295133</td>\n",
       "      <td>0.180909</td>\n",
       "      <td>0.123067</td>\n",
       "      <td>0.141134</td>\n",
       "      <td>0.098672</td>\n",
       "      <td>0.199137</td>\n",
       "      <td>0.183492</td>\n",
       "    </tr>\n",
       "    <tr>\n",
       "      <th>UseMobilPhone</th>\n",
       "      <td>-0.040125</td>\n",
       "      <td>-0.042813</td>\n",
       "      <td>0.083257</td>\n",
       "      <td>0.272800</td>\n",
       "      <td>0.333943</td>\n",
       "      <td>0.525566</td>\n",
       "      <td>0.434951</td>\n",
       "      <td>0.092281</td>\n",
       "      <td>1.000000</td>\n",
       "      <td>0.003966</td>\n",
       "      <td>0.323851</td>\n",
       "      <td>0.250624</td>\n",
       "      <td>0.328347</td>\n",
       "      <td>-0.092899</td>\n",
       "      <td>0.399991</td>\n",
       "      <td>0.352833</td>\n",
       "      <td>0.358199</td>\n",
       "      <td>0.334638</td>\n",
       "      <td>0.375306</td>\n",
       "      <td>0.525513</td>\n",
       "    </tr>\n",
       "    <tr>\n",
       "      <th>CarryLargeBox</th>\n",
       "      <td>0.365880</td>\n",
       "      <td>0.264281</td>\n",
       "      <td>0.202639</td>\n",
       "      <td>0.123677</td>\n",
       "      <td>0.159350</td>\n",
       "      <td>0.023225</td>\n",
       "      <td>0.228312</td>\n",
       "      <td>0.186217</td>\n",
       "      <td>0.003966</td>\n",
       "      <td>1.000000</td>\n",
       "      <td>0.073542</td>\n",
       "      <td>0.199845</td>\n",
       "      <td>0.245184</td>\n",
       "      <td>0.355032</td>\n",
       "      <td>0.185111</td>\n",
       "      <td>0.128241</td>\n",
       "      <td>0.115363</td>\n",
       "      <td>0.072897</td>\n",
       "      <td>0.173509</td>\n",
       "      <td>0.016583</td>\n",
       "    </tr>\n",
       "    <tr>\n",
       "      <th>OpenEnvelope</th>\n",
       "      <td>0.135191</td>\n",
       "      <td>0.126657</td>\n",
       "      <td>0.233932</td>\n",
       "      <td>0.257095</td>\n",
       "      <td>0.281361</td>\n",
       "      <td>0.353946</td>\n",
       "      <td>0.412313</td>\n",
       "      <td>0.127133</td>\n",
       "      <td>0.323851</td>\n",
       "      <td>0.073542</td>\n",
       "      <td>1.000000</td>\n",
       "      <td>0.124066</td>\n",
       "      <td>0.173976</td>\n",
       "      <td>0.006472</td>\n",
       "      <td>0.228980</td>\n",
       "      <td>0.265955</td>\n",
       "      <td>0.340286</td>\n",
       "      <td>0.177602</td>\n",
       "      <td>0.305401</td>\n",
       "      <td>0.326182</td>\n",
       "    </tr>\n",
       "    <tr>\n",
       "      <th>UseScissors</th>\n",
       "      <td>0.048902</td>\n",
       "      <td>0.036982</td>\n",
       "      <td>0.093753</td>\n",
       "      <td>0.153019</td>\n",
       "      <td>0.243996</td>\n",
       "      <td>0.234535</td>\n",
       "      <td>0.248979</td>\n",
       "      <td>0.156350</td>\n",
       "      <td>0.250624</td>\n",
       "      <td>0.199845</td>\n",
       "      <td>0.124066</td>\n",
       "      <td>1.000000</td>\n",
       "      <td>0.207567</td>\n",
       "      <td>0.148580</td>\n",
       "      <td>0.221865</td>\n",
       "      <td>0.199320</td>\n",
       "      <td>0.231568</td>\n",
       "      <td>0.261518</td>\n",
       "      <td>0.188047</td>\n",
       "      <td>0.183889</td>\n",
       "    </tr>\n",
       "    <tr>\n",
       "      <th>FoldBathTowel</th>\n",
       "      <td>0.156552</td>\n",
       "      <td>0.110396</td>\n",
       "      <td>0.212221</td>\n",
       "      <td>0.203846</td>\n",
       "      <td>0.258398</td>\n",
       "      <td>0.255973</td>\n",
       "      <td>0.301505</td>\n",
       "      <td>0.161827</td>\n",
       "      <td>0.328347</td>\n",
       "      <td>0.245184</td>\n",
       "      <td>0.173976</td>\n",
       "      <td>0.207567</td>\n",
       "      <td>1.000000</td>\n",
       "      <td>0.123401</td>\n",
       "      <td>0.307113</td>\n",
       "      <td>0.180294</td>\n",
       "      <td>0.268068</td>\n",
       "      <td>0.185828</td>\n",
       "      <td>0.284061</td>\n",
       "      <td>0.301240</td>\n",
       "    </tr>\n",
       "    <tr>\n",
       "      <th>UseHammerToDriveNail</th>\n",
       "      <td>0.478057</td>\n",
       "      <td>0.434244</td>\n",
       "      <td>0.328163</td>\n",
       "      <td>0.119074</td>\n",
       "      <td>0.106855</td>\n",
       "      <td>-0.132468</td>\n",
       "      <td>0.135023</td>\n",
       "      <td>0.295133</td>\n",
       "      <td>-0.092899</td>\n",
       "      <td>0.355032</td>\n",
       "      <td>0.006472</td>\n",
       "      <td>0.148580</td>\n",
       "      <td>0.123401</td>\n",
       "      <td>1.000000</td>\n",
       "      <td>0.185645</td>\n",
       "      <td>0.052979</td>\n",
       "      <td>0.114242</td>\n",
       "      <td>-0.009143</td>\n",
       "      <td>0.188949</td>\n",
       "      <td>-0.045306</td>\n",
       "    </tr>\n",
       "    <tr>\n",
       "      <th>StirFoodInBowl</th>\n",
       "      <td>0.169282</td>\n",
       "      <td>0.157901</td>\n",
       "      <td>0.249015</td>\n",
       "      <td>0.236177</td>\n",
       "      <td>0.245629</td>\n",
       "      <td>0.305761</td>\n",
       "      <td>0.341159</td>\n",
       "      <td>0.180909</td>\n",
       "      <td>0.399991</td>\n",
       "      <td>0.185111</td>\n",
       "      <td>0.228980</td>\n",
       "      <td>0.221865</td>\n",
       "      <td>0.307113</td>\n",
       "      <td>0.185645</td>\n",
       "      <td>1.000000</td>\n",
       "      <td>0.221915</td>\n",
       "      <td>0.251070</td>\n",
       "      <td>0.277523</td>\n",
       "      <td>0.308741</td>\n",
       "      <td>0.320516</td>\n",
       "    </tr>\n",
       "    <tr>\n",
       "      <th>PourDrinkFromBottle</th>\n",
       "      <td>-0.035316</td>\n",
       "      <td>-0.086621</td>\n",
       "      <td>0.032680</td>\n",
       "      <td>0.192719</td>\n",
       "      <td>0.206138</td>\n",
       "      <td>0.319230</td>\n",
       "      <td>0.289952</td>\n",
       "      <td>0.123067</td>\n",
       "      <td>0.352833</td>\n",
       "      <td>0.128241</td>\n",
       "      <td>0.265955</td>\n",
       "      <td>0.199320</td>\n",
       "      <td>0.180294</td>\n",
       "      <td>0.052979</td>\n",
       "      <td>0.221915</td>\n",
       "      <td>1.000000</td>\n",
       "      <td>0.265719</td>\n",
       "      <td>0.315849</td>\n",
       "      <td>0.198572</td>\n",
       "      <td>0.221642</td>\n",
       "    </tr>\n",
       "    <tr>\n",
       "      <th>UseForkAndSpoon</th>\n",
       "      <td>0.144178</td>\n",
       "      <td>0.096971</td>\n",
       "      <td>0.241739</td>\n",
       "      <td>0.205243</td>\n",
       "      <td>0.235353</td>\n",
       "      <td>0.318497</td>\n",
       "      <td>0.337021</td>\n",
       "      <td>0.141134</td>\n",
       "      <td>0.358199</td>\n",
       "      <td>0.115363</td>\n",
       "      <td>0.340286</td>\n",
       "      <td>0.231568</td>\n",
       "      <td>0.268068</td>\n",
       "      <td>0.114242</td>\n",
       "      <td>0.251070</td>\n",
       "      <td>0.265719</td>\n",
       "      <td>1.000000</td>\n",
       "      <td>0.241200</td>\n",
       "      <td>0.325119</td>\n",
       "      <td>0.299581</td>\n",
       "    </tr>\n",
       "    <tr>\n",
       "      <th>DrinkFromPaperPlastic</th>\n",
       "      <td>-0.130782</td>\n",
       "      <td>-0.142527</td>\n",
       "      <td>0.059277</td>\n",
       "      <td>0.155550</td>\n",
       "      <td>0.227606</td>\n",
       "      <td>0.330687</td>\n",
       "      <td>0.286961</td>\n",
       "      <td>0.098672</td>\n",
       "      <td>0.334638</td>\n",
       "      <td>0.072897</td>\n",
       "      <td>0.177602</td>\n",
       "      <td>0.261518</td>\n",
       "      <td>0.185828</td>\n",
       "      <td>-0.009143</td>\n",
       "      <td>0.277523</td>\n",
       "      <td>0.315849</td>\n",
       "      <td>0.241200</td>\n",
       "      <td>1.000000</td>\n",
       "      <td>0.118930</td>\n",
       "      <td>0.270929</td>\n",
       "    </tr>\n",
       "    <tr>\n",
       "      <th>CutMeat</th>\n",
       "      <td>0.225887</td>\n",
       "      <td>0.208193</td>\n",
       "      <td>0.229894</td>\n",
       "      <td>0.223410</td>\n",
       "      <td>0.299653</td>\n",
       "      <td>0.305053</td>\n",
       "      <td>0.346924</td>\n",
       "      <td>0.199137</td>\n",
       "      <td>0.375306</td>\n",
       "      <td>0.173509</td>\n",
       "      <td>0.305401</td>\n",
       "      <td>0.188047</td>\n",
       "      <td>0.284061</td>\n",
       "      <td>0.188949</td>\n",
       "      <td>0.308741</td>\n",
       "      <td>0.198572</td>\n",
       "      <td>0.325119</td>\n",
       "      <td>0.118930</td>\n",
       "      <td>1.000000</td>\n",
       "      <td>0.371609</td>\n",
       "    </tr>\n",
       "    <tr>\n",
       "      <th>UseKeyboard</th>\n",
       "      <td>0.014181</td>\n",
       "      <td>0.035606</td>\n",
       "      <td>0.143459</td>\n",
       "      <td>0.232650</td>\n",
       "      <td>0.264531</td>\n",
       "      <td>0.368230</td>\n",
       "      <td>0.317861</td>\n",
       "      <td>0.183492</td>\n",
       "      <td>0.525513</td>\n",
       "      <td>0.016583</td>\n",
       "      <td>0.326182</td>\n",
       "      <td>0.183889</td>\n",
       "      <td>0.301240</td>\n",
       "      <td>-0.045306</td>\n",
       "      <td>0.320516</td>\n",
       "      <td>0.221642</td>\n",
       "      <td>0.299581</td>\n",
       "      <td>0.270929</td>\n",
       "      <td>0.371609</td>\n",
       "      <td>1.000000</td>\n",
       "    </tr>\n",
       "  </tbody>\n",
       "</table>\n",
       "</div>"
      ],
      "text/plain": [
       "                           TieShoesWithDevice  AttachZipper  ButtonShirt  \\\n",
       "TieShoesWithDevice                   1.000000      0.588540     0.531420   \n",
       "AttachZipper                         0.588540      1.000000     0.378487   \n",
       "ButtonShirt                          0.531420      0.378487     1.000000   \n",
       "PutOnSocks                           0.196892      0.134339     0.230768   \n",
       "BrushCombHair                        0.259543      0.155842     0.204934   \n",
       "PlaceToothpasteToothbrush           -0.116802     -0.109771     0.095018   \n",
       "BrushTeeth                           0.293002      0.247767     0.312670   \n",
       "Shave                                0.228273      0.224522     0.243253   \n",
       "UseMobilPhone                       -0.040125     -0.042813     0.083257   \n",
       "CarryLargeBox                        0.365880      0.264281     0.202639   \n",
       "OpenEnvelope                         0.135191      0.126657     0.233932   \n",
       "UseScissors                          0.048902      0.036982     0.093753   \n",
       "FoldBathTowel                        0.156552      0.110396     0.212221   \n",
       "UseHammerToDriveNail                 0.478057      0.434244     0.328163   \n",
       "StirFoodInBowl                       0.169282      0.157901     0.249015   \n",
       "PourDrinkFromBottle                 -0.035316     -0.086621     0.032680   \n",
       "UseForkAndSpoon                      0.144178      0.096971     0.241739   \n",
       "DrinkFromPaperPlastic               -0.130782     -0.142527     0.059277   \n",
       "CutMeat                              0.225887      0.208193     0.229894   \n",
       "UseKeyboard                          0.014181      0.035606     0.143459   \n",
       "\n",
       "                           PutOnSocks  BrushCombHair  \\\n",
       "TieShoesWithDevice           0.196892       0.259543   \n",
       "AttachZipper                 0.134339       0.155842   \n",
       "ButtonShirt                  0.230768       0.204934   \n",
       "PutOnSocks                   1.000000       0.164782   \n",
       "BrushCombHair                0.164782       1.000000   \n",
       "PlaceToothpasteToothbrush    0.220443       0.234252   \n",
       "BrushTeeth                   0.274635       0.357895   \n",
       "Shave                        0.110337       0.164313   \n",
       "UseMobilPhone                0.272800       0.333943   \n",
       "CarryLargeBox                0.123677       0.159350   \n",
       "OpenEnvelope                 0.257095       0.281361   \n",
       "UseScissors                  0.153019       0.243996   \n",
       "FoldBathTowel                0.203846       0.258398   \n",
       "UseHammerToDriveNail         0.119074       0.106855   \n",
       "StirFoodInBowl               0.236177       0.245629   \n",
       "PourDrinkFromBottle          0.192719       0.206138   \n",
       "UseForkAndSpoon              0.205243       0.235353   \n",
       "DrinkFromPaperPlastic        0.155550       0.227606   \n",
       "CutMeat                      0.223410       0.299653   \n",
       "UseKeyboard                  0.232650       0.264531   \n",
       "\n",
       "                           PlaceToothpasteToothbrush  BrushTeeth     Shave  \\\n",
       "TieShoesWithDevice                         -0.116802    0.293002  0.228273   \n",
       "AttachZipper                               -0.109771    0.247767  0.224522   \n",
       "ButtonShirt                                 0.095018    0.312670  0.243253   \n",
       "PutOnSocks                                  0.220443    0.274635  0.110337   \n",
       "BrushCombHair                               0.234252    0.357895  0.164313   \n",
       "PlaceToothpasteToothbrush                   1.000000    0.279192  0.059881   \n",
       "BrushTeeth                                  0.279192    1.000000  0.157716   \n",
       "Shave                                       0.059881    0.157716  1.000000   \n",
       "UseMobilPhone                               0.525566    0.434951  0.092281   \n",
       "CarryLargeBox                               0.023225    0.228312  0.186217   \n",
       "OpenEnvelope                                0.353946    0.412313  0.127133   \n",
       "UseScissors                                 0.234535    0.248979  0.156350   \n",
       "FoldBathTowel                               0.255973    0.301505  0.161827   \n",
       "UseHammerToDriveNail                       -0.132468    0.135023  0.295133   \n",
       "StirFoodInBowl                              0.305761    0.341159  0.180909   \n",
       "PourDrinkFromBottle                         0.319230    0.289952  0.123067   \n",
       "UseForkAndSpoon                             0.318497    0.337021  0.141134   \n",
       "DrinkFromPaperPlastic                       0.330687    0.286961  0.098672   \n",
       "CutMeat                                     0.305053    0.346924  0.199137   \n",
       "UseKeyboard                                 0.368230    0.317861  0.183492   \n",
       "\n",
       "                           UseMobilPhone  CarryLargeBox  OpenEnvelope  \\\n",
       "TieShoesWithDevice             -0.040125       0.365880      0.135191   \n",
       "AttachZipper                   -0.042813       0.264281      0.126657   \n",
       "ButtonShirt                     0.083257       0.202639      0.233932   \n",
       "PutOnSocks                      0.272800       0.123677      0.257095   \n",
       "BrushCombHair                   0.333943       0.159350      0.281361   \n",
       "PlaceToothpasteToothbrush       0.525566       0.023225      0.353946   \n",
       "BrushTeeth                      0.434951       0.228312      0.412313   \n",
       "Shave                           0.092281       0.186217      0.127133   \n",
       "UseMobilPhone                   1.000000       0.003966      0.323851   \n",
       "CarryLargeBox                   0.003966       1.000000      0.073542   \n",
       "OpenEnvelope                    0.323851       0.073542      1.000000   \n",
       "UseScissors                     0.250624       0.199845      0.124066   \n",
       "FoldBathTowel                   0.328347       0.245184      0.173976   \n",
       "UseHammerToDriveNail           -0.092899       0.355032      0.006472   \n",
       "StirFoodInBowl                  0.399991       0.185111      0.228980   \n",
       "PourDrinkFromBottle             0.352833       0.128241      0.265955   \n",
       "UseForkAndSpoon                 0.358199       0.115363      0.340286   \n",
       "DrinkFromPaperPlastic           0.334638       0.072897      0.177602   \n",
       "CutMeat                         0.375306       0.173509      0.305401   \n",
       "UseKeyboard                     0.525513       0.016583      0.326182   \n",
       "\n",
       "                           UseScissors  FoldBathTowel  UseHammerToDriveNail  \\\n",
       "TieShoesWithDevice            0.048902       0.156552              0.478057   \n",
       "AttachZipper                  0.036982       0.110396              0.434244   \n",
       "ButtonShirt                   0.093753       0.212221              0.328163   \n",
       "PutOnSocks                    0.153019       0.203846              0.119074   \n",
       "BrushCombHair                 0.243996       0.258398              0.106855   \n",
       "PlaceToothpasteToothbrush     0.234535       0.255973             -0.132468   \n",
       "BrushTeeth                    0.248979       0.301505              0.135023   \n",
       "Shave                         0.156350       0.161827              0.295133   \n",
       "UseMobilPhone                 0.250624       0.328347             -0.092899   \n",
       "CarryLargeBox                 0.199845       0.245184              0.355032   \n",
       "OpenEnvelope                  0.124066       0.173976              0.006472   \n",
       "UseScissors                   1.000000       0.207567              0.148580   \n",
       "FoldBathTowel                 0.207567       1.000000              0.123401   \n",
       "UseHammerToDriveNail          0.148580       0.123401              1.000000   \n",
       "StirFoodInBowl                0.221865       0.307113              0.185645   \n",
       "PourDrinkFromBottle           0.199320       0.180294              0.052979   \n",
       "UseForkAndSpoon               0.231568       0.268068              0.114242   \n",
       "DrinkFromPaperPlastic         0.261518       0.185828             -0.009143   \n",
       "CutMeat                       0.188047       0.284061              0.188949   \n",
       "UseKeyboard                   0.183889       0.301240             -0.045306   \n",
       "\n",
       "                           StirFoodInBowl  PourDrinkFromBottle  \\\n",
       "TieShoesWithDevice               0.169282            -0.035316   \n",
       "AttachZipper                     0.157901            -0.086621   \n",
       "ButtonShirt                      0.249015             0.032680   \n",
       "PutOnSocks                       0.236177             0.192719   \n",
       "BrushCombHair                    0.245629             0.206138   \n",
       "PlaceToothpasteToothbrush        0.305761             0.319230   \n",
       "BrushTeeth                       0.341159             0.289952   \n",
       "Shave                            0.180909             0.123067   \n",
       "UseMobilPhone                    0.399991             0.352833   \n",
       "CarryLargeBox                    0.185111             0.128241   \n",
       "OpenEnvelope                     0.228980             0.265955   \n",
       "UseScissors                      0.221865             0.199320   \n",
       "FoldBathTowel                    0.307113             0.180294   \n",
       "UseHammerToDriveNail             0.185645             0.052979   \n",
       "StirFoodInBowl                   1.000000             0.221915   \n",
       "PourDrinkFromBottle              0.221915             1.000000   \n",
       "UseForkAndSpoon                  0.251070             0.265719   \n",
       "DrinkFromPaperPlastic            0.277523             0.315849   \n",
       "CutMeat                          0.308741             0.198572   \n",
       "UseKeyboard                      0.320516             0.221642   \n",
       "\n",
       "                           UseForkAndSpoon  DrinkFromPaperPlastic   CutMeat  \\\n",
       "TieShoesWithDevice                0.144178              -0.130782  0.225887   \n",
       "AttachZipper                      0.096971              -0.142527  0.208193   \n",
       "ButtonShirt                       0.241739               0.059277  0.229894   \n",
       "PutOnSocks                        0.205243               0.155550  0.223410   \n",
       "BrushCombHair                     0.235353               0.227606  0.299653   \n",
       "PlaceToothpasteToothbrush         0.318497               0.330687  0.305053   \n",
       "BrushTeeth                        0.337021               0.286961  0.346924   \n",
       "Shave                             0.141134               0.098672  0.199137   \n",
       "UseMobilPhone                     0.358199               0.334638  0.375306   \n",
       "CarryLargeBox                     0.115363               0.072897  0.173509   \n",
       "OpenEnvelope                      0.340286               0.177602  0.305401   \n",
       "UseScissors                       0.231568               0.261518  0.188047   \n",
       "FoldBathTowel                     0.268068               0.185828  0.284061   \n",
       "UseHammerToDriveNail              0.114242              -0.009143  0.188949   \n",
       "StirFoodInBowl                    0.251070               0.277523  0.308741   \n",
       "PourDrinkFromBottle               0.265719               0.315849  0.198572   \n",
       "UseForkAndSpoon                   1.000000               0.241200  0.325119   \n",
       "DrinkFromPaperPlastic             0.241200               1.000000  0.118930   \n",
       "CutMeat                           0.325119               0.118930  1.000000   \n",
       "UseKeyboard                       0.299581               0.270929  0.371609   \n",
       "\n",
       "                           UseKeyboard  \n",
       "TieShoesWithDevice            0.014181  \n",
       "AttachZipper                  0.035606  \n",
       "ButtonShirt                   0.143459  \n",
       "PutOnSocks                    0.232650  \n",
       "BrushCombHair                 0.264531  \n",
       "PlaceToothpasteToothbrush     0.368230  \n",
       "BrushTeeth                    0.317861  \n",
       "Shave                         0.183492  \n",
       "UseMobilPhone                 0.525513  \n",
       "CarryLargeBox                 0.016583  \n",
       "OpenEnvelope                  0.326182  \n",
       "UseScissors                   0.183889  \n",
       "FoldBathTowel                 0.301240  \n",
       "UseHammerToDriveNail         -0.045306  \n",
       "StirFoodInBowl                0.320516  \n",
       "PourDrinkFromBottle           0.221642  \n",
       "UseForkAndSpoon               0.299581  \n",
       "DrinkFromPaperPlastic         0.270929  \n",
       "CutMeat                       0.371609  \n",
       "UseKeyboard                   1.000000  "
      ]
     },
     "execution_count": 48,
     "metadata": {},
     "output_type": "execute_result"
    }
   ],
   "source": [
    "opcor = shtNoNan[opus].corr()\n",
    "opcor"
   ]
  },
  {
   "cell_type": "code",
   "execution_count": 60,
   "metadata": {
    "collapsed": false
   },
   "outputs": [
    {
     "data": {
      "text/html": [
       "<div>\n",
       "<table border=\"1\" class=\"dataframe\">\n",
       "  <thead>\n",
       "    <tr style=\"text-align: right;\">\n",
       "      <th></th>\n",
       "      <th>TieShoesWithDevice</th>\n",
       "      <th>AttachZipper</th>\n",
       "      <th>ButtonShirt</th>\n",
       "      <th>PutOnSocks</th>\n",
       "      <th>BrushCombHair</th>\n",
       "      <th>PlaceToothpasteToothbrush</th>\n",
       "      <th>BrushTeeth</th>\n",
       "      <th>Shave</th>\n",
       "      <th>UseMobilPhone</th>\n",
       "      <th>CarryLargeBox</th>\n",
       "      <th>OpenEnvelope</th>\n",
       "      <th>UseScissors</th>\n",
       "      <th>FoldBathTowel</th>\n",
       "      <th>UseHammerToDriveNail</th>\n",
       "      <th>StirFoodInBowl</th>\n",
       "      <th>PourDrinkFromBottle</th>\n",
       "      <th>UseForkAndSpoon</th>\n",
       "      <th>DrinkFromPaperPlastic</th>\n",
       "      <th>CutMeat</th>\n",
       "      <th>UseKeyboard</th>\n",
       "    </tr>\n",
       "  </thead>\n",
       "  <tbody>\n",
       "    <tr>\n",
       "      <th>TieShoesWithDevice</th>\n",
       "      <td>1.00000</td>\n",
       "      <td>0.58854</td>\n",
       "      <td>0.53142</td>\n",
       "      <td>NaN</td>\n",
       "      <td>NaN</td>\n",
       "      <td>NaN</td>\n",
       "      <td>NaN</td>\n",
       "      <td>NaN</td>\n",
       "      <td>NaN</td>\n",
       "      <td>NaN</td>\n",
       "      <td>NaN</td>\n",
       "      <td>NaN</td>\n",
       "      <td>NaN</td>\n",
       "      <td>NaN</td>\n",
       "      <td>NaN</td>\n",
       "      <td>NaN</td>\n",
       "      <td>NaN</td>\n",
       "      <td>NaN</td>\n",
       "      <td>NaN</td>\n",
       "      <td>NaN</td>\n",
       "    </tr>\n",
       "    <tr>\n",
       "      <th>AttachZipper</th>\n",
       "      <td>0.58854</td>\n",
       "      <td>1.00000</td>\n",
       "      <td>NaN</td>\n",
       "      <td>NaN</td>\n",
       "      <td>NaN</td>\n",
       "      <td>NaN</td>\n",
       "      <td>NaN</td>\n",
       "      <td>NaN</td>\n",
       "      <td>NaN</td>\n",
       "      <td>NaN</td>\n",
       "      <td>NaN</td>\n",
       "      <td>NaN</td>\n",
       "      <td>NaN</td>\n",
       "      <td>NaN</td>\n",
       "      <td>NaN</td>\n",
       "      <td>NaN</td>\n",
       "      <td>NaN</td>\n",
       "      <td>NaN</td>\n",
       "      <td>NaN</td>\n",
       "      <td>NaN</td>\n",
       "    </tr>\n",
       "    <tr>\n",
       "      <th>ButtonShirt</th>\n",
       "      <td>0.53142</td>\n",
       "      <td>NaN</td>\n",
       "      <td>1.00000</td>\n",
       "      <td>NaN</td>\n",
       "      <td>NaN</td>\n",
       "      <td>NaN</td>\n",
       "      <td>NaN</td>\n",
       "      <td>NaN</td>\n",
       "      <td>NaN</td>\n",
       "      <td>NaN</td>\n",
       "      <td>NaN</td>\n",
       "      <td>NaN</td>\n",
       "      <td>NaN</td>\n",
       "      <td>NaN</td>\n",
       "      <td>NaN</td>\n",
       "      <td>NaN</td>\n",
       "      <td>NaN</td>\n",
       "      <td>NaN</td>\n",
       "      <td>NaN</td>\n",
       "      <td>NaN</td>\n",
       "    </tr>\n",
       "    <tr>\n",
       "      <th>PutOnSocks</th>\n",
       "      <td>NaN</td>\n",
       "      <td>NaN</td>\n",
       "      <td>NaN</td>\n",
       "      <td>1.0</td>\n",
       "      <td>NaN</td>\n",
       "      <td>NaN</td>\n",
       "      <td>NaN</td>\n",
       "      <td>NaN</td>\n",
       "      <td>NaN</td>\n",
       "      <td>NaN</td>\n",
       "      <td>NaN</td>\n",
       "      <td>NaN</td>\n",
       "      <td>NaN</td>\n",
       "      <td>NaN</td>\n",
       "      <td>NaN</td>\n",
       "      <td>NaN</td>\n",
       "      <td>NaN</td>\n",
       "      <td>NaN</td>\n",
       "      <td>NaN</td>\n",
       "      <td>NaN</td>\n",
       "    </tr>\n",
       "    <tr>\n",
       "      <th>BrushCombHair</th>\n",
       "      <td>NaN</td>\n",
       "      <td>NaN</td>\n",
       "      <td>NaN</td>\n",
       "      <td>NaN</td>\n",
       "      <td>1.0</td>\n",
       "      <td>NaN</td>\n",
       "      <td>NaN</td>\n",
       "      <td>NaN</td>\n",
       "      <td>NaN</td>\n",
       "      <td>NaN</td>\n",
       "      <td>NaN</td>\n",
       "      <td>NaN</td>\n",
       "      <td>NaN</td>\n",
       "      <td>NaN</td>\n",
       "      <td>NaN</td>\n",
       "      <td>NaN</td>\n",
       "      <td>NaN</td>\n",
       "      <td>NaN</td>\n",
       "      <td>NaN</td>\n",
       "      <td>NaN</td>\n",
       "    </tr>\n",
       "    <tr>\n",
       "      <th>PlaceToothpasteToothbrush</th>\n",
       "      <td>NaN</td>\n",
       "      <td>NaN</td>\n",
       "      <td>NaN</td>\n",
       "      <td>NaN</td>\n",
       "      <td>NaN</td>\n",
       "      <td>1.000000</td>\n",
       "      <td>NaN</td>\n",
       "      <td>NaN</td>\n",
       "      <td>0.525566</td>\n",
       "      <td>NaN</td>\n",
       "      <td>NaN</td>\n",
       "      <td>NaN</td>\n",
       "      <td>NaN</td>\n",
       "      <td>NaN</td>\n",
       "      <td>NaN</td>\n",
       "      <td>NaN</td>\n",
       "      <td>NaN</td>\n",
       "      <td>NaN</td>\n",
       "      <td>NaN</td>\n",
       "      <td>NaN</td>\n",
       "    </tr>\n",
       "    <tr>\n",
       "      <th>BrushTeeth</th>\n",
       "      <td>NaN</td>\n",
       "      <td>NaN</td>\n",
       "      <td>NaN</td>\n",
       "      <td>NaN</td>\n",
       "      <td>NaN</td>\n",
       "      <td>NaN</td>\n",
       "      <td>1.0</td>\n",
       "      <td>NaN</td>\n",
       "      <td>NaN</td>\n",
       "      <td>NaN</td>\n",
       "      <td>NaN</td>\n",
       "      <td>NaN</td>\n",
       "      <td>NaN</td>\n",
       "      <td>NaN</td>\n",
       "      <td>NaN</td>\n",
       "      <td>NaN</td>\n",
       "      <td>NaN</td>\n",
       "      <td>NaN</td>\n",
       "      <td>NaN</td>\n",
       "      <td>NaN</td>\n",
       "    </tr>\n",
       "    <tr>\n",
       "      <th>Shave</th>\n",
       "      <td>NaN</td>\n",
       "      <td>NaN</td>\n",
       "      <td>NaN</td>\n",
       "      <td>NaN</td>\n",
       "      <td>NaN</td>\n",
       "      <td>NaN</td>\n",
       "      <td>NaN</td>\n",
       "      <td>1.0</td>\n",
       "      <td>NaN</td>\n",
       "      <td>NaN</td>\n",
       "      <td>NaN</td>\n",
       "      <td>NaN</td>\n",
       "      <td>NaN</td>\n",
       "      <td>NaN</td>\n",
       "      <td>NaN</td>\n",
       "      <td>NaN</td>\n",
       "      <td>NaN</td>\n",
       "      <td>NaN</td>\n",
       "      <td>NaN</td>\n",
       "      <td>NaN</td>\n",
       "    </tr>\n",
       "    <tr>\n",
       "      <th>UseMobilPhone</th>\n",
       "      <td>NaN</td>\n",
       "      <td>NaN</td>\n",
       "      <td>NaN</td>\n",
       "      <td>NaN</td>\n",
       "      <td>NaN</td>\n",
       "      <td>0.525566</td>\n",
       "      <td>NaN</td>\n",
       "      <td>NaN</td>\n",
       "      <td>1.000000</td>\n",
       "      <td>NaN</td>\n",
       "      <td>NaN</td>\n",
       "      <td>NaN</td>\n",
       "      <td>NaN</td>\n",
       "      <td>NaN</td>\n",
       "      <td>NaN</td>\n",
       "      <td>NaN</td>\n",
       "      <td>NaN</td>\n",
       "      <td>NaN</td>\n",
       "      <td>NaN</td>\n",
       "      <td>0.525513</td>\n",
       "    </tr>\n",
       "    <tr>\n",
       "      <th>CarryLargeBox</th>\n",
       "      <td>NaN</td>\n",
       "      <td>NaN</td>\n",
       "      <td>NaN</td>\n",
       "      <td>NaN</td>\n",
       "      <td>NaN</td>\n",
       "      <td>NaN</td>\n",
       "      <td>NaN</td>\n",
       "      <td>NaN</td>\n",
       "      <td>NaN</td>\n",
       "      <td>1.0</td>\n",
       "      <td>NaN</td>\n",
       "      <td>NaN</td>\n",
       "      <td>NaN</td>\n",
       "      <td>NaN</td>\n",
       "      <td>NaN</td>\n",
       "      <td>NaN</td>\n",
       "      <td>NaN</td>\n",
       "      <td>NaN</td>\n",
       "      <td>NaN</td>\n",
       "      <td>NaN</td>\n",
       "    </tr>\n",
       "    <tr>\n",
       "      <th>OpenEnvelope</th>\n",
       "      <td>NaN</td>\n",
       "      <td>NaN</td>\n",
       "      <td>NaN</td>\n",
       "      <td>NaN</td>\n",
       "      <td>NaN</td>\n",
       "      <td>NaN</td>\n",
       "      <td>NaN</td>\n",
       "      <td>NaN</td>\n",
       "      <td>NaN</td>\n",
       "      <td>NaN</td>\n",
       "      <td>1.0</td>\n",
       "      <td>NaN</td>\n",
       "      <td>NaN</td>\n",
       "      <td>NaN</td>\n",
       "      <td>NaN</td>\n",
       "      <td>NaN</td>\n",
       "      <td>NaN</td>\n",
       "      <td>NaN</td>\n",
       "      <td>NaN</td>\n",
       "      <td>NaN</td>\n",
       "    </tr>\n",
       "    <tr>\n",
       "      <th>UseScissors</th>\n",
       "      <td>NaN</td>\n",
       "      <td>NaN</td>\n",
       "      <td>NaN</td>\n",
       "      <td>NaN</td>\n",
       "      <td>NaN</td>\n",
       "      <td>NaN</td>\n",
       "      <td>NaN</td>\n",
       "      <td>NaN</td>\n",
       "      <td>NaN</td>\n",
       "      <td>NaN</td>\n",
       "      <td>NaN</td>\n",
       "      <td>1.0</td>\n",
       "      <td>NaN</td>\n",
       "      <td>NaN</td>\n",
       "      <td>NaN</td>\n",
       "      <td>NaN</td>\n",
       "      <td>NaN</td>\n",
       "      <td>NaN</td>\n",
       "      <td>NaN</td>\n",
       "      <td>NaN</td>\n",
       "    </tr>\n",
       "    <tr>\n",
       "      <th>FoldBathTowel</th>\n",
       "      <td>NaN</td>\n",
       "      <td>NaN</td>\n",
       "      <td>NaN</td>\n",
       "      <td>NaN</td>\n",
       "      <td>NaN</td>\n",
       "      <td>NaN</td>\n",
       "      <td>NaN</td>\n",
       "      <td>NaN</td>\n",
       "      <td>NaN</td>\n",
       "      <td>NaN</td>\n",
       "      <td>NaN</td>\n",
       "      <td>NaN</td>\n",
       "      <td>1.0</td>\n",
       "      <td>NaN</td>\n",
       "      <td>NaN</td>\n",
       "      <td>NaN</td>\n",
       "      <td>NaN</td>\n",
       "      <td>NaN</td>\n",
       "      <td>NaN</td>\n",
       "      <td>NaN</td>\n",
       "    </tr>\n",
       "    <tr>\n",
       "      <th>UseHammerToDriveNail</th>\n",
       "      <td>NaN</td>\n",
       "      <td>NaN</td>\n",
       "      <td>NaN</td>\n",
       "      <td>NaN</td>\n",
       "      <td>NaN</td>\n",
       "      <td>NaN</td>\n",
       "      <td>NaN</td>\n",
       "      <td>NaN</td>\n",
       "      <td>NaN</td>\n",
       "      <td>NaN</td>\n",
       "      <td>NaN</td>\n",
       "      <td>NaN</td>\n",
       "      <td>NaN</td>\n",
       "      <td>1.0</td>\n",
       "      <td>NaN</td>\n",
       "      <td>NaN</td>\n",
       "      <td>NaN</td>\n",
       "      <td>NaN</td>\n",
       "      <td>NaN</td>\n",
       "      <td>NaN</td>\n",
       "    </tr>\n",
       "    <tr>\n",
       "      <th>StirFoodInBowl</th>\n",
       "      <td>NaN</td>\n",
       "      <td>NaN</td>\n",
       "      <td>NaN</td>\n",
       "      <td>NaN</td>\n",
       "      <td>NaN</td>\n",
       "      <td>NaN</td>\n",
       "      <td>NaN</td>\n",
       "      <td>NaN</td>\n",
       "      <td>NaN</td>\n",
       "      <td>NaN</td>\n",
       "      <td>NaN</td>\n",
       "      <td>NaN</td>\n",
       "      <td>NaN</td>\n",
       "      <td>NaN</td>\n",
       "      <td>1.0</td>\n",
       "      <td>NaN</td>\n",
       "      <td>NaN</td>\n",
       "      <td>NaN</td>\n",
       "      <td>NaN</td>\n",
       "      <td>NaN</td>\n",
       "    </tr>\n",
       "    <tr>\n",
       "      <th>PourDrinkFromBottle</th>\n",
       "      <td>NaN</td>\n",
       "      <td>NaN</td>\n",
       "      <td>NaN</td>\n",
       "      <td>NaN</td>\n",
       "      <td>NaN</td>\n",
       "      <td>NaN</td>\n",
       "      <td>NaN</td>\n",
       "      <td>NaN</td>\n",
       "      <td>NaN</td>\n",
       "      <td>NaN</td>\n",
       "      <td>NaN</td>\n",
       "      <td>NaN</td>\n",
       "      <td>NaN</td>\n",
       "      <td>NaN</td>\n",
       "      <td>NaN</td>\n",
       "      <td>1.0</td>\n",
       "      <td>NaN</td>\n",
       "      <td>NaN</td>\n",
       "      <td>NaN</td>\n",
       "      <td>NaN</td>\n",
       "    </tr>\n",
       "    <tr>\n",
       "      <th>UseForkAndSpoon</th>\n",
       "      <td>NaN</td>\n",
       "      <td>NaN</td>\n",
       "      <td>NaN</td>\n",
       "      <td>NaN</td>\n",
       "      <td>NaN</td>\n",
       "      <td>NaN</td>\n",
       "      <td>NaN</td>\n",
       "      <td>NaN</td>\n",
       "      <td>NaN</td>\n",
       "      <td>NaN</td>\n",
       "      <td>NaN</td>\n",
       "      <td>NaN</td>\n",
       "      <td>NaN</td>\n",
       "      <td>NaN</td>\n",
       "      <td>NaN</td>\n",
       "      <td>NaN</td>\n",
       "      <td>1.0</td>\n",
       "      <td>NaN</td>\n",
       "      <td>NaN</td>\n",
       "      <td>NaN</td>\n",
       "    </tr>\n",
       "    <tr>\n",
       "      <th>DrinkFromPaperPlastic</th>\n",
       "      <td>NaN</td>\n",
       "      <td>NaN</td>\n",
       "      <td>NaN</td>\n",
       "      <td>NaN</td>\n",
       "      <td>NaN</td>\n",
       "      <td>NaN</td>\n",
       "      <td>NaN</td>\n",
       "      <td>NaN</td>\n",
       "      <td>NaN</td>\n",
       "      <td>NaN</td>\n",
       "      <td>NaN</td>\n",
       "      <td>NaN</td>\n",
       "      <td>NaN</td>\n",
       "      <td>NaN</td>\n",
       "      <td>NaN</td>\n",
       "      <td>NaN</td>\n",
       "      <td>NaN</td>\n",
       "      <td>1.0</td>\n",
       "      <td>NaN</td>\n",
       "      <td>NaN</td>\n",
       "    </tr>\n",
       "    <tr>\n",
       "      <th>CutMeat</th>\n",
       "      <td>NaN</td>\n",
       "      <td>NaN</td>\n",
       "      <td>NaN</td>\n",
       "      <td>NaN</td>\n",
       "      <td>NaN</td>\n",
       "      <td>NaN</td>\n",
       "      <td>NaN</td>\n",
       "      <td>NaN</td>\n",
       "      <td>NaN</td>\n",
       "      <td>NaN</td>\n",
       "      <td>NaN</td>\n",
       "      <td>NaN</td>\n",
       "      <td>NaN</td>\n",
       "      <td>NaN</td>\n",
       "      <td>NaN</td>\n",
       "      <td>NaN</td>\n",
       "      <td>NaN</td>\n",
       "      <td>NaN</td>\n",
       "      <td>1.0</td>\n",
       "      <td>NaN</td>\n",
       "    </tr>\n",
       "    <tr>\n",
       "      <th>UseKeyboard</th>\n",
       "      <td>NaN</td>\n",
       "      <td>NaN</td>\n",
       "      <td>NaN</td>\n",
       "      <td>NaN</td>\n",
       "      <td>NaN</td>\n",
       "      <td>NaN</td>\n",
       "      <td>NaN</td>\n",
       "      <td>NaN</td>\n",
       "      <td>0.525513</td>\n",
       "      <td>NaN</td>\n",
       "      <td>NaN</td>\n",
       "      <td>NaN</td>\n",
       "      <td>NaN</td>\n",
       "      <td>NaN</td>\n",
       "      <td>NaN</td>\n",
       "      <td>NaN</td>\n",
       "      <td>NaN</td>\n",
       "      <td>NaN</td>\n",
       "      <td>NaN</td>\n",
       "      <td>1.000000</td>\n",
       "    </tr>\n",
       "  </tbody>\n",
       "</table>\n",
       "</div>"
      ],
      "text/plain": [
       "                           TieShoesWithDevice  AttachZipper  ButtonShirt  \\\n",
       "TieShoesWithDevice                    1.00000       0.58854      0.53142   \n",
       "AttachZipper                          0.58854       1.00000          NaN   \n",
       "ButtonShirt                           0.53142           NaN      1.00000   \n",
       "PutOnSocks                                NaN           NaN          NaN   \n",
       "BrushCombHair                             NaN           NaN          NaN   \n",
       "PlaceToothpasteToothbrush                 NaN           NaN          NaN   \n",
       "BrushTeeth                                NaN           NaN          NaN   \n",
       "Shave                                     NaN           NaN          NaN   \n",
       "UseMobilPhone                             NaN           NaN          NaN   \n",
       "CarryLargeBox                             NaN           NaN          NaN   \n",
       "OpenEnvelope                              NaN           NaN          NaN   \n",
       "UseScissors                               NaN           NaN          NaN   \n",
       "FoldBathTowel                             NaN           NaN          NaN   \n",
       "UseHammerToDriveNail                      NaN           NaN          NaN   \n",
       "StirFoodInBowl                            NaN           NaN          NaN   \n",
       "PourDrinkFromBottle                       NaN           NaN          NaN   \n",
       "UseForkAndSpoon                           NaN           NaN          NaN   \n",
       "DrinkFromPaperPlastic                     NaN           NaN          NaN   \n",
       "CutMeat                                   NaN           NaN          NaN   \n",
       "UseKeyboard                               NaN           NaN          NaN   \n",
       "\n",
       "                           PutOnSocks  BrushCombHair  \\\n",
       "TieShoesWithDevice                NaN            NaN   \n",
       "AttachZipper                      NaN            NaN   \n",
       "ButtonShirt                       NaN            NaN   \n",
       "PutOnSocks                        1.0            NaN   \n",
       "BrushCombHair                     NaN            1.0   \n",
       "PlaceToothpasteToothbrush         NaN            NaN   \n",
       "BrushTeeth                        NaN            NaN   \n",
       "Shave                             NaN            NaN   \n",
       "UseMobilPhone                     NaN            NaN   \n",
       "CarryLargeBox                     NaN            NaN   \n",
       "OpenEnvelope                      NaN            NaN   \n",
       "UseScissors                       NaN            NaN   \n",
       "FoldBathTowel                     NaN            NaN   \n",
       "UseHammerToDriveNail              NaN            NaN   \n",
       "StirFoodInBowl                    NaN            NaN   \n",
       "PourDrinkFromBottle               NaN            NaN   \n",
       "UseForkAndSpoon                   NaN            NaN   \n",
       "DrinkFromPaperPlastic             NaN            NaN   \n",
       "CutMeat                           NaN            NaN   \n",
       "UseKeyboard                       NaN            NaN   \n",
       "\n",
       "                           PlaceToothpasteToothbrush  BrushTeeth  Shave  \\\n",
       "TieShoesWithDevice                               NaN         NaN    NaN   \n",
       "AttachZipper                                     NaN         NaN    NaN   \n",
       "ButtonShirt                                      NaN         NaN    NaN   \n",
       "PutOnSocks                                       NaN         NaN    NaN   \n",
       "BrushCombHair                                    NaN         NaN    NaN   \n",
       "PlaceToothpasteToothbrush                   1.000000         NaN    NaN   \n",
       "BrushTeeth                                       NaN         1.0    NaN   \n",
       "Shave                                            NaN         NaN    1.0   \n",
       "UseMobilPhone                               0.525566         NaN    NaN   \n",
       "CarryLargeBox                                    NaN         NaN    NaN   \n",
       "OpenEnvelope                                     NaN         NaN    NaN   \n",
       "UseScissors                                      NaN         NaN    NaN   \n",
       "FoldBathTowel                                    NaN         NaN    NaN   \n",
       "UseHammerToDriveNail                             NaN         NaN    NaN   \n",
       "StirFoodInBowl                                   NaN         NaN    NaN   \n",
       "PourDrinkFromBottle                              NaN         NaN    NaN   \n",
       "UseForkAndSpoon                                  NaN         NaN    NaN   \n",
       "DrinkFromPaperPlastic                            NaN         NaN    NaN   \n",
       "CutMeat                                          NaN         NaN    NaN   \n",
       "UseKeyboard                                      NaN         NaN    NaN   \n",
       "\n",
       "                           UseMobilPhone  CarryLargeBox  OpenEnvelope  \\\n",
       "TieShoesWithDevice                   NaN            NaN           NaN   \n",
       "AttachZipper                         NaN            NaN           NaN   \n",
       "ButtonShirt                          NaN            NaN           NaN   \n",
       "PutOnSocks                           NaN            NaN           NaN   \n",
       "BrushCombHair                        NaN            NaN           NaN   \n",
       "PlaceToothpasteToothbrush       0.525566            NaN           NaN   \n",
       "BrushTeeth                           NaN            NaN           NaN   \n",
       "Shave                                NaN            NaN           NaN   \n",
       "UseMobilPhone                   1.000000            NaN           NaN   \n",
       "CarryLargeBox                        NaN            1.0           NaN   \n",
       "OpenEnvelope                         NaN            NaN           1.0   \n",
       "UseScissors                          NaN            NaN           NaN   \n",
       "FoldBathTowel                        NaN            NaN           NaN   \n",
       "UseHammerToDriveNail                 NaN            NaN           NaN   \n",
       "StirFoodInBowl                       NaN            NaN           NaN   \n",
       "PourDrinkFromBottle                  NaN            NaN           NaN   \n",
       "UseForkAndSpoon                      NaN            NaN           NaN   \n",
       "DrinkFromPaperPlastic                NaN            NaN           NaN   \n",
       "CutMeat                              NaN            NaN           NaN   \n",
       "UseKeyboard                     0.525513            NaN           NaN   \n",
       "\n",
       "                           UseScissors  FoldBathTowel  UseHammerToDriveNail  \\\n",
       "TieShoesWithDevice                 NaN            NaN                   NaN   \n",
       "AttachZipper                       NaN            NaN                   NaN   \n",
       "ButtonShirt                        NaN            NaN                   NaN   \n",
       "PutOnSocks                         NaN            NaN                   NaN   \n",
       "BrushCombHair                      NaN            NaN                   NaN   \n",
       "PlaceToothpasteToothbrush          NaN            NaN                   NaN   \n",
       "BrushTeeth                         NaN            NaN                   NaN   \n",
       "Shave                              NaN            NaN                   NaN   \n",
       "UseMobilPhone                      NaN            NaN                   NaN   \n",
       "CarryLargeBox                      NaN            NaN                   NaN   \n",
       "OpenEnvelope                       NaN            NaN                   NaN   \n",
       "UseScissors                        1.0            NaN                   NaN   \n",
       "FoldBathTowel                      NaN            1.0                   NaN   \n",
       "UseHammerToDriveNail               NaN            NaN                   1.0   \n",
       "StirFoodInBowl                     NaN            NaN                   NaN   \n",
       "PourDrinkFromBottle                NaN            NaN                   NaN   \n",
       "UseForkAndSpoon                    NaN            NaN                   NaN   \n",
       "DrinkFromPaperPlastic              NaN            NaN                   NaN   \n",
       "CutMeat                            NaN            NaN                   NaN   \n",
       "UseKeyboard                        NaN            NaN                   NaN   \n",
       "\n",
       "                           StirFoodInBowl  PourDrinkFromBottle  \\\n",
       "TieShoesWithDevice                    NaN                  NaN   \n",
       "AttachZipper                          NaN                  NaN   \n",
       "ButtonShirt                           NaN                  NaN   \n",
       "PutOnSocks                            NaN                  NaN   \n",
       "BrushCombHair                         NaN                  NaN   \n",
       "PlaceToothpasteToothbrush             NaN                  NaN   \n",
       "BrushTeeth                            NaN                  NaN   \n",
       "Shave                                 NaN                  NaN   \n",
       "UseMobilPhone                         NaN                  NaN   \n",
       "CarryLargeBox                         NaN                  NaN   \n",
       "OpenEnvelope                          NaN                  NaN   \n",
       "UseScissors                           NaN                  NaN   \n",
       "FoldBathTowel                         NaN                  NaN   \n",
       "UseHammerToDriveNail                  NaN                  NaN   \n",
       "StirFoodInBowl                        1.0                  NaN   \n",
       "PourDrinkFromBottle                   NaN                  1.0   \n",
       "UseForkAndSpoon                       NaN                  NaN   \n",
       "DrinkFromPaperPlastic                 NaN                  NaN   \n",
       "CutMeat                               NaN                  NaN   \n",
       "UseKeyboard                           NaN                  NaN   \n",
       "\n",
       "                           UseForkAndSpoon  DrinkFromPaperPlastic  CutMeat  \\\n",
       "TieShoesWithDevice                     NaN                    NaN      NaN   \n",
       "AttachZipper                           NaN                    NaN      NaN   \n",
       "ButtonShirt                            NaN                    NaN      NaN   \n",
       "PutOnSocks                             NaN                    NaN      NaN   \n",
       "BrushCombHair                          NaN                    NaN      NaN   \n",
       "PlaceToothpasteToothbrush              NaN                    NaN      NaN   \n",
       "BrushTeeth                             NaN                    NaN      NaN   \n",
       "Shave                                  NaN                    NaN      NaN   \n",
       "UseMobilPhone                          NaN                    NaN      NaN   \n",
       "CarryLargeBox                          NaN                    NaN      NaN   \n",
       "OpenEnvelope                           NaN                    NaN      NaN   \n",
       "UseScissors                            NaN                    NaN      NaN   \n",
       "FoldBathTowel                          NaN                    NaN      NaN   \n",
       "UseHammerToDriveNail                   NaN                    NaN      NaN   \n",
       "StirFoodInBowl                         NaN                    NaN      NaN   \n",
       "PourDrinkFromBottle                    NaN                    NaN      NaN   \n",
       "UseForkAndSpoon                        1.0                    NaN      NaN   \n",
       "DrinkFromPaperPlastic                  NaN                    1.0      NaN   \n",
       "CutMeat                                NaN                    NaN      1.0   \n",
       "UseKeyboard                            NaN                    NaN      NaN   \n",
       "\n",
       "                           UseKeyboard  \n",
       "TieShoesWithDevice                 NaN  \n",
       "AttachZipper                       NaN  \n",
       "ButtonShirt                        NaN  \n",
       "PutOnSocks                         NaN  \n",
       "BrushCombHair                      NaN  \n",
       "PlaceToothpasteToothbrush          NaN  \n",
       "BrushTeeth                         NaN  \n",
       "Shave                              NaN  \n",
       "UseMobilPhone                 0.525513  \n",
       "CarryLargeBox                      NaN  \n",
       "OpenEnvelope                       NaN  \n",
       "UseScissors                        NaN  \n",
       "FoldBathTowel                      NaN  \n",
       "UseHammerToDriveNail               NaN  \n",
       "StirFoodInBowl                     NaN  \n",
       "PourDrinkFromBottle                NaN  \n",
       "UseForkAndSpoon                    NaN  \n",
       "DrinkFromPaperPlastic              NaN  \n",
       "CutMeat                            NaN  \n",
       "UseKeyboard                   1.000000  "
      ]
     },
     "execution_count": 60,
     "metadata": {},
     "output_type": "execute_result"
    }
   ],
   "source": [
    "opcor[opcor>0.5]"
   ]
  },
  {
   "cell_type": "markdown",
   "metadata": {},
   "source": [
    "The increase in data, erased many of the correlations we saw."
   ]
  },
  {
   "cell_type": "code",
   "execution_count": null,
   "metadata": {
    "collapsed": true
   },
   "outputs": [],
   "source": []
  }
 ],
 "metadata": {
  "anaconda-cloud": {},
  "kernelspec": {
   "display_name": "Python [Root]",
   "language": "python",
   "name": "Python [Root]"
  },
  "language_info": {
   "codemirror_mode": {
    "name": "ipython",
    "version": 3
   },
   "file_extension": ".py",
   "mimetype": "text/x-python",
   "name": "python",
   "nbconvert_exporter": "python",
   "pygments_lexer": "ipython3",
   "version": "3.5.2"
  },
  "nbpresent": {
   "slides": {
    "021fbe39-1f9e-4acc-b9ee-f8182b3503ae": {
     "id": "021fbe39-1f9e-4acc-b9ee-f8182b3503ae",
     "prev": "ea076481-ad00-461d-896f-f934053f93a0",
     "regions": {
      "828e9f99-db1d-4a6d-9d2e-1021fb8e63b2": {
       "attrs": {
        "height": 0.8,
        "width": 0.8,
        "x": 0.1,
        "y": 0.1
       },
       "content": {
        "cell": "56c0382e-4cf9-49be-b44c-20a1c79ee0fc",
        "part": "whole"
       },
       "id": "828e9f99-db1d-4a6d-9d2e-1021fb8e63b2"
      }
     }
    },
    "0c03a166-4672-41d3-881e-3354580e41e7": {
     "id": "0c03a166-4672-41d3-881e-3354580e41e7",
     "prev": "a4216b2e-b8c0-437b-9e99-98a349cce59d",
     "regions": {
      "83569344-192a-46ec-88f5-3918c96f4f4a": {
       "attrs": {
        "height": 0.8,
        "width": 0.8,
        "x": 0.1,
        "y": 0.1
       },
       "content": {
        "cell": "53274e78-fe6b-424c-ada7-524365a45734",
        "part": "whole"
       },
       "id": "83569344-192a-46ec-88f5-3918c96f4f4a"
      }
     }
    },
    "40867d26-c599-40dc-ba9b-e84ed3cbebdd": {
     "id": "40867d26-c599-40dc-ba9b-e84ed3cbebdd",
     "prev": "af36fb0f-298f-47db-aeec-c76844aba588",
     "regions": {
      "f647db84-2076-4d1d-903e-aa9b18d4e31d": {
       "attrs": {
        "height": 0.8,
        "width": 0.8,
        "x": 0.1,
        "y": 0.1
       },
       "content": {
        "cell": "04f400a5-4353-4453-a7ae-35cc10d97d10",
        "part": "whole"
       },
       "id": "f647db84-2076-4d1d-903e-aa9b18d4e31d"
      }
     }
    },
    "5dadcc3a-ba8e-40bf-8823-f162c4d149d2": {
     "id": "5dadcc3a-ba8e-40bf-8823-f162c4d149d2",
     "prev": "a6ea2a82-5e28-4ece-9a53-dbb64f27b825",
     "regions": {
      "0e397f4c-38fc-4c6a-a926-9bf9db9f7b87": {
       "attrs": {
        "height": 0.8,
        "width": 0.8,
        "x": 0.1,
        "y": 0.1
       },
       "content": {
        "cell": "1c5a9d03-5f90-42ba-81a9-dc16674d3841",
        "part": "whole"
       },
       "id": "0e397f4c-38fc-4c6a-a926-9bf9db9f7b87"
      }
     }
    },
    "6842cc78-2a75-415b-a04c-36af891c05d1": {
     "id": "6842cc78-2a75-415b-a04c-36af891c05d1",
     "prev": "da1efcc3-06fd-4b70-af59-b9e707da78cc",
     "regions": {
      "84b6c708-3f29-4372-bbaf-be220bdad04f": {
       "attrs": {
        "height": 0.8,
        "width": 0.8,
        "x": 0.1,
        "y": 0.1
       },
       "content": {
        "cell": "16eb8d0c-c677-430c-94e6-975097093f71",
        "part": "whole"
       },
       "id": "84b6c708-3f29-4372-bbaf-be220bdad04f"
      }
     }
    },
    "6c9befd4-5292-4b92-adcd-62284f743c6e": {
     "id": "6c9befd4-5292-4b92-adcd-62284f743c6e",
     "prev": "021fbe39-1f9e-4acc-b9ee-f8182b3503ae",
     "regions": {
      "0cbef84a-f25b-4386-ace1-f92c759035cf": {
       "attrs": {
        "height": 0.8,
        "width": 0.8,
        "x": 0.1,
        "y": 0.1
       },
       "content": {
        "cell": "c2bdb94e-1b92-4a7a-a9ad-736cad881c6a",
        "part": "whole"
       },
       "id": "0cbef84a-f25b-4386-ace1-f92c759035cf"
      }
     }
    },
    "95036675-1f70-4b6f-a6d9-bb73926bf501": {
     "id": "95036675-1f70-4b6f-a6d9-bb73926bf501",
     "prev": "40867d26-c599-40dc-ba9b-e84ed3cbebdd",
     "regions": {
      "d1035513-faec-4174-8c39-a3ee316cd8e8": {
       "attrs": {
        "height": 0.8,
        "width": 0.8,
        "x": 0.1,
        "y": 0.1
       },
       "content": {
        "cell": "d812932c-de3d-4e6e-9750-ce0447d93016",
        "part": "whole"
       },
       "id": "d1035513-faec-4174-8c39-a3ee316cd8e8"
      }
     }
    },
    "a4216b2e-b8c0-437b-9e99-98a349cce59d": {
     "id": "a4216b2e-b8c0-437b-9e99-98a349cce59d",
     "prev": "b50c1a27-a8d2-4656-ad84-21d90c0bcb45",
     "regions": {
      "14f3f9f0-14b6-4353-af3e-5edf13241e17": {
       "attrs": {
        "height": 0.8,
        "width": 0.8,
        "x": 0.1,
        "y": 0.1
       },
       "content": {
        "cell": "96cf5615-6302-4e4b-8423-328678785162",
        "part": "whole"
       },
       "id": "14f3f9f0-14b6-4353-af3e-5edf13241e17"
      }
     }
    },
    "a47cb5fc-5e45-466e-a058-f485e5ff190e": {
     "id": "a47cb5fc-5e45-466e-a058-f485e5ff190e",
     "prev": null,
     "regions": {
      "0ca0acbb-deef-4553-9bb2-3ba86f392eec": {
       "attrs": {
        "height": 0.8,
        "width": 0.8,
        "x": 0.1,
        "y": 0.1
       },
       "content": {
        "cell": "8da78355-a7db-4d8d-b14c-68065766b879",
        "part": "whole"
       },
       "id": "0ca0acbb-deef-4553-9bb2-3ba86f392eec"
      }
     }
    },
    "a6ea2a82-5e28-4ece-9a53-dbb64f27b825": {
     "id": "a6ea2a82-5e28-4ece-9a53-dbb64f27b825",
     "prev": "c4541966-8293-4586-863a-e39e1588cf3a",
     "regions": {
      "8faa4315-030b-4e56-9f7e-701028a85d26": {
       "attrs": {
        "height": 0.8,
        "width": 0.8,
        "x": 0.1,
        "y": 0.1
       },
       "content": {
        "cell": "7fd09173-5d3b-4820-833b-c80fb79a6219",
        "part": "whole"
       },
       "id": "8faa4315-030b-4e56-9f7e-701028a85d26"
      }
     }
    },
    "af20c3a2-89f3-4ae4-b934-f2e56671722d": {
     "id": "af20c3a2-89f3-4ae4-b934-f2e56671722d",
     "prev": "f58db945-042a-46ee-a9d8-92b3dccb9365",
     "regions": {
      "aad99e8a-b2aa-4850-9ed5-1cc4fff73300": {
       "attrs": {
        "height": 0.8,
        "width": 0.8,
        "x": 0.1,
        "y": 0.1
       },
       "content": {
        "cell": "04d113d4-972c-40c7-bea7-53a512ce6635",
        "part": "whole"
       },
       "id": "aad99e8a-b2aa-4850-9ed5-1cc4fff73300"
      }
     }
    },
    "af36fb0f-298f-47db-aeec-c76844aba588": {
     "id": "af36fb0f-298f-47db-aeec-c76844aba588",
     "prev": "c85578a2-9c47-420d-b7d1-0c01b69e4e5f",
     "regions": {
      "01d589b2-42c8-4e7e-9442-387f4dc0b652": {
       "attrs": {
        "height": 0.8,
        "width": 0.8,
        "x": 0.1,
        "y": 0.1
       },
       "content": {
        "cell": "13765335-d602-4207-952a-71e679843e70",
        "part": "whole"
       },
       "id": "01d589b2-42c8-4e7e-9442-387f4dc0b652"
      }
     }
    },
    "b50c1a27-a8d2-4656-ad84-21d90c0bcb45": {
     "id": "b50c1a27-a8d2-4656-ad84-21d90c0bcb45",
     "prev": "6842cc78-2a75-415b-a04c-36af891c05d1",
     "regions": {
      "dc74458b-91fb-4337-8509-bffe3a751b2b": {
       "attrs": {
        "height": 0.8,
        "width": 0.8,
        "x": 0.1,
        "y": 0.1
       },
       "content": {
        "cell": "214f2b7a-071b-4aae-9de7-7956b338ce78",
        "part": "whole"
       },
       "id": "dc74458b-91fb-4337-8509-bffe3a751b2b"
      }
     }
    },
    "c4541966-8293-4586-863a-e39e1588cf3a": {
     "id": "c4541966-8293-4586-863a-e39e1588cf3a",
     "prev": "a47cb5fc-5e45-466e-a058-f485e5ff190e",
     "regions": {
      "ab9b7637-6079-4de7-8c52-39bdcb62e738": {
       "attrs": {
        "height": 0.8,
        "width": 0.8,
        "x": 0.1,
        "y": 0.1
       },
       "content": {
        "cell": "4f7a318b-c344-4b72-9c1a-6df87ecf0356",
        "part": "whole"
       },
       "id": "ab9b7637-6079-4de7-8c52-39bdcb62e738"
      }
     }
    },
    "c6608e8e-bf1e-4709-a3e2-1c268984aa6b": {
     "id": "c6608e8e-bf1e-4709-a3e2-1c268984aa6b",
     "prev": "6c9befd4-5292-4b92-adcd-62284f743c6e",
     "regions": {
      "cd3f760b-0b96-4fe0-8293-2b09e38aa1dc": {
       "attrs": {
        "height": 0.8,
        "width": 0.8,
        "x": 0.1,
        "y": 0.1
       },
       "content": {
        "cell": "234da4ce-6f97-4b28-855f-4fc980d2689d",
        "part": "whole"
       },
       "id": "cd3f760b-0b96-4fe0-8293-2b09e38aa1dc"
      }
     }
    },
    "c85578a2-9c47-420d-b7d1-0c01b69e4e5f": {
     "id": "c85578a2-9c47-420d-b7d1-0c01b69e4e5f",
     "prev": "af20c3a2-89f3-4ae4-b934-f2e56671722d",
     "regions": {
      "af01e5f0-6c40-49d0-b490-2207c205ba69": {
       "attrs": {
        "height": 0.8,
        "width": 0.8,
        "x": 0.1,
        "y": 0.1
       },
       "content": {
        "cell": "3a31f2a9-bcab-41df-899b-0d24aa093f59",
        "part": "whole"
       },
       "id": "af01e5f0-6c40-49d0-b490-2207c205ba69"
      }
     }
    },
    "da1efcc3-06fd-4b70-af59-b9e707da78cc": {
     "id": "da1efcc3-06fd-4b70-af59-b9e707da78cc",
     "prev": "95036675-1f70-4b6f-a6d9-bb73926bf501",
     "regions": {
      "2bed6c26-b236-4227-aed4-7310575d8b5c": {
       "attrs": {
        "height": 0.8,
        "width": 0.8,
        "x": 0.1,
        "y": 0.1
       },
       "content": {
        "cell": "d2b7ac67-2d5a-4888-a765-2c724ca026e5",
        "part": "whole"
       },
       "id": "2bed6c26-b236-4227-aed4-7310575d8b5c"
      }
     }
    },
    "ea076481-ad00-461d-896f-f934053f93a0": {
     "id": "ea076481-ad00-461d-896f-f934053f93a0",
     "prev": "5dadcc3a-ba8e-40bf-8823-f162c4d149d2",
     "regions": {
      "b65f8234-e537-4b05-ad74-3c17528f3685": {
       "attrs": {
        "height": 0.8,
        "width": 0.8,
        "x": 0.1,
        "y": 0.1
       },
       "content": {
        "cell": "088fb3cc-7a77-4df0-96c5-7cb7f70d48bc",
        "part": "whole"
       },
       "id": "b65f8234-e537-4b05-ad74-3c17528f3685"
      }
     }
    },
    "f58db945-042a-46ee-a9d8-92b3dccb9365": {
     "id": "f58db945-042a-46ee-a9d8-92b3dccb9365",
     "prev": "c6608e8e-bf1e-4709-a3e2-1c268984aa6b",
     "regions": {
      "c4aa5970-874e-4bfa-a4be-da35ba33d987": {
       "attrs": {
        "height": 0.8,
        "width": 0.8,
        "x": 0.1,
        "y": 0.1
       },
       "content": {
        "cell": "8318087d-79cb-49cf-8d87-b50e9f3a3fb2",
        "part": "whole"
       },
       "id": "c4aa5970-874e-4bfa-a4be-da35ba33d987"
      }
     }
    }
   },
   "themes": {}
  }
 },
 "nbformat": 4,
 "nbformat_minor": 0
}
