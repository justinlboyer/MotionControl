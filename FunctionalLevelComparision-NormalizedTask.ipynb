{
 "cells": [
  {
   "cell_type": "markdown",
   "metadata": {},
   "source": [
    "# Normalized Tasks -- Functional Level Comparision\n",
    "\n",
    "This notebook computes significance for the Normalized Task (Non-Opus Tasks) score for the following:\n",
    "1. Electric Hook Type TD\n",
    "    * vs. all types of Electric Hand\n",
    "    * vs. Electric single grip hand\n",
    "    * vs. body-powered TD\n",
    "    * vs. Electric multi-articulating hand\n",
    "2. Motion Control ETD\n",
    "    * vs. electric hooks\n",
    "3. Multi-articulating hands    \n",
    "    * vs. Electric single grip hand\n",
    "    * vs. Body-powered TD\n",
    "4. Check T-tests\n",
    "    * Anova\n",
    "    * Tukey\n",
    "5. Compare scores on normalized tasks among brands and number of respondents"
   ]
  },
  {
   "cell_type": "code",
   "execution_count": 1,
   "metadata": {
    "collapsed": false
   },
   "outputs": [
    {
     "name": "stdout",
     "output_type": "stream",
     "text": [
      "There are 0 duplicates\n"
     ]
    }
   ],
   "source": [
    "import pandas as pd\n",
    "import numpy as np\n",
    "from scipy import stats\n",
    "import matplotlib.pyplot as plt\n",
    "from driverCleanData import cleanData\n",
    "%matplotlib inline\n",
    "[sht,_] = cleanData();"
   ]
  },
  {
   "cell_type": "markdown",
   "metadata": {},
   "source": [
    "The tasks we are considering are"
   ]
  },
  {
   "cell_type": "code",
   "execution_count": 34,
   "metadata": {
    "collapsed": false
   },
   "outputs": [
    {
     "name": "stdout",
     "output_type": "stream",
     "text": [
      "['GrabObjectsWetEnvironment', 'GrabObjectsDirtyEnvironment', 'UseFingerTips', 'CanYouParticipateArtsCrafts', 'CanYouParticipateInHobbies', 'GoRidingMotorcycleATVetc', 'ParticipateOutdoorActivities', 'PerformHomeImprovement']\n"
     ]
    }
   ],
   "source": [
    "from vectorSubsets import taskFull\n",
    "print(taskFull[20:28])"
   ]
  },
  {
   "cell_type": "markdown",
   "metadata": {},
   "source": [
    "Let's look at the summary stats for all the data on the normalized tasks."
   ]
  },
  {
   "cell_type": "code",
   "execution_count": 35,
   "metadata": {
    "collapsed": false
   },
   "outputs": [
    {
     "name": "stdout",
     "output_type": "stream",
     "text": [
      "count    1212.000000\n",
      "mean        3.047572\n",
      "std         0.435905\n",
      "min         1.571429\n",
      "25%         2.750000\n",
      "50%         3.000000\n",
      "75%         3.250000\n",
      "max         4.000000\n",
      "Name: normalizedTask, dtype: float64\n"
     ]
    }
   ],
   "source": [
    "print(sht.normalizedTask.dropna().describe())"
   ]
  },
  {
   "cell_type": "markdown",
   "metadata": {},
   "source": [
    "The normalization process means that the scores on the tasks are only counted if the respondent performs the task with their prosthesis.  The maxiumum score is a 4 and implies that the respondent finds the tasks easy with their device."
   ]
  },
  {
   "cell_type": "markdown",
   "metadata": {},
   "source": [
    "## Electric Hook TD\n",
    "### vs. all types of Electric Hand\n",
    "\n"
   ]
  },
  {
   "cell_type": "code",
   "execution_count": 2,
   "metadata": {
    "collapsed": false
   },
   "outputs": [
    {
     "name": "stdout",
     "output_type": "stream",
     "text": [
      "Electric hooks are: ['Motion Control (MC) ETD', 'Otto Bock Axon Hook', 'Otto Bock Greifer']\n",
      "\n",
      "Electric hands - multi articulating are ['bebionic Hand', 'i-limb Hand', 'Michelangelo Hand']\n",
      "\n",
      "Electric hands - single grip are ['Motion Control (MC) Hand', 'Otto Bock Hand']\n"
     ]
    }
   ],
   "source": [
    "from vectorSubsets import electricHooks, electricHandMA, electricHandSG\n",
    "print(\"Electric hooks are: {0}\".format(electricHooks))\n",
    "print()\n",
    "print(\"Electric hands - multi articulating are {0}\".format(electricHandMA))\n",
    "print()\n",
    "print(\"Electric hands - single grip are {0}\".format(electricHandSG))"
   ]
  },
  {
   "cell_type": "code",
   "execution_count": 3,
   "metadata": {
    "collapsed": false
   },
   "outputs": [],
   "source": [
    "sht[\"TaskEHo\"] = sht.normalizedTask[sht[\"PrimaryTerminalDevice\"].isin(electricHooks)]\n",
    "sht[\"TaskAllEHa\"] = sht.normalizedTask[sht[\"PrimaryTerminalDevice\"].isin(electricHandMA or electricHandSG)]"
   ]
  },
  {
   "cell_type": "markdown",
   "metadata": {},
   "source": [
    "#### Summary Stats\n",
    "\n",
    "First up the electric hooks"
   ]
  },
  {
   "cell_type": "code",
   "execution_count": 4,
   "metadata": {
    "collapsed": false
   },
   "outputs": [
    {
     "data": {
      "text/plain": [
       "count    114.000000\n",
       "mean       2.946773\n",
       "std        0.391915\n",
       "min        2.000000\n",
       "25%        2.750000\n",
       "50%        3.000000\n",
       "75%        3.093750\n",
       "max        4.000000\n",
       "Name: TaskEHo, dtype: float64"
      ]
     },
     "execution_count": 4,
     "metadata": {},
     "output_type": "execute_result"
    }
   ],
   "source": [
    "sht.TaskEHo.dropna().describe()"
   ]
  },
  {
   "cell_type": "markdown",
   "metadata": {},
   "source": [
    "Now for the electric hands"
   ]
  },
  {
   "cell_type": "code",
   "execution_count": 5,
   "metadata": {
    "collapsed": false
   },
   "outputs": [
    {
     "data": {
      "text/plain": [
       "count    279.000000\n",
       "mean       3.028136\n",
       "std        0.358486\n",
       "min        2.000000\n",
       "25%        2.750000\n",
       "50%        3.000000\n",
       "75%        3.250000\n",
       "max        4.000000\n",
       "Name: TaskAllEHa, dtype: float64"
      ]
     },
     "execution_count": 5,
     "metadata": {},
     "output_type": "execute_result"
    }
   ],
   "source": [
    "sht.TaskAllEHa.dropna().describe()"
   ]
  },
  {
   "cell_type": "markdown",
   "metadata": {},
   "source": [
    "\n",
    "#### Histogram\n"
   ]
  },
  {
   "cell_type": "code",
   "execution_count": 31,
   "metadata": {
    "collapsed": false
   },
   "outputs": [
    {
     "data": {
      "image/png": "[encoded data removed]",
      "text/plain": [
       "<matplotlib.figure.Figure at 0x1ec63061908>"
      ]
     },
     "metadata": {},
     "output_type": "display_data"
    }
   ],
   "source": [
    "plt.hist(sht.TaskAllEHa.dropna(), alpha=0.6, color='b', label = \"All electric hands\")\n",
    "plt.hist(sht.TaskEHo.dropna(), alpha=0.6, color='r', label = \"All electric hooks\")\n",
    "plt.title(\"Normalized Task Score\")\n",
    "plt.legend()\n",
    "plt.show()"
   ]
  },
  {
   "cell_type": "code",
   "execution_count": 7,
   "metadata": {
    "collapsed": false
   },
   "outputs": [
    {
     "data": {
      "text/plain": [
       "Ttest_indResult(statistic=1.9865381765195675, pvalue=0.047671245003818315)"
      ]
     },
     "execution_count": 7,
     "metadata": {},
     "output_type": "execute_result"
    }
   ],
   "source": [
    "stats.ttest_ind(sht.TaskAllEHa.dropna(), sht.TaskEHo.dropna())"
   ]
  },
  {
   "cell_type": "markdown",
   "metadata": {},
   "source": [
    "The higher mean score on the normalized tasks for the electric hands is significant."
   ]
  },
  {
   "cell_type": "markdown",
   "metadata": {},
   "source": [
    "## vs. Electric single grip hand"
   ]
  },
  {
   "cell_type": "code",
   "execution_count": 8,
   "metadata": {
    "collapsed": false
   },
   "outputs": [
    {
     "name": "stdout",
     "output_type": "stream",
     "text": [
      "The types of devices we are considering as electric hands are ['Motion Control (MC) Hand', 'Otto Bock Hand']\n",
      "\n",
      "The mean of the electric hooks Task is 2.946773182957393\n",
      "\n",
      "The summary stats for the single grip are\n",
      "count    604.000000\n",
      "mean       3.099135\n",
      "std        0.469637\n",
      "min        2.000000\n",
      "25%        2.750000\n",
      "50%        3.000000\n",
      "75%        3.333333\n",
      "max        4.000000\n",
      "Name: TaskElecSG, dtype: float64\n"
     ]
    }
   ],
   "source": [
    "sht[\"TaskElecSG\"] = sht.normalizedTask[sht[\"PrimaryTerminalDevice\"].isin(electricHandSG)]\n",
    "print(\"The types of devices we are considering as electric hands are {0}\".format(electricHandSG))\n",
    "print()\n",
    "print(\"The mean of the electric hooks Task is {0}\".format(sht.TaskEHo.dropna().mean()))\n",
    "print()\n",
    "print(\"The summary stats for the single grip are\")\n",
    "print(sht.TaskElecSG.dropna().describe())"
   ]
  },
  {
   "cell_type": "code",
   "execution_count": 9,
   "metadata": {
    "collapsed": false
   },
   "outputs": [
    {
     "data": {
      "text/plain": [
       "Ttest_indResult(statistic=-3.2559968034549294, pvalue=0.0011831605382561048)"
      ]
     },
     "execution_count": 9,
     "metadata": {},
     "output_type": "execute_result"
    }
   ],
   "source": [
    "stats.ttest_ind(sht.TaskEHo.dropna(), sht.TaskElecSG.dropna())"
   ]
  },
  {
   "cell_type": "markdown",
   "metadata": {},
   "source": [
    "The single grips higher score on the normalized tasks is significant."
   ]
  },
  {
   "cell_type": "markdown",
   "metadata": {},
   "source": [
    "#### Histograms\n"
   ]
  },
  {
   "cell_type": "code",
   "execution_count": 37,
   "metadata": {
    "collapsed": false
   },
   "outputs": [
    {
     "data": {
      "image/png": "[encoded data removed]",
      "text/plain": [
       "<matplotlib.figure.Figure at 0x1ec61fec978>"
      ]
     },
     "metadata": {},
     "output_type": "display_data"
    }
   ],
   "source": [
    "plt.hist(sht.TaskElecSG.dropna(), color='b', alpha=0.6, label = \"Single grip electric hands\")\n",
    "plt.hist(sht.TaskEHo.dropna(), color='r', alpha=0.6, label = \"Electric hooks\")\n",
    "plt.title(\"Normalized Task Score\")\n",
    "plt.legend()\n",
    "plt.show()"
   ]
  },
  {
   "cell_type": "markdown",
   "metadata": {},
   "source": [
    "## vs. Body Powered Hooks"
   ]
  },
  {
   "cell_type": "code",
   "execution_count": 11,
   "metadata": {
    "collapsed": false
   },
   "outputs": [
    {
     "data": {
      "text/plain": [
       "count    183.000000\n",
       "mean       2.969659\n",
       "std        0.424145\n",
       "min        2.000000\n",
       "25%        2.625000\n",
       "50%        2.875000\n",
       "75%        3.125000\n",
       "max        4.000000\n",
       "Name: TaskBPHook, dtype: float64"
      ]
     },
     "execution_count": 11,
     "metadata": {},
     "output_type": "execute_result"
    }
   ],
   "source": [
    "from vectorSubsets import bodyPoweredHooks\n",
    "sht[\"TaskBPHook\"] = sht.normalizedTask[sht[\"PrimaryTerminalDevice\"].isin(bodyPoweredHooks)]\n",
    "sht.TaskBPHook.dropna().describe()"
   ]
  },
  {
   "cell_type": "code",
   "execution_count": 12,
   "metadata": {
    "collapsed": false
   },
   "outputs": [
    {
     "data": {
      "text/plain": [
       "Ttest_indResult(statistic=-0.46544563120854221, pvalue=0.64195578235207362)"
      ]
     },
     "execution_count": 12,
     "metadata": {},
     "output_type": "execute_result"
    }
   ],
   "source": [
    "stats.ttest_ind(sht.TaskEHo.dropna(), sht.TaskBPHook.dropna())"
   ]
  },
  {
   "cell_type": "markdown",
   "metadata": {},
   "source": [
    "Can't reject the null at alpha=0.05"
   ]
  },
  {
   "cell_type": "markdown",
   "metadata": {},
   "source": [
    "## vs. Multi-articulating Hands"
   ]
  },
  {
   "cell_type": "code",
   "execution_count": 13,
   "metadata": {
    "collapsed": false
   },
   "outputs": [
    {
     "name": "stdout",
     "output_type": "stream",
     "text": [
      "The mean of the electric hooks Task is 2.946773182957393\n",
      "\n",
      "The summary stats for multi-articulating are:\n",
      "count    279.000000\n",
      "mean       3.028136\n",
      "std        0.358486\n",
      "min        2.000000\n",
      "25%        2.750000\n",
      "50%        3.000000\n",
      "75%        3.250000\n",
      "max        4.000000\n",
      "Name: TaskMA, dtype: float64\n"
     ]
    }
   ],
   "source": [
    "from vectorSubsets import electricHandMA\n",
    "sht[\"TaskMA\"] = sht.normalizedTask[sht[\"PrimaryTerminalDevice\"].isin(electricHandMA)]\n",
    "print(\"The mean of the electric hooks Task is {0}\".format(sht.TaskEHo.dropna().mean()))\n",
    "print()\n",
    "print(\"The summary stats for multi-articulating are:\")\n",
    "print(sht.TaskMA.dropna().describe())"
   ]
  },
  {
   "cell_type": "code",
   "execution_count": 36,
   "metadata": {
    "collapsed": false
   },
   "outputs": [
    {
     "data": {
      "image/png": "[encoded data removed]",
      "text/plain": [
       "<matplotlib.figure.Figure at 0x1ec629a65f8>"
      ]
     },
     "metadata": {},
     "output_type": "display_data"
    }
   ],
   "source": [
    "plt.hist(sht.TaskMA.dropna(), alpha=0.6, color='b', label = \"Multi-articulating electric hands\")\n",
    "plt.hist(sht.TaskEHo.dropna(), alpha=0.6, color='r', label = \"Electric hooks\")\n",
    "plt.title(\"Normalized Task Score\")\n",
    "plt.legend()\n",
    "plt.show()"
   ]
  },
  {
   "cell_type": "code",
   "execution_count": 15,
   "metadata": {
    "collapsed": false
   },
   "outputs": [
    {
     "data": {
      "text/plain": [
       "Ttest_indResult(statistic=-1.9865381765195675, pvalue=0.047671245003818315)"
      ]
     },
     "execution_count": 15,
     "metadata": {},
     "output_type": "execute_result"
    }
   ],
   "source": [
    "stats.ttest_ind(sht.TaskEHo.dropna(),sht.TaskMA.dropna())"
   ]
  },
  {
   "cell_type": "markdown",
   "metadata": {},
   "source": [
    "The higher mean score of the multi-articulating is significant compared to electric hooks."
   ]
  },
  {
   "cell_type": "markdown",
   "metadata": {},
   "source": [
    "# Motion Control ETD vs. All Electric Hooks"
   ]
  },
  {
   "cell_type": "code",
   "execution_count": 16,
   "metadata": {
    "collapsed": false
   },
   "outputs": [
    {
     "name": "stdout",
     "output_type": "stream",
     "text": [
      "The electric hooks we are considering are: ['Otto Bock Greifer', 'Otto Bock Axon Hook']\n",
      "The number of participants are 27\n",
      "\n",
      "The average score on Task for the ETD is 2.8816228790366725\n",
      "The average score on Task for the electric hooks is 3.1567019400352736\n",
      "\n",
      "Ttest_indResult(statistic=-3.3247908774966337, pvalue=0.001196618104693462)\n"
     ]
    }
   ],
   "source": [
    "sht[\"TaskETD\"] = sht.normalizedTask[sht[\"PrimaryTerminalDevice\"]==\"Motion Control (MC) ETD\"]\n",
    "from vectorSubsets import electricHooksNoETD\n",
    "sht[\"TaskElecNoETD\"] = sht.normalizedTask[sht[\"PrimaryTerminalDevice\"].isin(electricHooksNoETD)]\n",
    "print(\"The electric hooks we are considering are: {0}\".format(electricHooksNoETD))\n",
    "print(\"The number of participants are {0}\".format(sht.TaskElecNoETD.dropna().count()))\n",
    "print()\n",
    "print(\"The average score on Task for the ETD is {0}\".format(sht.TaskETD.dropna().mean()))\n",
    "print(\"The average score on Task for the electric hooks is {0}\".format(sht.TaskElecNoETD.dropna().mean()))\n",
    "print()\n",
    "print(stats.ttest_ind(sht.TaskETD.dropna(), sht.TaskElecNoETD.dropna()))"
   ]
  },
  {
   "cell_type": "code",
   "execution_count": 17,
   "metadata": {
    "collapsed": false
   },
   "outputs": [
    {
     "data": {
      "image/png": "[encoded data removed]",
      "text/plain": [
       "<matplotlib.figure.Figure at 0x1ec621063c8>"
      ]
     },
     "metadata": {},
     "output_type": "display_data"
    }
   ],
   "source": [
    "plt.hist(sht.TaskETD.dropna(), alpha=0.6, color='b', label = \"Motion Control ETD\")\n",
    "plt.hist(sht.TaskElecNoETD.dropna(), alpha=0.6, color='r', label = \"Electric hooks Not ETD\")\n",
    "plt.title(\"Task Score of Electric hooks No ETD vs. Motion Control ETD\")\n",
    "plt.legend()\n",
    "plt.show()"
   ]
  },
  {
   "cell_type": "markdown",
   "metadata": {},
   "source": [
    "The distribution for the not ETD electric hooks looks somewhat normal, however I would hold out for more data before I make a call."
   ]
  },
  {
   "cell_type": "markdown",
   "metadata": {},
   "source": [
    "## Multi-articulating hands\n",
    "### vs. Single Grip hands"
   ]
  },
  {
   "cell_type": "code",
   "execution_count": 18,
   "metadata": {
    "collapsed": false
   },
   "outputs": [
    {
     "name": "stdout",
     "output_type": "stream",
     "text": [
      "The hands in the multi-articulating group are ['bebionic Hand', 'i-limb Hand', 'Michelangelo Hand']\n",
      "\n",
      "The hands in the single grip group are ['Motion Control (MC) Hand', 'Otto Bock Hand']\n",
      "\n",
      "The average score on Task for the multi-articulating is 3.0281362007168475\n",
      "The average score on Task for the single grip is 3.099134736676127\n",
      "\n",
      "Ttest_indResult(statistic=-2.2412490757044687, pvalue=0.02525828412486637)\n"
     ]
    }
   ],
   "source": [
    "print(\"The hands in the multi-articulating group are {0}\".format(electricHandMA))\n",
    "print()\n",
    "print(\"The hands in the single grip group are {0}\".format(electricHandSG))\n",
    "print()\n",
    "print(\"The average score on Task for the multi-articulating is {0}\".format(sht.TaskMA.dropna().mean()))\n",
    "print(\"The average score on Task for the single grip is {0}\".format(sht.TaskElecSG.dropna().mean()))\n",
    "print()\n",
    "print(stats.ttest_ind(sht.TaskMA.dropna(), sht.TaskElecSG.dropna()))"
   ]
  },
  {
   "cell_type": "markdown",
   "metadata": {},
   "source": [
    "The higher score on the single grip hands is significant.  We did not see this result on the normalized opus."
   ]
  },
  {
   "cell_type": "code",
   "execution_count": 38,
   "metadata": {
    "collapsed": false
   },
   "outputs": [
    {
     "data": {
      "image/png": "[encoded data removed]",
      "text/plain": [
       "<matplotlib.figure.Figure at 0x1ec627d1c88>"
      ]
     },
     "metadata": {},
     "output_type": "display_data"
    }
   ],
   "source": [
    "plt.hist(sht.TaskElecSG.dropna(), alpha=0.6, color='r', label = \"Electric Single Grip\")\n",
    "plt.hist(sht.TaskMA.dropna(), alpha=0.6, color='b', label = \"Multi-articulating hands\")\n",
    "plt.title(\"Normalized Task Score\")\n",
    "plt.legend()\n",
    "plt.show()"
   ]
  },
  {
   "cell_type": "markdown",
   "metadata": {},
   "source": [
    "### vs. Body Powered"
   ]
  },
  {
   "cell_type": "code",
   "execution_count": 20,
   "metadata": {
    "collapsed": false
   },
   "outputs": [
    {
     "name": "stdout",
     "output_type": "stream",
     "text": [
      "The hands in the multi-articulating group are ['bebionic Hand', 'i-limb Hand', 'Michelangelo Hand']\n",
      "\n",
      "The hands in the body powered group are ['TRS Hook', 'Hosmer Hook', 'Body-powered Hand']\n",
      "\n",
      "The average score on Task for the multi-articulating is 3.0281362007168475\n",
      "The average score on Task for body powered is 2.969659120478793\n",
      "\n",
      "Ttest_indResult(statistic=1.5934105785977839, pvalue=0.1117549718073446)\n"
     ]
    }
   ],
   "source": [
    "print(\"The hands in the multi-articulating group are {0}\".format(electricHandMA))\n",
    "print()\n",
    "print(\"The hands in the body powered group are {0}\".format(bodyPoweredHooks))\n",
    "print()\n",
    "print(\"The average score on Task for the multi-articulating is {0}\".format(sht.TaskMA.dropna().mean()))\n",
    "print(\"The average score on Task for body powered is {0}\".format(sht.TaskBPHook.dropna().mean()))\n",
    "print()\n",
    "print(stats.ttest_ind(sht.TaskMA.dropna(), sht.TaskBPHook.dropna()))"
   ]
  },
  {
   "cell_type": "markdown",
   "metadata": {},
   "source": [
    "The higher score on the normalized ask by the multi-articulating hands is significant."
   ]
  },
  {
   "cell_type": "code",
   "execution_count": 39,
   "metadata": {
    "collapsed": false
   },
   "outputs": [
    {
     "data": {
      "image/png": "[encoded data removed]",
      "text/plain": [
       "<matplotlib.figure.Figure at 0x1ec628cbac8>"
      ]
     },
     "metadata": {},
     "output_type": "display_data"
    }
   ],
   "source": [
    "plt.hist(sht.TaskMA.dropna(), alpha=0.6, color='b', label = \"Multi-articulating hands\")\n",
    "plt.hist(sht.TaskBPHook.dropna(), alpha=0.6, color='r', label = \"Body Powered\")\n",
    "plt.title(\"Normalized Task Score\")\n",
    "plt.legend()\n",
    "plt.show()"
   ]
  },
  {
   "cell_type": "markdown",
   "metadata": {
    "collapsed": true
   },
   "source": [
    "# Check t-test analysis\n",
    "The results from t-tests can sometimes lead to too many false positives, anova and Tukey's test accomadate for multiple comparisons.  So the below should be a validation of what was observed above.\n",
    "\n",
    "## ANOVA\n",
    "Use anova to make sure there is a difference in the means of at least one of the Task scores between the body powered, multi-articulating, single grip, and electric hooks"
   ]
  },
  {
   "cell_type": "code",
   "execution_count": 22,
   "metadata": {
    "collapsed": false
   },
   "outputs": [
    {
     "name": "stdout",
     "output_type": "stream",
     "text": [
      "The body powered hooks are ['TRS Hook', 'Hosmer Hook', 'Body-powered Hand']\n",
      "\n",
      "The multi-articulating hands are ['bebionic Hand', 'i-limb Hand', 'Michelangelo Hand']\n",
      "\n",
      "The single grip hands are ['Motion Control (MC) Hand', 'Otto Bock Hand']\n",
      "\n",
      "The electric hooks are ['Motion Control (MC) ETD', 'Otto Bock Axon Hook', 'Otto Bock Greifer']\n"
     ]
    }
   ],
   "source": [
    "print(\"The body powered hooks are {0}\".format(bodyPoweredHooks))\n",
    "print()\n",
    "print(\"The multi-articulating hands are {0}\".format(electricHandMA))\n",
    "print()\n",
    "print(\"The single grip hands are {0}\".format(electricHandSG))\n",
    "print()\n",
    "print(\"The electric hooks are {0}\".format(electricHooks))"
   ]
  },
  {
   "cell_type": "markdown",
   "metadata": {},
   "source": [
    "Now we'll run anova to check that there is a difference among the mean scores on Task of these 4 groups."
   ]
  },
  {
   "cell_type": "code",
   "execution_count": 23,
   "metadata": {
    "collapsed": false
   },
   "outputs": [
    {
     "data": {
      "text/plain": [
       "F_onewayResult(statistic=7.1306028233433931, pvalue=9.5281023784380089e-05)"
      ]
     },
     "execution_count": 23,
     "metadata": {},
     "output_type": "execute_result"
    }
   ],
   "source": [
    "stats.f_oneway(sht.TaskBPHook.dropna(), sht.TaskMA.dropna(), sht.TaskElecSG.dropna(), sht.TaskEHo.dropna())"
   ]
  },
  {
   "cell_type": "markdown",
   "metadata": {},
   "source": [
    "We have have signficance at 0.05."
   ]
  },
  {
   "cell_type": "markdown",
   "metadata": {},
   "source": [
    "## Tukey\n",
    "The below will display a graph and a table the table will tell us the mean difference, confidence intervals and if we can reject the null hypothesis at a 95% confidence level"
   ]
  },
  {
   "cell_type": "code",
   "execution_count": 24,
   "metadata": {
    "collapsed": false
   },
   "outputs": [],
   "source": [
    "TaskDf = pd.concat([sht['PrimaryTerminalDevice'], sht['normalizedTask']], axis=1, keys=['deviceCategory','normalizedTask'])\n",
    "TaskDf[\"deviceCategory\"] = TaskDf[\"deviceCategory\"].replace([bodyPoweredHooks],\"Body Powered\")\n",
    "TaskDf[\"deviceCategory\"] = TaskDf[\"deviceCategory\"].replace([electricHandMA], \"Multi-articulating\")\n",
    "TaskDf[\"deviceCategory\"] = TaskDf[\"deviceCategory\"].replace([electricHandSG], \"Single Grip\")\n",
    "TaskDf[\"deviceCategory\"] = TaskDf[\"deviceCategory\"].replace([electricHooks], \"Electric Hooks\")\n",
    "TaskDf[\"deviceCategory\"] = TaskDf[\"deviceCategory\"].replace('Otto.*', \"Electric Hooks\", regex=True)\n",
    "TaskDf[\"deviceCategory\"] = TaskDf[\"deviceCategory\"].replace('Other.*', np.nan, regex=True)\n",
    "TaskDf[\"deviceCategory\"] = TaskDf[\"deviceCategory\"].replace('Pass.*', np.nan, regex=True)\n",
    "#groups = TaskDf.groupby(TaskDf['deviceCategory']).groups\n",
    "#TaskDf['deviceCategory'] = str(TaskDf['deviceCategory'])\n",
    "TaskDf = TaskDf.dropna()\n",
    "df = TaskDf.as_matrix()\n",
    "dC = df[:,0].astype(str)\n",
    "oS = df[:,1].astype(float)"
   ]
  },
  {
   "cell_type": "code",
   "execution_count": 25,
   "metadata": {
    "collapsed": false
   },
   "outputs": [
    {
     "data": {
      "text/html": [
       "<table class=\"simpletable\">\n",
       "<caption>Multiple Comparison of Means - Tukey HSD,FWER=0.05</caption>\n",
       "<tr>\n",
       "        <th>group1</th>             <th>group2</th>       <th>meandiff</th>  <th>lower</th>   <th>upper</th> <th>reject</th>\n",
       "</tr>\n",
       "<tr>\n",
       "     <td>Body Powered</td>      <td>Electric Hooks</td>    <td>-0.0167</td> <td>-0.1451</td> <td>0.1116</td>  <td>False</td>\n",
       "</tr>\n",
       "<tr>\n",
       "     <td>Body Powered</td>    <td>Multi-articulating</td>  <td>0.0585</td>  <td>-0.0475</td> <td>0.1645</td>  <td>False</td>\n",
       "</tr>\n",
       "<tr>\n",
       "     <td>Body Powered</td>        <td>Single Grip</td>     <td>0.1295</td>  <td>0.0355</td>  <td>0.2235</td>  <td>True</td> \n",
       "</tr>\n",
       "<tr>\n",
       "    <td>Electric Hooks</td>   <td>Multi-articulating</td>  <td>0.0752</td>  <td>-0.0437</td> <td>0.1942</td>  <td>False</td>\n",
       "</tr>\n",
       "<tr>\n",
       "    <td>Electric Hooks</td>       <td>Single Grip</td>     <td>0.1462</td>  <td>0.0378</td>  <td>0.2546</td>  <td>True</td> \n",
       "</tr>\n",
       "<tr>\n",
       "  <td>Multi-articulating</td>     <td>Single Grip</td>      <td>0.071</td>  <td>-0.0096</td> <td>0.1516</td>  <td>False</td>\n",
       "</tr>\n",
       "</table>"
      ],
      "text/plain": [
       "<class 'statsmodels.iolib.table.SimpleTable'>"
      ]
     },
     "execution_count": 25,
     "metadata": {},
     "output_type": "execute_result"
    },
    {
     "data": {
      "image/png": "[encoded data removed]",
      "text/plain": [
       "<matplotlib.figure.Figure at 0x1ec61fece10>"
      ]
     },
     "metadata": {},
     "output_type": "display_data"
    }
   ],
   "source": [
    "from ipykernel import kernelapp as app\n",
    "from statsmodels.stats.multicomp import pairwise_tukeyhsd\n",
    "tukey = pairwise_tukeyhsd(endog = oS,\n",
    "                         groups = dC,\n",
    "                         alpha = 0.05)\n",
    "tukey.plot_simultaneous()    # Plot group confidence intervals\n",
    "plt.vlines(x=49.57,ymin=-0.5,ymax=4.5, color=\"red\")\n",
    "\n",
    "tukey.summary()           "
   ]
  },
  {
   "cell_type": "markdown",
   "metadata": {},
   "source": [
    "We have slightly different results than what we saw on the T-tests.  We can no longer state that hands outperform hooks.  The Tukey test does confirm what we saw on the T-test regarding Single grip.  Single Grip hands did outperform Electric Hooks and Body Powered, however they did not outperform Multi-articulating, which the T-test stated.\n",
    "\n",
    "Also of note, is that the performance on these 8 is more closely grouped than on opus, additionally the scores are lower.  I investigate this in another document."
   ]
  },
  {
   "cell_type": "markdown",
   "metadata": {},
   "source": [
    "## Significance among brands\n",
    "I'm curious if we'll get something  by looking at the specific brands"
   ]
  },
  {
   "cell_type": "code",
   "execution_count": 26,
   "metadata": {
    "collapsed": false
   },
   "outputs": [
    {
     "data": {
      "text/html": [
       "<table class=\"simpletable\">\n",
       "<caption>Multiple Comparison of Means - Tukey HSD,FWER=0.05</caption>\n",
       "<tr>\n",
       "           <th>group1</th>                   <th>group2</th>          <th>meandiff</th>  <th>lower</th>   <th>upper</th>  <th>reject</th>\n",
       "</tr>\n",
       "<tr>\n",
       "      <td>Body-powered Hand</td>           <td>Hosmer Hook</td>        <td>0.4763</td>  <td>0.2364</td>  <td>0.7163</td>   <td>True</td> \n",
       "</tr>\n",
       "<tr>\n",
       "      <td>Body-powered Hand</td>        <td>Michelangelo Hand</td>     <td>0.1575</td>  <td>-0.0201</td>  <td>0.335</td>   <td>False</td>\n",
       "</tr>\n",
       "<tr>\n",
       "      <td>Body-powered Hand</td>     <td>Motion Control (MC) ETD</td>  <td>0.0266</td>  <td>-0.165</td>  <td>0.2181</td>   <td>False</td>\n",
       "</tr>\n",
       "<tr>\n",
       "      <td>Body-powered Hand</td>    <td>Motion Control (MC) Hand</td>  <td>0.2341</td>  <td>0.0979</td>  <td>0.3703</td>   <td>True</td> \n",
       "</tr>\n",
       "<tr>\n",
       "      <td>Body-powered Hand</td>     <td>Other (please specify)</td>    <td>0.045</td>  <td>-0.9488</td> <td>1.0387</td>   <td>False</td>\n",
       "</tr>\n",
       "<tr>\n",
       "      <td>Body-powered Hand</td>       <td>Otto Bock Axon Hook</td>    <td>0.3017</td>  <td>0.0077</td>  <td>0.5956</td>   <td>True</td> \n",
       "</tr>\n",
       "<tr>\n",
       "      <td>Body-powered Hand</td>         <td>Otto Bock Hand</td>       <td>0.2758</td>  <td>0.1093</td>  <td>0.4424</td>   <td>True</td> \n",
       "</tr>\n",
       "<tr>\n",
       "      <td>Body-powered Hand</td>        <td>Otto BockGreifer</td>      <td>0.1479</td>  <td>-0.2437</td> <td>0.5395</td>   <td>False</td>\n",
       "</tr>\n",
       "<tr>\n",
       "      <td>Body-powered Hand</td>          <td>Passive Hand</td>        <td>0.2517</td>  <td>-0.117</td>  <td>0.6205</td>   <td>False</td>\n",
       "</tr>\n",
       "<tr>\n",
       "      <td>Body-powered Hand</td>            <td>TRS Hook</td>           <td>-0.23</td>  <td>-1.2238</td> <td>0.7637</td>   <td>False</td>\n",
       "</tr>\n",
       "<tr>\n",
       "      <td>Body-powered Hand</td>          <td>bebionic Hand</td>       <td>0.0582</td>  <td>-0.123</td>  <td>0.2395</td>   <td>False</td>\n",
       "</tr>\n",
       "<tr>\n",
       "      <td>Body-powered Hand</td>           <td>i-limb Hand</td>        <td>0.3998</td>  <td>0.1848</td>  <td>0.6148</td>   <td>True</td> \n",
       "</tr>\n",
       "<tr>\n",
       "         <td>Hosmer Hook</td>           <td>Michelangelo Hand</td>     <td>-0.3189</td> <td>-0.5648</td> <td>-0.073</td>   <td>True</td> \n",
       "</tr>\n",
       "<tr>\n",
       "         <td>Hosmer Hook</td>        <td>Motion Control (MC) ETD</td>  <td>-0.4498</td> <td>-0.7059</td> <td>-0.1936</td>  <td>True</td> \n",
       "</tr>\n",
       "<tr>\n",
       "         <td>Hosmer Hook</td>       <td>Motion Control (MC) Hand</td>  <td>-0.2423</td> <td>-0.4602</td> <td>-0.0243</td>  <td>True</td> \n",
       "</tr>\n",
       "<tr>\n",
       "         <td>Hosmer Hook</td>        <td>Other (please specify)</td>   <td>-0.4314</td> <td>-1.4396</td> <td>0.5768</td>   <td>False</td>\n",
       "</tr>\n",
       "<tr>\n",
       "         <td>Hosmer Hook</td>          <td>Otto Bock Axon Hook</td>    <td>-0.1747</td> <td>-0.5143</td>  <td>0.165</td>   <td>False</td>\n",
       "</tr>\n",
       "<tr>\n",
       "         <td>Hosmer Hook</td>            <td>Otto Bock Hand</td>       <td>-0.2005</td> <td>-0.4386</td> <td>0.0376</td>   <td>False</td>\n",
       "</tr>\n",
       "<tr>\n",
       "         <td>Hosmer Hook</td>           <td>Otto BockGreifer</td>      <td>-0.3284</td> <td>-0.7554</td> <td>0.0986</td>   <td>False</td>\n",
       "</tr>\n",
       "<tr>\n",
       "         <td>Hosmer Hook</td>             <td>Passive Hand</td>        <td>-0.2246</td> <td>-0.6307</td> <td>0.1815</td>   <td>False</td>\n",
       "</tr>\n",
       "<tr>\n",
       "         <td>Hosmer Hook</td>               <td>TRS Hook</td>          <td>-0.7064</td> <td>-1.7146</td> <td>0.3018</td>   <td>False</td>\n",
       "</tr>\n",
       "<tr>\n",
       "         <td>Hosmer Hook</td>             <td>bebionic Hand</td>       <td>-0.4181</td> <td>-0.6667</td> <td>-0.1695</td>  <td>True</td> \n",
       "</tr>\n",
       "<tr>\n",
       "         <td>Hosmer Hook</td>              <td>i-limb Hand</td>        <td>-0.0765</td> <td>-0.3507</td> <td>0.1976</td>   <td>False</td>\n",
       "</tr>\n",
       "<tr>\n",
       "      <td>Michelangelo Hand</td>     <td>Motion Control (MC) ETD</td>  <td>-0.1309</td> <td>-0.3299</td> <td>0.0681</td>   <td>False</td>\n",
       "</tr>\n",
       "<tr>\n",
       "      <td>Michelangelo Hand</td>    <td>Motion Control (MC) Hand</td>  <td>0.0766</td>  <td>-0.0699</td> <td>0.2231</td>   <td>False</td>\n",
       "</tr>\n",
       "<tr>\n",
       "      <td>Michelangelo Hand</td>     <td>Other (please specify)</td>   <td>-0.1125</td> <td>-1.1077</td> <td>0.8827</td>   <td>False</td>\n",
       "</tr>\n",
       "<tr>\n",
       "      <td>Michelangelo Hand</td>       <td>Otto Bock Axon Hook</td>    <td>0.1442</td>  <td>-0.1547</td> <td>0.4431</td>   <td>False</td>\n",
       "</tr>\n",
       "<tr>\n",
       "      <td>Michelangelo Hand</td>         <td>Otto Bock Hand</td>       <td>0.1184</td>  <td>-0.0567</td> <td>0.2934</td>   <td>False</td>\n",
       "</tr>\n",
       "<tr>\n",
       "      <td>Michelangelo Hand</td>        <td>Otto BockGreifer</td>      <td>-0.0095</td> <td>-0.4048</td> <td>0.3858</td>   <td>False</td>\n",
       "</tr>\n",
       "<tr>\n",
       "      <td>Michelangelo Hand</td>          <td>Passive Hand</td>        <td>0.0943</td>  <td>-0.2784</td> <td>0.4669</td>   <td>False</td>\n",
       "</tr>\n",
       "<tr>\n",
       "      <td>Michelangelo Hand</td>            <td>TRS Hook</td>          <td>-0.3875</td> <td>-1.3827</td> <td>0.6077</td>   <td>False</td>\n",
       "</tr>\n",
       "<tr>\n",
       "      <td>Michelangelo Hand</td>          <td>bebionic Hand</td>       <td>-0.0992</td> <td>-0.2884</td> <td>0.0899</td>   <td>False</td>\n",
       "</tr>\n",
       "<tr>\n",
       "      <td>Michelangelo Hand</td>           <td>i-limb Hand</td>        <td>0.2424</td>  <td>0.0207</td>   <td>0.464</td>   <td>True</td> \n",
       "</tr>\n",
       "<tr>\n",
       "   <td>Motion Control (MC) ETD</td> <td>Motion Control (MC) Hand</td>  <td>0.2075</td>  <td>0.0444</td>  <td>0.3706</td>   <td>True</td> \n",
       "</tr>\n",
       "<tr>\n",
       "   <td>Motion Control (MC) ETD</td>  <td>Other (please specify)</td>   <td>0.0184</td>  <td>-0.9794</td> <td>1.0162</td>   <td>False</td>\n",
       "</tr>\n",
       "<tr>\n",
       "   <td>Motion Control (MC) ETD</td>    <td>Otto Bock Axon Hook</td>    <td>0.2751</td>  <td>-0.0323</td> <td>0.5824</td>   <td>False</td>\n",
       "</tr>\n",
       "<tr>\n",
       "   <td>Motion Control (MC) ETD</td>      <td>Otto Bock Hand</td>       <td>0.2492</td>   <td>0.06</td>   <td>0.4384</td>   <td>True</td> \n",
       "</tr>\n",
       "<tr>\n",
       "   <td>Motion Control (MC) ETD</td>     <td>Otto BockGreifer</td>      <td>0.1214</td>  <td>-0.2804</td> <td>0.5231</td>   <td>False</td>\n",
       "</tr>\n",
       "<tr>\n",
       "   <td>Motion Control (MC) ETD</td>       <td>Passive Hand</td>        <td>0.2251</td>  <td>-0.1544</td> <td>0.6047</td>   <td>False</td>\n",
       "</tr>\n",
       "<tr>\n",
       "   <td>Motion Control (MC) ETD</td>         <td>TRS Hook</td>          <td>-0.2566</td> <td>-1.2544</td> <td>0.7412</td>   <td>False</td>\n",
       "</tr>\n",
       "<tr>\n",
       "   <td>Motion Control (MC) ETD</td>       <td>bebionic Hand</td>       <td>0.0316</td>  <td>-0.1706</td> <td>0.2339</td>   <td>False</td>\n",
       "</tr>\n",
       "<tr>\n",
       "   <td>Motion Control (MC) ETD</td>        <td>i-limb Hand</td>        <td>0.3732</td>  <td>0.1403</td>  <td>0.6062</td>   <td>True</td> \n",
       "</tr>\n",
       "<tr>\n",
       "  <td>Motion Control (MC) Hand</td>  <td>Other (please specify)</td>   <td>-0.1891</td> <td>-1.1778</td> <td>0.7996</td>   <td>False</td>\n",
       "</tr>\n",
       "<tr>\n",
       "  <td>Motion Control (MC) Hand</td>    <td>Otto Bock Axon Hook</td>    <td>0.0676</td>  <td>-0.2087</td> <td>0.3439</td>   <td>False</td>\n",
       "</tr>\n",
       "<tr>\n",
       "  <td>Motion Control (MC) Hand</td>      <td>Otto Bock Hand</td>       <td>0.0418</td>  <td>-0.0912</td> <td>0.1747</td>   <td>False</td>\n",
       "</tr>\n",
       "<tr>\n",
       "  <td>Motion Control (MC) Hand</td>     <td>Otto BockGreifer</td>      <td>-0.0861</td> <td>-0.4647</td> <td>0.2924</td>   <td>False</td>\n",
       "</tr>\n",
       "<tr>\n",
       "  <td>Motion Control (MC) Hand</td>       <td>Passive Hand</td>        <td>0.0177</td>  <td>-0.3372</td> <td>0.3725</td>   <td>False</td>\n",
       "</tr>\n",
       "<tr>\n",
       "  <td>Motion Control (MC) Hand</td>         <td>TRS Hook</td>          <td>-0.4641</td> <td>-1.4528</td> <td>0.5246</td>   <td>False</td>\n",
       "</tr>\n",
       "<tr>\n",
       "  <td>Motion Control (MC) Hand</td>       <td>bebionic Hand</td>       <td>-0.1759</td> <td>-0.3268</td> <td>-0.0249</td>  <td>True</td> \n",
       "</tr>\n",
       "<tr>\n",
       "  <td>Motion Control (MC) Hand</td>        <td>i-limb Hand</td>        <td>0.1657</td>  <td>-0.0244</td> <td>0.3559</td>   <td>False</td>\n",
       "</tr>\n",
       "<tr>\n",
       "   <td>Other (please specify)</td>     <td>Otto Bock Axon Hook</td>    <td>0.2567</td>  <td>-0.7657</td> <td>1.2791</td>   <td>False</td>\n",
       "</tr>\n",
       "<tr>\n",
       "   <td>Other (please specify)</td>       <td>Otto Bock Hand</td>       <td>0.2309</td>  <td>-0.7624</td> <td>1.2242</td>   <td>False</td>\n",
       "</tr>\n",
       "<tr>\n",
       "   <td>Other (please specify)</td>      <td>Otto BockGreifer</td>       <td>0.103</td>  <td>-0.9517</td> <td>1.1576</td>   <td>False</td>\n",
       "</tr>\n",
       "<tr>\n",
       "   <td>Other (please specify)</td>        <td>Passive Hand</td>        <td>0.2068</td>  <td>-0.8396</td> <td>1.2531</td>   <td>False</td>\n",
       "</tr>\n",
       "<tr>\n",
       "   <td>Other (please specify)</td>          <td>TRS Hook</td>          <td>-0.275</td>  <td>-1.6702</td> <td>1.1202</td>   <td>False</td>\n",
       "</tr>\n",
       "<tr>\n",
       "   <td>Other (please specify)</td>        <td>bebionic Hand</td>       <td>0.0133</td>  <td>-0.9826</td> <td>1.0091</td>   <td>False</td>\n",
       "</tr>\n",
       "<tr>\n",
       "   <td>Other (please specify)</td>         <td>i-limb Hand</td>        <td>0.3549</td>  <td>-0.6477</td> <td>1.3574</td>   <td>False</td>\n",
       "</tr>\n",
       "<tr>\n",
       "     <td>Otto Bock Axon Hook</td>        <td>Otto Bock Hand</td>       <td>-0.0258</td> <td>-0.3183</td> <td>0.2666</td>   <td>False</td>\n",
       "</tr>\n",
       "<tr>\n",
       "     <td>Otto Bock Axon Hook</td>       <td>Otto BockGreifer</td>      <td>-0.1537</td> <td>-0.6132</td> <td>0.3058</td>   <td>False</td>\n",
       "</tr>\n",
       "<tr>\n",
       "     <td>Otto Bock Axon Hook</td>         <td>Passive Hand</td>        <td>-0.0499</td> <td>-0.4901</td> <td>0.3902</td>   <td>False</td>\n",
       "</tr>\n",
       "<tr>\n",
       "     <td>Otto Bock Axon Hook</td>           <td>TRS Hook</td>          <td>-0.5317</td> <td>-1.5541</td> <td>0.4907</td>   <td>False</td>\n",
       "</tr>\n",
       "<tr>\n",
       "     <td>Otto Bock Axon Hook</td>         <td>bebionic Hand</td>       <td>-0.2434</td> <td>-0.5445</td> <td>0.0576</td>   <td>False</td>\n",
       "</tr>\n",
       "<tr>\n",
       "     <td>Otto Bock Axon Hook</td>          <td>i-limb Hand</td>        <td>0.0982</td>  <td>-0.2243</td> <td>0.4206</td>   <td>False</td>\n",
       "</tr>\n",
       "<tr>\n",
       "       <td>Otto Bock Hand</td>          <td>Otto BockGreifer</td>      <td>-0.1279</td> <td>-0.5183</td> <td>0.2626</td>   <td>False</td>\n",
       "</tr>\n",
       "<tr>\n",
       "       <td>Otto Bock Hand</td>            <td>Passive Hand</td>        <td>-0.0241</td> <td>-0.3916</td> <td>0.3434</td>   <td>False</td>\n",
       "</tr>\n",
       "<tr>\n",
       "       <td>Otto Bock Hand</td>              <td>TRS Hook</td>          <td>-0.5059</td> <td>-1.4992</td> <td>0.4874</td>   <td>False</td>\n",
       "</tr>\n",
       "<tr>\n",
       "       <td>Otto Bock Hand</td>            <td>bebionic Hand</td>       <td>-0.2176</td> <td>-0.3964</td> <td>-0.0388</td>  <td>True</td> \n",
       "</tr>\n",
       "<tr>\n",
       "       <td>Otto Bock Hand</td>             <td>i-limb Hand</td>         <td>0.124</td>  <td>-0.0889</td> <td>0.3369</td>   <td>False</td>\n",
       "</tr>\n",
       "<tr>\n",
       "      <td>Otto BockGreifer</td>           <td>Passive Hand</td>        <td>0.1038</td>  <td>-0.4068</td> <td>0.6144</td>   <td>False</td>\n",
       "</tr>\n",
       "<tr>\n",
       "      <td>Otto BockGreifer</td>             <td>TRS Hook</td>          <td>-0.378</td>  <td>-1.4326</td> <td>0.6767</td>   <td>False</td>\n",
       "</tr>\n",
       "<tr>\n",
       "      <td>Otto BockGreifer</td>           <td>bebionic Hand</td>       <td>-0.0897</td> <td>-0.4867</td> <td>0.3072</td>   <td>False</td>\n",
       "</tr>\n",
       "<tr>\n",
       "      <td>Otto BockGreifer</td>            <td>i-limb Hand</td>        <td>0.2519</td>  <td>-0.1616</td> <td>0.6653</td>   <td>False</td>\n",
       "</tr>\n",
       "<tr>\n",
       "        <td>Passive Hand</td>               <td>TRS Hook</td>          <td>-0.4818</td> <td>-1.5281</td> <td>0.5646</td>   <td>False</td>\n",
       "</tr>\n",
       "<tr>\n",
       "        <td>Passive Hand</td>             <td>bebionic Hand</td>       <td>-0.1935</td> <td>-0.5679</td> <td>0.1809</td>   <td>False</td>\n",
       "</tr>\n",
       "<tr>\n",
       "        <td>Passive Hand</td>              <td>i-limb Hand</td>        <td>0.1481</td>  <td>-0.2438</td>  <td>0.54</td>    <td>False</td>\n",
       "</tr>\n",
       "<tr>\n",
       "          <td>TRS Hook</td>               <td>bebionic Hand</td>       <td>0.2883</td>  <td>-0.7076</td> <td>1.2841</td>   <td>False</td>\n",
       "</tr>\n",
       "<tr>\n",
       "          <td>TRS Hook</td>                <td>i-limb Hand</td>        <td>0.6299</td>  <td>-0.3727</td> <td>1.6324</td>   <td>False</td>\n",
       "</tr>\n",
       "<tr>\n",
       "        <td>bebionic Hand</td>             <td>i-limb Hand</td>        <td>0.3416</td>   <td>0.117</td>  <td>0.5662</td>   <td>True</td> \n",
       "</tr>\n",
       "</table>"
      ],
      "text/plain": [
       "<class 'statsmodels.iolib.table.SimpleTable'>"
      ]
     },
     "execution_count": 26,
     "metadata": {},
     "output_type": "execute_result"
    },
    {
     "data": {
      "image/png": "[encoded data removed]",
      "text/plain": [
       "<matplotlib.figure.Figure at 0x1ec628c24a8>"
      ]
     },
     "metadata": {},
     "output_type": "display_data"
    }
   ],
   "source": [
    "TaskDf = pd.concat([sht['PrimaryTerminalDevice'], sht['normalizedTask']], axis=1, keys=['deviceCategory','normalizedTask'])\n",
    "TaskDf = TaskDf.dropna()\n",
    "df = TaskDf.as_matrix()\n",
    "dC = df[:,0].astype(str)\n",
    "oS = df[:,1].astype(float)\n",
    "tukey = pairwise_tukeyhsd(endog = oS,\n",
    "                         groups = dC,\n",
    "                         alpha = 0.05)\n",
    "tukey.plot_simultaneous()    # Plot group confidence intervals\n",
    "tukey.summary() "
   ]
  },
  {
   "cell_type": "markdown",
   "metadata": {},
   "source": [
    "The TRS Hook and \"other\" are mucking up the scale, let's remove those"
   ]
  },
  {
   "cell_type": "code",
   "execution_count": 27,
   "metadata": {
    "collapsed": false
   },
   "outputs": [
    {
     "data": {
      "text/html": [
       "<table class=\"simpletable\">\n",
       "<caption>Multiple Comparison of Means - Tukey HSD,FWER=0.05</caption>\n",
       "<tr>\n",
       "           <th>group1</th>                   <th>group2</th>          <th>meandiff</th>  <th>lower</th>   <th>upper</th>  <th>reject</th>\n",
       "</tr>\n",
       "<tr>\n",
       "      <td>Body-powered Hand</td>           <td>Hosmer Hook</td>        <td>0.4763</td>  <td>0.2431</td>  <td>0.7096</td>   <td>True</td> \n",
       "</tr>\n",
       "<tr>\n",
       "      <td>Body-powered Hand</td>        <td>Michelangelo Hand</td>     <td>0.1575</td>  <td>-0.0152</td> <td>0.3301</td>   <td>False</td>\n",
       "</tr>\n",
       "<tr>\n",
       "      <td>Body-powered Hand</td>     <td>Motion Control (MC) ETD</td>  <td>0.0266</td>  <td>-0.1596</td> <td>0.2128</td>   <td>False</td>\n",
       "</tr>\n",
       "<tr>\n",
       "      <td>Body-powered Hand</td>    <td>Motion Control (MC) Hand</td>  <td>0.2341</td>  <td>0.1016</td>  <td>0.3665</td>   <td>True</td> \n",
       "</tr>\n",
       "<tr>\n",
       "      <td>Body-powered Hand</td>       <td>Otto Bock Axon Hook</td>    <td>0.3017</td>  <td>0.0159</td>  <td>0.5874</td>   <td>True</td> \n",
       "</tr>\n",
       "<tr>\n",
       "      <td>Body-powered Hand</td>         <td>Otto Bock Hand</td>       <td>0.2758</td>  <td>0.1139</td>  <td>0.4377</td>   <td>True</td> \n",
       "</tr>\n",
       "<tr>\n",
       "      <td>Body-powered Hand</td>        <td>Otto BockGreifer</td>      <td>0.1479</td>  <td>-0.2328</td> <td>0.5286</td>   <td>False</td>\n",
       "</tr>\n",
       "<tr>\n",
       "      <td>Body-powered Hand</td>          <td>Passive Hand</td>        <td>0.2517</td>  <td>-0.1068</td> <td>0.6102</td>   <td>False</td>\n",
       "</tr>\n",
       "<tr>\n",
       "      <td>Body-powered Hand</td>          <td>bebionic Hand</td>       <td>0.0582</td>  <td>-0.118</td>  <td>0.2344</td>   <td>False</td>\n",
       "</tr>\n",
       "<tr>\n",
       "      <td>Body-powered Hand</td>           <td>i-limb Hand</td>        <td>0.3998</td>  <td>0.1908</td>  <td>0.6088</td>   <td>True</td> \n",
       "</tr>\n",
       "<tr>\n",
       "         <td>Hosmer Hook</td>           <td>Michelangelo Hand</td>     <td>-0.3189</td> <td>-0.558</td>  <td>-0.0798</td>  <td>True</td> \n",
       "</tr>\n",
       "<tr>\n",
       "         <td>Hosmer Hook</td>        <td>Motion Control (MC) ETD</td>  <td>-0.4498</td> <td>-0.6988</td> <td>-0.2007</td>  <td>True</td> \n",
       "</tr>\n",
       "<tr>\n",
       "         <td>Hosmer Hook</td>       <td>Motion Control (MC) Hand</td>  <td>-0.2423</td> <td>-0.4541</td> <td>-0.0304</td>  <td>True</td> \n",
       "</tr>\n",
       "<tr>\n",
       "         <td>Hosmer Hook</td>          <td>Otto Bock Axon Hook</td>    <td>-0.1747</td> <td>-0.5049</td> <td>0.1555</td>   <td>False</td>\n",
       "</tr>\n",
       "<tr>\n",
       "         <td>Hosmer Hook</td>            <td>Otto Bock Hand</td>       <td>-0.2005</td> <td>-0.432</td>  <td>0.0309</td>   <td>False</td>\n",
       "</tr>\n",
       "<tr>\n",
       "         <td>Hosmer Hook</td>           <td>Otto BockGreifer</td>      <td>-0.3284</td> <td>-0.7435</td> <td>0.0867</td>   <td>False</td>\n",
       "</tr>\n",
       "<tr>\n",
       "         <td>Hosmer Hook</td>             <td>Passive Hand</td>        <td>-0.2246</td> <td>-0.6194</td> <td>0.1702</td>   <td>False</td>\n",
       "</tr>\n",
       "<tr>\n",
       "         <td>Hosmer Hook</td>             <td>bebionic Hand</td>       <td>-0.4181</td> <td>-0.6598</td> <td>-0.1765</td>  <td>True</td> \n",
       "</tr>\n",
       "<tr>\n",
       "         <td>Hosmer Hook</td>              <td>i-limb Hand</td>        <td>-0.0765</td> <td>-0.3431</td>  <td>0.19</td>    <td>False</td>\n",
       "</tr>\n",
       "<tr>\n",
       "      <td>Michelangelo Hand</td>     <td>Motion Control (MC) ETD</td>  <td>-0.1309</td> <td>-0.3243</td> <td>0.0626</td>   <td>False</td>\n",
       "</tr>\n",
       "<tr>\n",
       "      <td>Michelangelo Hand</td>    <td>Motion Control (MC) Hand</td>  <td>0.0766</td>  <td>-0.0658</td> <td>0.2191</td>   <td>False</td>\n",
       "</tr>\n",
       "<tr>\n",
       "      <td>Michelangelo Hand</td>       <td>Otto Bock Axon Hook</td>    <td>0.1442</td>  <td>-0.1463</td> <td>0.4348</td>   <td>False</td>\n",
       "</tr>\n",
       "<tr>\n",
       "      <td>Michelangelo Hand</td>         <td>Otto Bock Hand</td>       <td>0.1184</td>  <td>-0.0518</td> <td>0.2886</td>   <td>False</td>\n",
       "</tr>\n",
       "<tr>\n",
       "      <td>Michelangelo Hand</td>        <td>Otto BockGreifer</td>      <td>-0.0095</td> <td>-0.3938</td> <td>0.3748</td>   <td>False</td>\n",
       "</tr>\n",
       "<tr>\n",
       "      <td>Michelangelo Hand</td>          <td>Passive Hand</td>        <td>0.0943</td>  <td>-0.268</td>  <td>0.4566</td>   <td>False</td>\n",
       "</tr>\n",
       "<tr>\n",
       "      <td>Michelangelo Hand</td>          <td>bebionic Hand</td>       <td>-0.0992</td> <td>-0.2831</td> <td>0.0846</td>   <td>False</td>\n",
       "</tr>\n",
       "<tr>\n",
       "      <td>Michelangelo Hand</td>           <td>i-limb Hand</td>        <td>0.2424</td>  <td>0.0269</td>  <td>0.4579</td>   <td>True</td> \n",
       "</tr>\n",
       "<tr>\n",
       "   <td>Motion Control (MC) ETD</td> <td>Motion Control (MC) Hand</td>  <td>0.2075</td>  <td>0.0489</td>  <td>0.3661</td>   <td>True</td> \n",
       "</tr>\n",
       "<tr>\n",
       "   <td>Motion Control (MC) ETD</td>    <td>Otto Bock Axon Hook</td>    <td>0.2751</td>  <td>-0.0237</td> <td>0.5739</td>   <td>False</td>\n",
       "</tr>\n",
       "<tr>\n",
       "   <td>Motion Control (MC) ETD</td>      <td>Otto Bock Hand</td>       <td>0.2492</td>  <td>0.0653</td>  <td>0.4332</td>   <td>True</td> \n",
       "</tr>\n",
       "<tr>\n",
       "   <td>Motion Control (MC) ETD</td>     <td>Otto BockGreifer</td>      <td>0.1214</td>  <td>-0.2692</td> <td>0.5119</td>   <td>False</td>\n",
       "</tr>\n",
       "<tr>\n",
       "   <td>Motion Control (MC) ETD</td>       <td>Passive Hand</td>        <td>0.2251</td>  <td>-0.1438</td> <td>0.5941</td>   <td>False</td>\n",
       "</tr>\n",
       "<tr>\n",
       "   <td>Motion Control (MC) ETD</td>       <td>bebionic Hand</td>       <td>0.0316</td>  <td>-0.165</td>  <td>0.2283</td>   <td>False</td>\n",
       "</tr>\n",
       "<tr>\n",
       "   <td>Motion Control (MC) ETD</td>        <td>i-limb Hand</td>        <td>0.3732</td>  <td>0.1467</td>  <td>0.5997</td>   <td>True</td> \n",
       "</tr>\n",
       "<tr>\n",
       "  <td>Motion Control (MC) Hand</td>    <td>Otto Bock Axon Hook</td>    <td>0.0676</td>  <td>-0.201</td>  <td>0.3362</td>   <td>False</td>\n",
       "</tr>\n",
       "<tr>\n",
       "  <td>Motion Control (MC) Hand</td>      <td>Otto Bock Hand</td>       <td>0.0418</td>  <td>-0.0875</td>  <td>0.171</td>   <td>False</td>\n",
       "</tr>\n",
       "<tr>\n",
       "  <td>Motion Control (MC) Hand</td>     <td>Otto BockGreifer</td>      <td>-0.0861</td> <td>-0.4541</td> <td>0.2819</td>   <td>False</td>\n",
       "</tr>\n",
       "<tr>\n",
       "  <td>Motion Control (MC) Hand</td>       <td>Passive Hand</td>        <td>0.0177</td>  <td>-0.3273</td> <td>0.3626</td>   <td>False</td>\n",
       "</tr>\n",
       "<tr>\n",
       "  <td>Motion Control (MC) Hand</td>       <td>bebionic Hand</td>       <td>-0.1759</td> <td>-0.3226</td> <td>-0.0291</td>  <td>True</td> \n",
       "</tr>\n",
       "<tr>\n",
       "  <td>Motion Control (MC) Hand</td>        <td>i-limb Hand</td>        <td>0.1657</td>  <td>-0.0191</td> <td>0.3506</td>   <td>False</td>\n",
       "</tr>\n",
       "<tr>\n",
       "     <td>Otto Bock Axon Hook</td>        <td>Otto Bock Hand</td>       <td>-0.0258</td> <td>-0.3101</td> <td>0.2585</td>   <td>False</td>\n",
       "</tr>\n",
       "<tr>\n",
       "     <td>Otto Bock Axon Hook</td>       <td>Otto BockGreifer</td>      <td>-0.1537</td> <td>-0.6004</td>  <td>0.293</td>   <td>False</td>\n",
       "</tr>\n",
       "<tr>\n",
       "     <td>Otto Bock Axon Hook</td>         <td>Passive Hand</td>        <td>-0.0499</td> <td>-0.4779</td>  <td>0.378</td>   <td>False</td>\n",
       "</tr>\n",
       "<tr>\n",
       "     <td>Otto Bock Axon Hook</td>         <td>bebionic Hand</td>       <td>-0.2434</td> <td>-0.5361</td> <td>0.0492</td>   <td>False</td>\n",
       "</tr>\n",
       "<tr>\n",
       "     <td>Otto Bock Axon Hook</td>          <td>i-limb Hand</td>        <td>0.0982</td>  <td>-0.2154</td> <td>0.4117</td>   <td>False</td>\n",
       "</tr>\n",
       "<tr>\n",
       "       <td>Otto Bock Hand</td>          <td>Otto BockGreifer</td>      <td>-0.1279</td> <td>-0.5075</td> <td>0.2517</td>   <td>False</td>\n",
       "</tr>\n",
       "<tr>\n",
       "       <td>Otto Bock Hand</td>            <td>Passive Hand</td>        <td>-0.0241</td> <td>-0.3814</td> <td>0.3332</td>   <td>False</td>\n",
       "</tr>\n",
       "<tr>\n",
       "       <td>Otto Bock Hand</td>            <td>bebionic Hand</td>       <td>-0.2176</td> <td>-0.3914</td> <td>-0.0438</td>  <td>True</td> \n",
       "</tr>\n",
       "<tr>\n",
       "       <td>Otto Bock Hand</td>             <td>i-limb Hand</td>         <td>0.124</td>  <td>-0.083</td>   <td>0.331</td>   <td>False</td>\n",
       "</tr>\n",
       "<tr>\n",
       "      <td>Otto BockGreifer</td>           <td>Passive Hand</td>        <td>0.1038</td>  <td>-0.3926</td> <td>0.6002</td>   <td>False</td>\n",
       "</tr>\n",
       "<tr>\n",
       "      <td>Otto BockGreifer</td>           <td>bebionic Hand</td>       <td>-0.0897</td> <td>-0.4756</td> <td>0.2962</td>   <td>False</td>\n",
       "</tr>\n",
       "<tr>\n",
       "      <td>Otto BockGreifer</td>            <td>i-limb Hand</td>        <td>0.2519</td>  <td>-0.1501</td> <td>0.6538</td>   <td>False</td>\n",
       "</tr>\n",
       "<tr>\n",
       "        <td>Passive Hand</td>             <td>bebionic Hand</td>       <td>-0.1935</td> <td>-0.5575</td> <td>0.1705</td>   <td>False</td>\n",
       "</tr>\n",
       "<tr>\n",
       "        <td>Passive Hand</td>              <td>i-limb Hand</td>        <td>0.1481</td>  <td>-0.2329</td> <td>0.5291</td>   <td>False</td>\n",
       "</tr>\n",
       "<tr>\n",
       "        <td>bebionic Hand</td>             <td>i-limb Hand</td>        <td>0.3416</td>  <td>0.1232</td>   <td>0.56</td>    <td>True</td> \n",
       "</tr>\n",
       "</table>"
      ],
      "text/plain": [
       "<class 'statsmodels.iolib.table.SimpleTable'>"
      ]
     },
     "execution_count": 27,
     "metadata": {},
     "output_type": "execute_result"
    },
    {
     "data": {
      "image/png": "[encoded data removed]",
      "text/plain": [
       "<matplotlib.figure.Figure at 0x1ec628f3358>"
      ]
     },
     "metadata": {},
     "output_type": "display_data"
    }
   ],
   "source": [
    "TaskDf = pd.concat([sht['PrimaryTerminalDevice'], sht['normalizedTask']], axis=1, keys=['primaryTD','normalizedTask'])\n",
    "TaskDf[\"primaryTD\"] = TaskDf[\"primaryTD\"].replace('Other.*', np.nan, regex=True)\n",
    "TaskDf[\"primaryTD\"] = TaskDf[\"primaryTD\"].replace('TRS.*', np.nan, regex=True)\n",
    "TaskDf = TaskDf.dropna()\n",
    "df = TaskDf.as_matrix()\n",
    "dC = df[:,0].astype(str)\n",
    "oS = df[:,1].astype(float)\n",
    "tukey = pairwise_tukeyhsd(endog = oS,\n",
    "                         groups = dC,\n",
    "                         alpha = 0.05)\n",
    "tukey.plot_simultaneous()    # Plot group confidence intervals\n",
    "tukey.summary() "
   ]
  },
  {
   "cell_type": "markdown",
   "metadata": {},
   "source": [
    "I really like the above graph, it tells us a lot of information the bands are 95% confidence intervals and the dots are the means.  If the bands are narrow, then the brand probably has a lot more data.\n",
    "\n",
    "Unfortunately the ETD has narrow bands and is on the lower end of the score.  It is interesting to note that on both the normalized opus and the normalized task, the bebionic hand and the ETD performed similarly.  I was curious about this so I performed some further analysis.\n",
    "\n",
    "But before that I included a chart below that contains all the brands their score on the Normalized Opus, Normalized Task and the number of respondents included for that brand."
   ]
  },
  {
   "cell_type": "code",
   "execution_count": 30,
   "metadata": {
    "collapsed": false,
    "scrolled": true
   },
   "outputs": [
    {
     "data": {
      "text/html": [
       "<div>\n",
       "<table border=\"1\" class=\"dataframe\">\n",
       "  <thead>\n",
       "    <tr style=\"text-align: right;\">\n",
       "      <th></th>\n",
       "      <th>Normalized Opus</th>\n",
       "      <th>Normalized Task</th>\n",
       "      <th>Count</th>\n",
       "    </tr>\n",
       "  </thead>\n",
       "  <tbody>\n",
       "    <tr>\n",
       "      <th>Hosmer Hook</th>\n",
       "      <td>3.408458</td>\n",
       "      <td>3.331376</td>\n",
       "      <td>45</td>\n",
       "    </tr>\n",
       "    <tr>\n",
       "      <th>i-limb Hand</th>\n",
       "      <td>3.397015</td>\n",
       "      <td>3.254859</td>\n",
       "      <td>61</td>\n",
       "    </tr>\n",
       "    <tr>\n",
       "      <th>Otto BockGreifer</th>\n",
       "      <td>3.394602</td>\n",
       "      <td>3.002976</td>\n",
       "      <td>14</td>\n",
       "    </tr>\n",
       "    <tr>\n",
       "      <th>Other (please specify)</th>\n",
       "      <td>3.384615</td>\n",
       "      <td>2.900000</td>\n",
       "      <td>2</td>\n",
       "    </tr>\n",
       "    <tr>\n",
       "      <th>Michelangelo Hand</th>\n",
       "      <td>3.326328</td>\n",
       "      <td>3.012495</td>\n",
       "      <td>113</td>\n",
       "    </tr>\n",
       "    <tr>\n",
       "      <th>Otto Bock Axon Hook</th>\n",
       "      <td>3.282110</td>\n",
       "      <td>3.156702</td>\n",
       "      <td>27</td>\n",
       "    </tr>\n",
       "    <tr>\n",
       "      <th>Otto Bock Hand</th>\n",
       "      <td>3.262560</td>\n",
       "      <td>3.130862</td>\n",
       "      <td>145</td>\n",
       "    </tr>\n",
       "    <tr>\n",
       "      <th>Passive Hand</th>\n",
       "      <td>3.253799</td>\n",
       "      <td>3.106771</td>\n",
       "      <td>16</td>\n",
       "    </tr>\n",
       "    <tr>\n",
       "      <th>Motion Control (MC) Hand</th>\n",
       "      <td>3.199094</td>\n",
       "      <td>3.089112</td>\n",
       "      <td>459</td>\n",
       "    </tr>\n",
       "    <tr>\n",
       "      <th>Motion Control (MC) ETD</th>\n",
       "      <td>2.988510</td>\n",
       "      <td>2.881623</td>\n",
       "      <td>87</td>\n",
       "    </tr>\n",
       "    <tr>\n",
       "      <th>bebionic Hand</th>\n",
       "      <td>2.982478</td>\n",
       "      <td>2.913254</td>\n",
       "      <td>105</td>\n",
       "    </tr>\n",
       "    <tr>\n",
       "      <th>Body-powered Hand</th>\n",
       "      <td>2.948173</td>\n",
       "      <td>2.855042</td>\n",
       "      <td>136</td>\n",
       "    </tr>\n",
       "    <tr>\n",
       "      <th>TRS Hook</th>\n",
       "      <td>2.885417</td>\n",
       "      <td>2.625000</td>\n",
       "      <td>2</td>\n",
       "    </tr>\n",
       "  </tbody>\n",
       "</table>\n",
       "</div>"
      ],
      "text/plain": [
       "                          Normalized Opus  Normalized Task  Count\n",
       "Hosmer Hook                      3.408458         3.331376     45\n",
       "i-limb Hand                      3.397015         3.254859     61\n",
       "Otto BockGreifer                 3.394602         3.002976     14\n",
       "Other (please specify)           3.384615         2.900000      2\n",
       "Michelangelo Hand                3.326328         3.012495    113\n",
       "Otto Bock Axon Hook              3.282110         3.156702     27\n",
       "Otto Bock Hand                   3.262560         3.130862    145\n",
       "Passive Hand                     3.253799         3.106771     16\n",
       "Motion Control (MC) Hand         3.199094         3.089112    459\n",
       "Motion Control (MC) ETD          2.988510         2.881623     87\n",
       "bebionic Hand                    2.982478         2.913254    105\n",
       "Body-powered Hand                2.948173         2.855042    136\n",
       "TRS Hook                         2.885417         2.625000      2"
      ]
     },
     "execution_count": 30,
     "metadata": {},
     "output_type": "execute_result"
    }
   ],
   "source": [
    "groupbyPrimaryDNT = sht[\"normalizedTask\"].groupby(sht[\"PrimaryTerminalDevice\"])\n",
    "groupbyPrimaryDNO = sht[\"normalizedOpus\"].groupby(sht[\"PrimaryTerminalDevice\"])\n",
    "sortedNT = groupbyPrimaryDNT.mean().sort_values(ascending=False)\n",
    "sortedNO = groupbyPrimaryDNO.mean().sort_values(ascending=False)\n",
    "pd.concat([sortedNO, sortedNT, groupbyPrimaryDNT.count()], axis=1, keys=['Normalized Opus', 'Normalized Task', 'Count']).sort_values(['Normalized Opus', 'Normalized Task'], ascending=False)"
   ]
  },
  {
   "cell_type": "markdown",
   "metadata": {},
   "source": [
    "There is a distinct jump in scores between Motion Control hand and the ETD.  Further bebionic and ETD have very similar scores, let's investigate"
   ]
  },
  {
   "cell_type": "code",
   "execution_count": 40,
   "metadata": {
    "collapsed": false
   },
   "outputs": [
    {
     "name": "stdout",
     "output_type": "stream",
     "text": [
      "The summary stats for the ETD are\n",
      "count    89.000000\n",
      "mean      4.876404\n",
      "std       1.958781\n",
      "min       0.000000\n",
      "25%       4.000000\n",
      "50%       4.000000\n",
      "75%       6.000000\n",
      "max       8.000000\n",
      "Name: numberTasksUseProsthesisTask, dtype: float64\n",
      "\n",
      "The summary stats for the bebionic are\n",
      "count    106.000000\n",
      "mean       6.735849\n",
      "std        2.089894\n",
      "min        0.000000\n",
      "25%        5.000000\n",
      "50%        8.000000\n",
      "75%        8.000000\n",
      "max        8.000000\n",
      "Name: numberTasksUseProsthesisTask, dtype: float64\n"
     ]
    }
   ],
   "source": [
    "print(\"The summary stats for the ETD are\")\n",
    "print(sht.numberTasksUseProsthesisTask[sht['PrimaryTerminalDevice']=='Motion Control (MC) ETD'].dropna().describe())\n",
    "print()\n",
    "print(\"The summary stats for the bebionic are\")\n",
    "print(sht.numberTasksUseProsthesisTask[sht['PrimaryTerminalDevice']== 'bebionic Hand'].dropna().describe())"
   ]
  },
  {
   "cell_type": "markdown",
   "metadata": {},
   "source": [
    "Lots of bebionic users!"
   ]
  },
  {
   "cell_type": "code",
   "execution_count": 41,
   "metadata": {
    "collapsed": false
   },
   "outputs": [
    {
     "data": {
      "image/png": "[encoded data removed]",
      "text/plain": [
       "<matplotlib.figure.Figure at 0x1ec627aedd8>"
      ]
     },
     "metadata": {},
     "output_type": "display_data"
    }
   ],
   "source": [
    "plt.hist(sht.numberTasksUseProsthesisTask[sht['PrimaryTerminalDevice']=='Motion Control (MC) ETD'].dropna(), alpha=0.6, color='b', label = \"ETD\", bins=8)\n",
    "plt.hist(sht.numberTasksUseProsthesisTask[sht['PrimaryTerminalDevice']== 'bebionic Hand'].dropna(), alpha=0.6, color='r', label = \"bebionic\", bins=8)\n",
    "plt.title(\"Number of tasks respondents use prosthesis on\")\n",
    "plt.legend()\n",
    "plt.show()"
   ]
  },
  {
   "cell_type": "markdown",
   "metadata": {},
   "source": [
    "ETD wearers again are only using device on about half of the tasks!  This is what is bringing this score down."
   ]
  }
 ],
 "metadata": {
  "anaconda-cloud": {},
  "kernelspec": {
   "display_name": "Python [Root]",
   "language": "python",
   "name": "Python [Root]"
  },
  "language_info": {
   "codemirror_mode": {
    "name": "ipython",
    "version": 3
   },
   "file_extension": ".py",
   "mimetype": "text/x-python",
   "name": "python",
   "nbconvert_exporter": "python",
   "pygments_lexer": "ipython3",
   "version": "3.5.2"
  }
 },
 "nbformat": 4,
 "nbformat_minor": 0
}
