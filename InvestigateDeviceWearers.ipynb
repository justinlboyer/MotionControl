{
 "cells": [
  {
   "cell_type": "markdown",
   "metadata": {},
   "source": [
    "# Investigate the non-Bot data\n",
    "\n",
    "This document investigates the non-bot data to try and validate the data further to ensure accurate responses."
   ]
  },
  {
   "cell_type": "code",
   "execution_count": 1,
   "metadata": {
    "collapsed": false
   },
   "outputs": [
    {
     "name": "stdout",
     "output_type": "stream",
     "text": [
      "There are 0 duplicates\n"
     ]
    }
   ],
   "source": [
    "import pandas as pd\n",
    "import numpy as np\n",
    "from scipy import stats\n",
    "import matplotlib.pyplot as plt\n",
    "from driverCleanData import cleanData\n",
    "%matplotlib inline\n",
    "[sht,_] = cleanData();\n",
    "newData = pd.read_csv('./newData.csv', names=[\"Index\",\"Score\"])\n",
    "shtNonBot = sht.loc[newData.index]"
   ]
  },
  {
   "cell_type": "code",
   "execution_count": 20,
   "metadata": {
    "collapsed": false
   },
   "outputs": [
    {
     "name": "stdout",
     "output_type": "stream",
     "text": [
      "There were 127.0 respondents who said they have an ETD\n"
     ]
    }
   ],
   "source": [
    "print('There were {0} respondents who said they have an ETD'.format(shtNonBot.DoYouHaveAMotionControlETD.sum()))"
   ]
  },
  {
   "cell_type": "code",
   "execution_count": 21,
   "metadata": {
    "collapsed": false
   },
   "outputs": [
    {
     "name": "stdout",
     "output_type": "stream",
     "text": [
      "There were 98 respondents who said they have an ETD, but dont use it as a primary or secondary\n"
     ]
    }
   ],
   "source": [
    "suspect = shtNonBot[(shtNonBot['DoYouHaveAMotionControlETD']==1) & (shtNonBot[\"PrimaryTerminalDevice\"] != 'Motion Control (MC) ETD') & (shtNonBot['SecondaryDevice'] != 'Motion Control (MC) ETD')]\n",
    "print('There were {0} respondents who said they have an ETD, but dont use it as a primary or secondary'.format(suspect.count()[1]))"
   ]
  },
  {
   "cell_type": "markdown",
   "metadata": {},
   "source": [
    "Let's look at the first few data entries of the respondents who said they have an ETD, but dont use it as a primary or secondary"
   ]
  },
  {
   "cell_type": "code",
   "execution_count": 10,
   "metadata": {
    "collapsed": false
   },
   "outputs": [
    {
     "data": {
      "text/html": [
       "<div>\n",
       "<table border=\"1\" class=\"dataframe\">\n",
       "  <thead>\n",
       "    <tr style=\"text-align: right;\">\n",
       "      <th></th>\n",
       "      <th>RespondentID</th>\n",
       "      <th>CollectorID</th>\n",
       "      <th>StartDate</th>\n",
       "      <th>EndDate</th>\n",
       "      <th>IPAdress</th>\n",
       "      <th>EmailAddress</th>\n",
       "      <th>First Name</th>\n",
       "      <th>LastName</th>\n",
       "      <th>EmptyColumn</th>\n",
       "      <th>Age</th>\n",
       "      <th>...</th>\n",
       "      <th>weightedTaskScore</th>\n",
       "      <th>doYouUseProsthesisOpus</th>\n",
       "      <th>doYouUseProsthesisFull</th>\n",
       "      <th>doYouUseProsthesisTask</th>\n",
       "      <th>numberTasksUseProsthesisOpus</th>\n",
       "      <th>numberTasksUseProsthesisFull</th>\n",
       "      <th>numberTasksUseProsthesisTask</th>\n",
       "      <th>normalizedOpus</th>\n",
       "      <th>normalizedFull</th>\n",
       "      <th>normalizedTask</th>\n",
       "    </tr>\n",
       "  </thead>\n",
       "  <tbody>\n",
       "    <tr>\n",
       "      <th>20.0</th>\n",
       "      <td>5.193542e+09</td>\n",
       "      <td>94652692.0</td>\n",
       "      <td>2017-01-28 02:27:58</td>\n",
       "      <td>2017-01-28 02:35:20</td>\n",
       "      <td>69.167.13.241</td>\n",
       "      <td>NaN</td>\n",
       "      <td>NaN</td>\n",
       "      <td>NaN</td>\n",
       "      <td>NaN</td>\n",
       "      <td>35 to 44</td>\n",
       "      <td>...</td>\n",
       "      <td>118.0</td>\n",
       "      <td>54.0</td>\n",
       "      <td>77.0</td>\n",
       "      <td>23.0</td>\n",
       "      <td>20.0</td>\n",
       "      <td>28.0</td>\n",
       "      <td>8.0</td>\n",
       "      <td>2.700000</td>\n",
       "      <td>2.750000</td>\n",
       "      <td>2.875</td>\n",
       "    </tr>\n",
       "    <tr>\n",
       "      <th>24.0</th>\n",
       "      <td>5.193521e+09</td>\n",
       "      <td>94652692.0</td>\n",
       "      <td>2017-01-28 01:58:56</td>\n",
       "      <td>2017-01-28 02:04:34</td>\n",
       "      <td>104.237.86.79</td>\n",
       "      <td>NaN</td>\n",
       "      <td>NaN</td>\n",
       "      <td>NaN</td>\n",
       "      <td>NaN</td>\n",
       "      <td>35 to 44</td>\n",
       "      <td>...</td>\n",
       "      <td>141.0</td>\n",
       "      <td>70.0</td>\n",
       "      <td>98.0</td>\n",
       "      <td>28.0</td>\n",
       "      <td>20.0</td>\n",
       "      <td>28.0</td>\n",
       "      <td>8.0</td>\n",
       "      <td>3.500000</td>\n",
       "      <td>3.500000</td>\n",
       "      <td>3.500</td>\n",
       "    </tr>\n",
       "    <tr>\n",
       "      <th>217.0</th>\n",
       "      <td>5.189340e+09</td>\n",
       "      <td>94652692.0</td>\n",
       "      <td>2017-01-25 22:58:19</td>\n",
       "      <td>2017-01-25 23:10:33</td>\n",
       "      <td>99.11.243.42</td>\n",
       "      <td>NaN</td>\n",
       "      <td>NaN</td>\n",
       "      <td>NaN</td>\n",
       "      <td>NaN</td>\n",
       "      <td>35 to 44</td>\n",
       "      <td>...</td>\n",
       "      <td>127.0</td>\n",
       "      <td>51.0</td>\n",
       "      <td>60.0</td>\n",
       "      <td>9.0</td>\n",
       "      <td>13.0</td>\n",
       "      <td>16.0</td>\n",
       "      <td>3.0</td>\n",
       "      <td>3.923077</td>\n",
       "      <td>3.750000</td>\n",
       "      <td>3.000</td>\n",
       "    </tr>\n",
       "    <tr>\n",
       "      <th>236.0</th>\n",
       "      <td>5.188460e+09</td>\n",
       "      <td>94652692.0</td>\n",
       "      <td>2017-01-25 14:26:29</td>\n",
       "      <td>2017-01-25 14:33:19</td>\n",
       "      <td>67.229.136.194</td>\n",
       "      <td>NaN</td>\n",
       "      <td>NaN</td>\n",
       "      <td>NaN</td>\n",
       "      <td>NaN</td>\n",
       "      <td>25 to 34</td>\n",
       "      <td>...</td>\n",
       "      <td>137.0</td>\n",
       "      <td>70.0</td>\n",
       "      <td>94.0</td>\n",
       "      <td>24.0</td>\n",
       "      <td>20.0</td>\n",
       "      <td>28.0</td>\n",
       "      <td>8.0</td>\n",
       "      <td>3.500000</td>\n",
       "      <td>3.357143</td>\n",
       "      <td>3.000</td>\n",
       "    </tr>\n",
       "    <tr>\n",
       "      <th>263.0</th>\n",
       "      <td>5.188334e+09</td>\n",
       "      <td>94652692.0</td>\n",
       "      <td>2017-01-25 12:59:40</td>\n",
       "      <td>2017-01-25 13:10:34</td>\n",
       "      <td>54.153.105.106</td>\n",
       "      <td>NaN</td>\n",
       "      <td>NaN</td>\n",
       "      <td>NaN</td>\n",
       "      <td>NaN</td>\n",
       "      <td>18 to 24</td>\n",
       "      <td>...</td>\n",
       "      <td>134.0</td>\n",
       "      <td>41.0</td>\n",
       "      <td>45.0</td>\n",
       "      <td>4.0</td>\n",
       "      <td>11.0</td>\n",
       "      <td>12.0</td>\n",
       "      <td>1.0</td>\n",
       "      <td>3.727273</td>\n",
       "      <td>3.750000</td>\n",
       "      <td>4.000</td>\n",
       "    </tr>\n",
       "  </tbody>\n",
       "</table>\n",
       "<p>5 rows × 269 columns</p>\n",
       "</div>"
      ],
      "text/plain": [
       "       RespondentID  CollectorID           StartDate             EndDate  \\\n",
       "20.0   5.193542e+09   94652692.0 2017-01-28 02:27:58 2017-01-28 02:35:20   \n",
       "24.0   5.193521e+09   94652692.0 2017-01-28 01:58:56 2017-01-28 02:04:34   \n",
       "217.0  5.189340e+09   94652692.0 2017-01-25 22:58:19 2017-01-25 23:10:33   \n",
       "236.0  5.188460e+09   94652692.0 2017-01-25 14:26:29 2017-01-25 14:33:19   \n",
       "263.0  5.188334e+09   94652692.0 2017-01-25 12:59:40 2017-01-25 13:10:34   \n",
       "\n",
       "             IPAdress  EmailAddress  First Name  LastName  EmptyColumn  \\\n",
       "20.0    69.167.13.241           NaN         NaN       NaN          NaN   \n",
       "24.0    104.237.86.79           NaN         NaN       NaN          NaN   \n",
       "217.0    99.11.243.42           NaN         NaN       NaN          NaN   \n",
       "236.0  67.229.136.194           NaN         NaN       NaN          NaN   \n",
       "263.0  54.153.105.106           NaN         NaN       NaN          NaN   \n",
       "\n",
       "            Age      ...       weightedTaskScore doYouUseProsthesisOpus  \\\n",
       "20.0   35 to 44      ...                   118.0                   54.0   \n",
       "24.0   35 to 44      ...                   141.0                   70.0   \n",
       "217.0  35 to 44      ...                   127.0                   51.0   \n",
       "236.0  25 to 34      ...                   137.0                   70.0   \n",
       "263.0  18 to 24      ...                   134.0                   41.0   \n",
       "\n",
       "      doYouUseProsthesisFull doYouUseProsthesisTask  \\\n",
       "20.0                    77.0                   23.0   \n",
       "24.0                    98.0                   28.0   \n",
       "217.0                   60.0                    9.0   \n",
       "236.0                   94.0                   24.0   \n",
       "263.0                   45.0                    4.0   \n",
       "\n",
       "      numberTasksUseProsthesisOpus numberTasksUseProsthesisFull  \\\n",
       "20.0                          20.0                         28.0   \n",
       "24.0                          20.0                         28.0   \n",
       "217.0                         13.0                         16.0   \n",
       "236.0                         20.0                         28.0   \n",
       "263.0                         11.0                         12.0   \n",
       "\n",
       "      numberTasksUseProsthesisTask normalizedOpus normalizedFull  \\\n",
       "20.0                           8.0       2.700000       2.750000   \n",
       "24.0                           8.0       3.500000       3.500000   \n",
       "217.0                          3.0       3.923077       3.750000   \n",
       "236.0                          8.0       3.500000       3.357143   \n",
       "263.0                          1.0       3.727273       3.750000   \n",
       "\n",
       "      normalizedTask  \n",
       "20.0           2.875  \n",
       "24.0           3.500  \n",
       "217.0          3.000  \n",
       "236.0          3.000  \n",
       "263.0          4.000  \n",
       "\n",
       "[5 rows x 269 columns]"
      ]
     },
     "execution_count": 10,
     "metadata": {},
     "output_type": "execute_result"
    }
   ],
   "source": [
    "suspect.head()"
   ]
  },
  {
   "cell_type": "markdown",
   "metadata": {},
   "source": [
    "Defintely some interesting things going on, the first to entries took less than 10 minutes to complete the survey.\n",
    "\n",
    "Let's look into the time it took people to complete the survey."
   ]
  },
  {
   "cell_type": "markdown",
   "metadata": {},
   "source": [
    "### Time taken to complete survey"
   ]
  },
  {
   "cell_type": "code",
   "execution_count": 3,
   "metadata": {
    "collapsed": false
   },
   "outputs": [
    {
     "data": {
      "text/plain": [
       "count                       476\n",
       "mean     0 days 00:15:23.794117\n",
       "std      0 days 00:40:16.685575\n",
       "min             0 days 00:01:06\n",
       "25%             0 days 00:04:32\n",
       "50%      0 days 00:07:35.500000\n",
       "75%      0 days 00:14:07.250000\n",
       "max             0 days 08:48:57\n",
       "dtype: object"
      ]
     },
     "execution_count": 3,
     "metadata": {},
     "output_type": "execute_result"
    }
   ],
   "source": [
    "timeDiff = shtNonBot.EndDate - shtNonBot.StartDate\n",
    "timeDiff = timeDiff.dropna()\n",
    "timeDiff.describe()"
   ]
  },
  {
   "cell_type": "code",
   "execution_count": 12,
   "metadata": {
    "collapsed": false
   },
   "outputs": [
    {
     "data": {
      "image/png": "[encoded data removed]",
      "text/plain": [
       "<matplotlib.figure.Figure at 0x1dc4ed4a518>"
      ]
     },
     "metadata": {},
     "output_type": "display_data"
    }
   ],
   "source": [
    "timeDiffMin = timeDiff.astype('timedelta64[m]')\n",
    "plt.hist(timeDiffMin, bins=500)\n",
    "plt.title('Counts of time taken to complete survey (Non-bot Data)')\n",
    "plt.xlim([0,40])\n",
    "plt.show()"
   ]
  },
  {
   "cell_type": "code",
   "execution_count": 13,
   "metadata": {
    "collapsed": false
   },
   "outputs": [
    {
     "data": {
      "text/html": [
       "<div>\n",
       "<table border=\"1\" class=\"dataframe\">\n",
       "  <thead>\n",
       "    <tr style=\"text-align: right;\">\n",
       "      <th>col_0</th>\n",
       "      <th>c</th>\n",
       "    </tr>\n",
       "    <tr>\n",
       "      <th>row_0</th>\n",
       "      <th></th>\n",
       "    </tr>\n",
       "  </thead>\n",
       "  <tbody>\n",
       "    <tr>\n",
       "      <th>4.0</th>\n",
       "      <td>67</td>\n",
       "    </tr>\n",
       "    <tr>\n",
       "      <th>5.0</th>\n",
       "      <td>53</td>\n",
       "    </tr>\n",
       "    <tr>\n",
       "      <th>3.0</th>\n",
       "      <td>49</td>\n",
       "    </tr>\n",
       "    <tr>\n",
       "      <th>6.0</th>\n",
       "      <td>41</td>\n",
       "    </tr>\n",
       "    <tr>\n",
       "      <th>8.0</th>\n",
       "      <td>24</td>\n",
       "    </tr>\n",
       "  </tbody>\n",
       "</table>\n",
       "</div>"
      ],
      "text/plain": [
       "col_0   c\n",
       "row_0    \n",
       "4.0    67\n",
       "5.0    53\n",
       "3.0    49\n",
       "6.0    41\n",
       "8.0    24"
      ]
     },
     "execution_count": 13,
     "metadata": {},
     "output_type": "execute_result"
    }
   ],
   "source": [
    "pd.crosstab(timeDiffMin, 'c').sort_values(by = 'c', ascending=False).head()"
   ]
  },
  {
   "cell_type": "code",
   "execution_count": 4,
   "metadata": {
    "collapsed": false
   },
   "outputs": [],
   "source": [
    "susIdx = timeDiff[timeDiff.astype('timedelta64[m]') < 15]\n",
    "suspicious = shtNonBot.loc[susIdx.index]\n",
    "notSusIdx = timeDiff[timeDiff.astype('timedelta64[m]') > 15]\n",
    "notSuspicious = shtNonBot.loc[notSusIdx.index]"
   ]
  },
  {
   "cell_type": "code",
   "execution_count": 15,
   "metadata": {
    "collapsed": false
   },
   "outputs": [
    {
     "name": "stderr",
     "output_type": "stream",
     "text": [
      "C:\\Anaconda3\\lib\\site-packages\\numpy\\lib\\function_base.py:3834: RuntimeWarning: Invalid value encountered in percentile\n",
      "  RuntimeWarning)\n"
     ]
    },
    {
     "data": {
      "text/html": [
       "<div>\n",
       "<table border=\"1\" class=\"dataframe\">\n",
       "  <thead>\n",
       "    <tr style=\"text-align: right;\">\n",
       "      <th></th>\n",
       "      <th>RespondentID</th>\n",
       "      <th>CollectorID</th>\n",
       "      <th>EmailAddress</th>\n",
       "      <th>First Name</th>\n",
       "      <th>LastName</th>\n",
       "      <th>EmptyColumn</th>\n",
       "      <th>BrandOfBodyPoweredElbowSpecify</th>\n",
       "      <th>NumberOfDaysOfProsthesisIsWorn</th>\n",
       "      <th>DoYouHaveAHosmerHook</th>\n",
       "      <th>DoYouHaveATRSHook</th>\n",
       "      <th>...</th>\n",
       "      <th>weightedTaskScore</th>\n",
       "      <th>doYouUseProsthesisOpus</th>\n",
       "      <th>doYouUseProsthesisFull</th>\n",
       "      <th>doYouUseProsthesisTask</th>\n",
       "      <th>numberTasksUseProsthesisOpus</th>\n",
       "      <th>numberTasksUseProsthesisFull</th>\n",
       "      <th>numberTasksUseProsthesisTask</th>\n",
       "      <th>normalizedOpus</th>\n",
       "      <th>normalizedFull</th>\n",
       "      <th>normalizedTask</th>\n",
       "    </tr>\n",
       "  </thead>\n",
       "  <tbody>\n",
       "    <tr>\n",
       "      <th>count</th>\n",
       "      <td>2.290000e+02</td>\n",
       "      <td>229.0</td>\n",
       "      <td>0.0</td>\n",
       "      <td>0.0</td>\n",
       "      <td>0.0</td>\n",
       "      <td>0.0</td>\n",
       "      <td>0.0</td>\n",
       "      <td>229.000000</td>\n",
       "      <td>229.000000</td>\n",
       "      <td>229.000000</td>\n",
       "      <td>...</td>\n",
       "      <td>229.000000</td>\n",
       "      <td>229.000000</td>\n",
       "      <td>229.000000</td>\n",
       "      <td>229.000000</td>\n",
       "      <td>229.000000</td>\n",
       "      <td>229.000000</td>\n",
       "      <td>229.000000</td>\n",
       "      <td>229.000000</td>\n",
       "      <td>229.000000</td>\n",
       "      <td>227.000000</td>\n",
       "    </tr>\n",
       "    <tr>\n",
       "      <th>mean</th>\n",
       "      <td>5.180107e+09</td>\n",
       "      <td>94652692.0</td>\n",
       "      <td>NaN</td>\n",
       "      <td>NaN</td>\n",
       "      <td>NaN</td>\n",
       "      <td>NaN</td>\n",
       "      <td>NaN</td>\n",
       "      <td>5.991266</td>\n",
       "      <td>0.414847</td>\n",
       "      <td>0.331878</td>\n",
       "      <td>...</td>\n",
       "      <td>126.790393</td>\n",
       "      <td>55.969432</td>\n",
       "      <td>76.484716</td>\n",
       "      <td>20.515284</td>\n",
       "      <td>17.589520</td>\n",
       "      <td>24.279476</td>\n",
       "      <td>6.689956</td>\n",
       "      <td>3.201874</td>\n",
       "      <td>3.175980</td>\n",
       "      <td>3.103005</td>\n",
       "    </tr>\n",
       "    <tr>\n",
       "      <th>std</th>\n",
       "      <td>8.259684e+06</td>\n",
       "      <td>0.0</td>\n",
       "      <td>NaN</td>\n",
       "      <td>NaN</td>\n",
       "      <td>NaN</td>\n",
       "      <td>NaN</td>\n",
       "      <td>NaN</td>\n",
       "      <td>0.821804</td>\n",
       "      <td>0.493775</td>\n",
       "      <td>0.471919</td>\n",
       "      <td>...</td>\n",
       "      <td>16.751007</td>\n",
       "      <td>13.453100</td>\n",
       "      <td>19.191463</td>\n",
       "      <td>7.079497</td>\n",
       "      <td>4.008442</td>\n",
       "      <td>5.960437</td>\n",
       "      <td>2.211401</td>\n",
       "      <td>0.416554</td>\n",
       "      <td>0.398915</td>\n",
       "      <td>0.413051</td>\n",
       "    </tr>\n",
       "    <tr>\n",
       "      <th>min</th>\n",
       "      <td>5.166566e+09</td>\n",
       "      <td>94652692.0</td>\n",
       "      <td>NaN</td>\n",
       "      <td>NaN</td>\n",
       "      <td>NaN</td>\n",
       "      <td>NaN</td>\n",
       "      <td>NaN</td>\n",
       "      <td>4.000000</td>\n",
       "      <td>0.000000</td>\n",
       "      <td>0.000000</td>\n",
       "      <td>...</td>\n",
       "      <td>75.000000</td>\n",
       "      <td>21.000000</td>\n",
       "      <td>32.000000</td>\n",
       "      <td>0.000000</td>\n",
       "      <td>7.000000</td>\n",
       "      <td>9.000000</td>\n",
       "      <td>0.000000</td>\n",
       "      <td>2.450000</td>\n",
       "      <td>2.500000</td>\n",
       "      <td>2.250000</td>\n",
       "    </tr>\n",
       "    <tr>\n",
       "      <th>25%</th>\n",
       "      <td>5.170590e+09</td>\n",
       "      <td>94652692.0</td>\n",
       "      <td>NaN</td>\n",
       "      <td>NaN</td>\n",
       "      <td>NaN</td>\n",
       "      <td>NaN</td>\n",
       "      <td>NaN</td>\n",
       "      <td>5.000000</td>\n",
       "      <td>0.000000</td>\n",
       "      <td>0.000000</td>\n",
       "      <td>...</td>\n",
       "      <td>116.000000</td>\n",
       "      <td>52.000000</td>\n",
       "      <td>68.000000</td>\n",
       "      <td>17.000000</td>\n",
       "      <td>16.000000</td>\n",
       "      <td>20.000000</td>\n",
       "      <td>5.000000</td>\n",
       "      <td>2.850000</td>\n",
       "      <td>2.821429</td>\n",
       "      <td>NaN</td>\n",
       "    </tr>\n",
       "    <tr>\n",
       "      <th>50%</th>\n",
       "      <td>5.181888e+09</td>\n",
       "      <td>94652692.0</td>\n",
       "      <td>NaN</td>\n",
       "      <td>NaN</td>\n",
       "      <td>NaN</td>\n",
       "      <td>NaN</td>\n",
       "      <td>NaN</td>\n",
       "      <td>6.000000</td>\n",
       "      <td>0.000000</td>\n",
       "      <td>0.000000</td>\n",
       "      <td>...</td>\n",
       "      <td>124.000000</td>\n",
       "      <td>58.000000</td>\n",
       "      <td>80.000000</td>\n",
       "      <td>23.000000</td>\n",
       "      <td>20.000000</td>\n",
       "      <td>28.000000</td>\n",
       "      <td>8.000000</td>\n",
       "      <td>3.150000</td>\n",
       "      <td>3.157895</td>\n",
       "      <td>NaN</td>\n",
       "    </tr>\n",
       "    <tr>\n",
       "      <th>75%</th>\n",
       "      <td>5.186300e+09</td>\n",
       "      <td>94652692.0</td>\n",
       "      <td>NaN</td>\n",
       "      <td>NaN</td>\n",
       "      <td>NaN</td>\n",
       "      <td>NaN</td>\n",
       "      <td>NaN</td>\n",
       "      <td>7.000000</td>\n",
       "      <td>1.000000</td>\n",
       "      <td>1.000000</td>\n",
       "      <td>...</td>\n",
       "      <td>137.000000</td>\n",
       "      <td>66.000000</td>\n",
       "      <td>91.000000</td>\n",
       "      <td>25.000000</td>\n",
       "      <td>20.000000</td>\n",
       "      <td>28.000000</td>\n",
       "      <td>8.000000</td>\n",
       "      <td>3.500000</td>\n",
       "      <td>3.428571</td>\n",
       "      <td>NaN</td>\n",
       "    </tr>\n",
       "    <tr>\n",
       "      <th>max</th>\n",
       "      <td>5.197041e+09</td>\n",
       "      <td>94652692.0</td>\n",
       "      <td>NaN</td>\n",
       "      <td>NaN</td>\n",
       "      <td>NaN</td>\n",
       "      <td>NaN</td>\n",
       "      <td>NaN</td>\n",
       "      <td>7.000000</td>\n",
       "      <td>1.000000</td>\n",
       "      <td>1.000000</td>\n",
       "      <td>...</td>\n",
       "      <td>186.000000</td>\n",
       "      <td>80.000000</td>\n",
       "      <td>110.000000</td>\n",
       "      <td>32.000000</td>\n",
       "      <td>20.000000</td>\n",
       "      <td>28.000000</td>\n",
       "      <td>8.000000</td>\n",
       "      <td>4.000000</td>\n",
       "      <td>4.000000</td>\n",
       "      <td>4.000000</td>\n",
       "    </tr>\n",
       "  </tbody>\n",
       "</table>\n",
       "<p>8 rows × 176 columns</p>\n",
       "</div>"
      ],
      "text/plain": [
       "       RespondentID  CollectorID  EmailAddress  First Name  LastName  \\\n",
       "count  2.290000e+02        229.0           0.0         0.0       0.0   \n",
       "mean   5.180107e+09   94652692.0           NaN         NaN       NaN   \n",
       "std    8.259684e+06          0.0           NaN         NaN       NaN   \n",
       "min    5.166566e+09   94652692.0           NaN         NaN       NaN   \n",
       "25%    5.170590e+09   94652692.0           NaN         NaN       NaN   \n",
       "50%    5.181888e+09   94652692.0           NaN         NaN       NaN   \n",
       "75%    5.186300e+09   94652692.0           NaN         NaN       NaN   \n",
       "max    5.197041e+09   94652692.0           NaN         NaN       NaN   \n",
       "\n",
       "       EmptyColumn  BrandOfBodyPoweredElbowSpecify  \\\n",
       "count          0.0                             0.0   \n",
       "mean           NaN                             NaN   \n",
       "std            NaN                             NaN   \n",
       "min            NaN                             NaN   \n",
       "25%            NaN                             NaN   \n",
       "50%            NaN                             NaN   \n",
       "75%            NaN                             NaN   \n",
       "max            NaN                             NaN   \n",
       "\n",
       "       NumberOfDaysOfProsthesisIsWorn  DoYouHaveAHosmerHook  \\\n",
       "count                      229.000000            229.000000   \n",
       "mean                         5.991266              0.414847   \n",
       "std                          0.821804              0.493775   \n",
       "min                          4.000000              0.000000   \n",
       "25%                          5.000000              0.000000   \n",
       "50%                          6.000000              0.000000   \n",
       "75%                          7.000000              1.000000   \n",
       "max                          7.000000              1.000000   \n",
       "\n",
       "       DoYouHaveATRSHook       ...        weightedTaskScore  \\\n",
       "count         229.000000       ...               229.000000   \n",
       "mean            0.331878       ...               126.790393   \n",
       "std             0.471919       ...                16.751007   \n",
       "min             0.000000       ...                75.000000   \n",
       "25%             0.000000       ...               116.000000   \n",
       "50%             0.000000       ...               124.000000   \n",
       "75%             1.000000       ...               137.000000   \n",
       "max             1.000000       ...               186.000000   \n",
       "\n",
       "       doYouUseProsthesisOpus  doYouUseProsthesisFull  doYouUseProsthesisTask  \\\n",
       "count              229.000000              229.000000              229.000000   \n",
       "mean                55.969432               76.484716               20.515284   \n",
       "std                 13.453100               19.191463                7.079497   \n",
       "min                 21.000000               32.000000                0.000000   \n",
       "25%                 52.000000               68.000000               17.000000   \n",
       "50%                 58.000000               80.000000               23.000000   \n",
       "75%                 66.000000               91.000000               25.000000   \n",
       "max                 80.000000              110.000000               32.000000   \n",
       "\n",
       "       numberTasksUseProsthesisOpus  numberTasksUseProsthesisFull  \\\n",
       "count                    229.000000                    229.000000   \n",
       "mean                      17.589520                     24.279476   \n",
       "std                        4.008442                      5.960437   \n",
       "min                        7.000000                      9.000000   \n",
       "25%                       16.000000                     20.000000   \n",
       "50%                       20.000000                     28.000000   \n",
       "75%                       20.000000                     28.000000   \n",
       "max                       20.000000                     28.000000   \n",
       "\n",
       "       numberTasksUseProsthesisTask  normalizedOpus  normalizedFull  \\\n",
       "count                    229.000000      229.000000      229.000000   \n",
       "mean                       6.689956        3.201874        3.175980   \n",
       "std                        2.211401        0.416554        0.398915   \n",
       "min                        0.000000        2.450000        2.500000   \n",
       "25%                        5.000000        2.850000        2.821429   \n",
       "50%                        8.000000        3.150000        3.157895   \n",
       "75%                        8.000000        3.500000        3.428571   \n",
       "max                        8.000000        4.000000        4.000000   \n",
       "\n",
       "       normalizedTask  \n",
       "count      227.000000  \n",
       "mean         3.103005  \n",
       "std          0.413051  \n",
       "min          2.250000  \n",
       "25%               NaN  \n",
       "50%               NaN  \n",
       "75%               NaN  \n",
       "max          4.000000  \n",
       "\n",
       "[8 rows x 176 columns]"
      ]
     },
     "execution_count": 15,
     "metadata": {},
     "output_type": "execute_result"
    }
   ],
   "source": [
    "suspicious.describe()"
   ]
  },
  {
   "cell_type": "code",
   "execution_count": 27,
   "metadata": {
    "collapsed": false
   },
   "outputs": [
    {
     "data": {
      "text/html": [
       "<div>\n",
       "<table border=\"1\" class=\"dataframe\">\n",
       "  <thead>\n",
       "    <tr style=\"text-align: right;\">\n",
       "      <th>col_0</th>\n",
       "      <th>suspicious_count</th>\n",
       "      <th>notSuspicious_count</th>\n",
       "    </tr>\n",
       "  </thead>\n",
       "  <tbody>\n",
       "    <tr>\n",
       "      <th>Body-powered Hand</th>\n",
       "      <td>50.0</td>\n",
       "      <td>9.0</td>\n",
       "    </tr>\n",
       "    <tr>\n",
       "      <th>Hosmer Hook</th>\n",
       "      <td>22.0</td>\n",
       "      <td>8.0</td>\n",
       "    </tr>\n",
       "    <tr>\n",
       "      <th>Michelangelo Hand</th>\n",
       "      <td>25.0</td>\n",
       "      <td>11.0</td>\n",
       "    </tr>\n",
       "    <tr>\n",
       "      <th>Motion Control (MC) ETD</th>\n",
       "      <td>23.0</td>\n",
       "      <td>7.0</td>\n",
       "    </tr>\n",
       "    <tr>\n",
       "      <th>Motion Control (MC) Hand</th>\n",
       "      <td>119.0</td>\n",
       "      <td>16.0</td>\n",
       "    </tr>\n",
       "    <tr>\n",
       "      <th>Other (please specify)</th>\n",
       "      <td>NaN</td>\n",
       "      <td>1.0</td>\n",
       "    </tr>\n",
       "    <tr>\n",
       "      <th>Otto Bock Axon Hook</th>\n",
       "      <td>8.0</td>\n",
       "      <td>NaN</td>\n",
       "    </tr>\n",
       "    <tr>\n",
       "      <th>Otto Bock Hand</th>\n",
       "      <td>49.0</td>\n",
       "      <td>6.0</td>\n",
       "    </tr>\n",
       "    <tr>\n",
       "      <th>Otto BockGreifer</th>\n",
       "      <td>6.0</td>\n",
       "      <td>NaN</td>\n",
       "    </tr>\n",
       "    <tr>\n",
       "      <th>Passive Hand</th>\n",
       "      <td>3.0</td>\n",
       "      <td>1.0</td>\n",
       "    </tr>\n",
       "    <tr>\n",
       "      <th>TRS Hook</th>\n",
       "      <td>2.0</td>\n",
       "      <td>NaN</td>\n",
       "    </tr>\n",
       "    <tr>\n",
       "      <th>bebionic Hand</th>\n",
       "      <td>44.0</td>\n",
       "      <td>4.0</td>\n",
       "    </tr>\n",
       "    <tr>\n",
       "      <th>i-limb Hand</th>\n",
       "      <td>25.0</td>\n",
       "      <td>2.0</td>\n",
       "    </tr>\n",
       "  </tbody>\n",
       "</table>\n",
       "</div>"
      ],
      "text/plain": [
       "col_0                     suspicious_count  notSuspicious_count\n",
       "Body-powered Hand                     50.0                  9.0\n",
       "Hosmer Hook                           22.0                  8.0\n",
       "Michelangelo Hand                     25.0                 11.0\n",
       "Motion Control (MC) ETD               23.0                  7.0\n",
       "Motion Control (MC) Hand             119.0                 16.0\n",
       "Other (please specify)                 NaN                  1.0\n",
       "Otto Bock Axon Hook                    8.0                  NaN\n",
       "Otto Bock Hand                        49.0                  6.0\n",
       "Otto BockGreifer                       6.0                  NaN\n",
       "Passive Hand                           3.0                  1.0\n",
       "TRS Hook                               2.0                  NaN\n",
       "bebionic Hand                         44.0                  4.0\n",
       "i-limb Hand                           25.0                  2.0"
      ]
     },
     "execution_count": 27,
     "metadata": {},
     "output_type": "execute_result"
    }
   ],
   "source": [
    "pd.concat([pd.crosstab(suspicious.PrimaryTerminalDevice, 'suspicious_count'), pd.crosstab(notSuspicious.PrimaryTerminalDevice, 'notSuspicious_count')], axis=1)"
   ]
  },
  {
   "cell_type": "code",
   "execution_count": 26,
   "metadata": {
    "collapsed": false
   },
   "outputs": [
    {
     "data": {
      "text/plain": [
       "65"
      ]
     },
     "execution_count": 26,
     "metadata": {},
     "output_type": "execute_result"
    }
   ],
   "source": [
    "notSuspicious.count()[1]"
   ]
  },
  {
   "cell_type": "code",
   "execution_count": 18,
   "metadata": {
    "collapsed": false
   },
   "outputs": [
    {
     "data": {
      "text/plain": [
       "16"
      ]
     },
     "execution_count": 18,
     "metadata": {},
     "output_type": "execute_result"
    }
   ],
   "source": [
    "notSusCheck = notSuspicious[(notSuspicious['DoYouHaveAMotionControlETD']==1) & (notSuspicious[\"PrimaryTerminalDevice\"] != 'Motion Control (MC) ETD') & (notSuspicious['SecondaryDevice'] != 'Motion Control (MC) ETD')]\n",
    "notSusCheck.count()[1]"
   ]
  },
  {
   "cell_type": "code",
   "execution_count": 19,
   "metadata": {
    "collapsed": false
   },
   "outputs": [
    {
     "ename": "TypeError",
     "evalue": "first argument must be an iterable of pandas objects, you passed an object of type \"DataFrame\"",
     "output_type": "error",
     "traceback": [
      "\u001b[1;31m---------------------------------------------------------------------------\u001b[0m",
      "\u001b[1;31mTypeError\u001b[0m                                 Traceback (most recent call last)",
      "\u001b[1;32m<ipython-input-19-5e508f039780>\u001b[0m in \u001b[0;36m<module>\u001b[1;34m()\u001b[0m\n\u001b[0;32m      1\u001b[0m \u001b[1;32mfrom\u001b[0m \u001b[0mvectorSubsets\u001b[0m \u001b[1;32mimport\u001b[0m \u001b[0mdoYous\u001b[0m\u001b[1;33m\u001b[0m\u001b[0m\n\u001b[1;32m----> 2\u001b[1;33m \u001b[0mpd\u001b[0m\u001b[1;33m.\u001b[0m\u001b[0mconcat\u001b[0m\u001b[1;33m(\u001b[0m\u001b[0mnotSuspicious\u001b[0m\u001b[1;33m[\u001b[0m\u001b[0mdoYous\u001b[0m\u001b[1;33m]\u001b[0m\u001b[1;33m)\u001b[0m\u001b[1;33m\u001b[0m\u001b[0m\n\u001b[0m",
      "\u001b[1;32mC:\\Anaconda3\\lib\\site-packages\\pandas\\tools\\merge.py\u001b[0m in \u001b[0;36mconcat\u001b[1;34m(objs, axis, join, join_axes, ignore_index, keys, levels, names, verify_integrity, copy)\u001b[0m\n\u001b[0;32m    843\u001b[0m                        \u001b[0mkeys\u001b[0m\u001b[1;33m=\u001b[0m\u001b[0mkeys\u001b[0m\u001b[1;33m,\u001b[0m \u001b[0mlevels\u001b[0m\u001b[1;33m=\u001b[0m\u001b[0mlevels\u001b[0m\u001b[1;33m,\u001b[0m \u001b[0mnames\u001b[0m\u001b[1;33m=\u001b[0m\u001b[0mnames\u001b[0m\u001b[1;33m,\u001b[0m\u001b[1;33m\u001b[0m\u001b[0m\n\u001b[0;32m    844\u001b[0m                        \u001b[0mverify_integrity\u001b[0m\u001b[1;33m=\u001b[0m\u001b[0mverify_integrity\u001b[0m\u001b[1;33m,\u001b[0m\u001b[1;33m\u001b[0m\u001b[0m\n\u001b[1;32m--> 845\u001b[1;33m                        copy=copy)\n\u001b[0m\u001b[0;32m    846\u001b[0m     \u001b[1;32mreturn\u001b[0m \u001b[0mop\u001b[0m\u001b[1;33m.\u001b[0m\u001b[0mget_result\u001b[0m\u001b[1;33m(\u001b[0m\u001b[1;33m)\u001b[0m\u001b[1;33m\u001b[0m\u001b[0m\n\u001b[0;32m    847\u001b[0m \u001b[1;33m\u001b[0m\u001b[0m\n",
      "\u001b[1;32mC:\\Anaconda3\\lib\\site-packages\\pandas\\tools\\merge.py\u001b[0m in \u001b[0;36m__init__\u001b[1;34m(self, objs, axis, join, join_axes, keys, levels, names, ignore_index, verify_integrity, copy)\u001b[0m\n\u001b[0;32m    858\u001b[0m             raise TypeError('first argument must be an iterable of pandas '\n\u001b[0;32m    859\u001b[0m                             \u001b[1;34m'objects, you passed an object of type '\u001b[0m\u001b[1;33m\u001b[0m\u001b[0m\n\u001b[1;32m--> 860\u001b[1;33m                             '\"{0}\"'.format(type(objs).__name__))\n\u001b[0m\u001b[0;32m    861\u001b[0m \u001b[1;33m\u001b[0m\u001b[0m\n\u001b[0;32m    862\u001b[0m         \u001b[1;32mif\u001b[0m \u001b[0mjoin\u001b[0m \u001b[1;33m==\u001b[0m \u001b[1;34m'outer'\u001b[0m\u001b[1;33m:\u001b[0m\u001b[1;33m\u001b[0m\u001b[0m\n",
      "\u001b[1;31mTypeError\u001b[0m: first argument must be an iterable of pandas objects, you passed an object of type \"DataFrame\""
     ]
    }
   ],
   "source": [
    "from vectorSubsets import doYous\n",
    "pd.concat(notSuspicious[doYous])"
   ]
  },
  {
   "cell_type": "markdown",
   "metadata": {
    "collapsed": true
   },
   "source": [
    " how many respondents took the survey as a unilateral with no elbow (arm), listing only one TD ever used, and no secondary device. "
   ]
  },
  {
   "cell_type": "code",
   "execution_count": 32,
   "metadata": {
    "collapsed": false
   },
   "outputs": [
    {
     "name": "stderr",
     "output_type": "stream",
     "text": [
      "C:\\Anaconda3\\lib\\site-packages\\ipykernel\\__main__.py:2: SettingWithCopyWarning: \n",
      "A value is trying to be set on a copy of a slice from a DataFrame.\n",
      "Try using .loc[row_indexer,col_indexer] = value instead\n",
      "\n",
      "See the caveats in the documentation: http://pandas.pydata.org/pandas-docs/stable/indexing.html#indexing-view-versus-copy\n",
      "  from ipykernel import kernelapp as app\n",
      "C:\\Anaconda3\\lib\\site-packages\\ipykernel\\__main__.py:3: SettingWithCopyWarning: \n",
      "A value is trying to be set on a copy of a slice from a DataFrame.\n",
      "Try using .loc[row_indexer,col_indexer] = value instead\n",
      "\n",
      "See the caveats in the documentation: http://pandas.pydata.org/pandas-docs/stable/indexing.html#indexing-view-versus-copy\n",
      "  app.launch_new_instance()\n"
     ]
    }
   ],
   "source": [
    "quick = sht[(sht['IAmABilateralWearer'] == 0) & (sht['SecondaryDevice']=='None')]\n",
    "quick[\"timeDiff\"] = quick.EndDate - quick.StartDate\n",
    "quick['timeDiff'] = quick.timeDiff.astype('timedelta64[m]')\n",
    "sht['timeDiff'] = sht.EndDate - sht.StartDate\n",
    "sht['timeDiff'] = sht.timeDiff.astype('timedelta64[m]')\n",
    "less10 = sht.timeDiff[sht['timeDiff'] < 10]"
   ]
  },
  {
   "cell_type": "code",
   "execution_count": 36,
   "metadata": {
    "collapsed": false
   },
   "outputs": [
    {
     "data": {
      "text/plain": [
       "1.0"
      ]
     },
     "execution_count": 36,
     "metadata": {},
     "output_type": "execute_result"
    }
   ],
   "source": [
    "quick.timeDiff.corr(less10)"
   ]
  },
  {
   "cell_type": "markdown",
   "metadata": {},
   "source": [
    "Perfectly correlated."
   ]
  },
  {
   "cell_type": "code",
   "execution_count": 31,
   "metadata": {
    "collapsed": false
   },
   "outputs": [
    {
     "data": {
      "text/plain": [
       "count    1074.000000\n",
       "mean       13.922719\n",
       "std        31.501543\n",
       "min         1.000000\n",
       "25%         4.000000\n",
       "50%         7.000000\n",
       "75%        13.000000\n",
       "max       528.000000\n",
       "Name: timeDiff, dtype: float64"
      ]
     },
     "execution_count": 31,
     "metadata": {},
     "output_type": "execute_result"
    }
   ],
   "source": [
    "quick.timeDiff.describe()"
   ]
  },
  {
   "cell_type": "code",
   "execution_count": 35,
   "metadata": {
    "collapsed": false
   },
   "outputs": [
    {
     "data": {
      "text/plain": [
       "count    770.000000\n",
       "mean       5.010390\n",
       "std        1.935876\n",
       "min        1.000000\n",
       "25%        4.000000\n",
       "50%        5.000000\n",
       "75%        6.000000\n",
       "max        9.000000\n",
       "Name: timeDiff, dtype: float64"
      ]
     },
     "execution_count": 35,
     "metadata": {},
     "output_type": "execute_result"
    }
   ],
   "source": [
    "less10.describe()"
   ]
  },
  {
   "cell_type": "code",
   "execution_count": null,
   "metadata": {
    "collapsed": true
   },
   "outputs": [],
   "source": []
  }
 ],
 "metadata": {
  "anaconda-cloud": {},
  "kernelspec": {
   "display_name": "Python [Root]",
   "language": "python",
   "name": "Python [Root]"
  },
  "language_info": {
   "codemirror_mode": {
    "name": "ipython",
    "version": 3
   },
   "file_extension": ".py",
   "mimetype": "text/x-python",
   "name": "python",
   "nbconvert_exporter": "python",
   "pygments_lexer": "ipython3",
   "version": "3.5.2"
  }
 },
 "nbformat": 4,
 "nbformat_minor": 0
}
